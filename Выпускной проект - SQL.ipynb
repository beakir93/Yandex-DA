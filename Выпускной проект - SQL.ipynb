{
 "cells": [
  {
   "cell_type": "markdown",
   "metadata": {},
   "source": [
    "# Проект по SQL"
   ]
  },
  {
   "cell_type": "markdown",
   "metadata": {},
   "source": [
    "## Цели\n",
    "\n",
    "Проанализировать базу данных с информацией о книгах, издательствах, авторах, а также пользовательских обзоров книг. \n",
    "\n",
    "На их основе сформулировать ценностное предложение для нового продукта - крупного сервиса для чтения книг по подписке, что может быть востребовано в период коронавирусных ограничений."
   ]
  },
  {
   "cell_type": "markdown",
   "metadata": {},
   "source": [
    "## Описание данных\n",
    "\n",
    "<b> Таблица books </b>\n",
    "Содержит данные о книгах:\n",
    "- book_id — идентификатор книги;\n",
    "- author_id — идентификатор автора;\n",
    "- title — название книги;\n",
    "- num_pages — количество страниц;\n",
    "- publication_date — дата публикации книги;\n",
    "- publisher_id — идентификатор издателя.\n",
    "\n",
    "<b> Таблица authors </b>\n",
    "Содержит данные об авторах:\n",
    "- author_id — идентификатор автора;\n",
    "- author — имя автора.\n",
    "\n",
    "<b> Таблица publishers </b>\n",
    "Содержит данные об издательствах:\n",
    "- publisher_id — идентификатор издательства;\n",
    "- publisher — название издательства;\n",
    "\n",
    "<b> Таблица ratings </b>\n",
    "Содержит данные о пользовательских оценках книг:\n",
    "- rating_id — идентификатор оценки;\n",
    "- book_id — идентификатор книги;\n",
    "- username — имя пользователя, оставившего оценку;\n",
    "- rating — оценка книги.\n",
    "\n",
    "<b> Таблица reviews</b>\n",
    "Содержит данные о пользовательских обзорах:\n",
    "- review_id — идентификатор обзора;\n",
    "- book_id — идентификатор книги;\n",
    "- username — имя автора обзора;\n",
    "- text — текст обзора."
   ]
  },
  {
   "cell_type": "markdown",
   "metadata": {},
   "source": [
    "## Инициализация параметров"
   ]
  },
  {
   "cell_type": "code",
   "execution_count": 1,
   "metadata": {},
   "outputs": [],
   "source": [
    "# импортируем библиотеки\n",
    "import pandas as pd\n",
    "from sqlalchemy import create_engine\n",
    "import logging\n",
    "from IPython.display import display\n",
    "\n",
    "logger = logging.getLogger('logger')\n",
    "logger.setLevel(logging.INFO)"
   ]
  },
  {
   "cell_type": "code",
   "execution_count": 2,
   "metadata": {},
   "outputs": [],
   "source": [
    "# устанавливаем параметры\n",
    "db_config = {'user': 'praktikum_student', # имя пользователя\n",
    "             'pwd': '', # пароль\n",
    "             'host': 'rc1b-wcoijxj3yxfsf3fs.mdb.yandexcloud.net',\n",
    "             'port': 6432, # порт подключения\n",
    "             'db': 'data-analyst-final-project-db'} # название базы данных\n",
    "connection_string = 'postgresql://{}:{}@{}:{}/{}'.format(db_config['user'],\n",
    "                                                         db_config['pwd'],\n",
    "                                                         db_config['host'],\n",
    "                                                         db_config['port'],\n",
    "                                                         db_config['db'])\n",
    "# сохраняем коннектор\n",
    "engine = create_engine(connection_string, connect_args={'sslmode':'require'}) "
   ]
  },
  {
   "cell_type": "code",
   "execution_count": 3,
   "metadata": {},
   "outputs": [],
   "source": [
    "def show_result(sql, show=3, engine=engine):\n",
    "    logger.warning(sql)\n",
    "    pd_df = pd.io.sql.read_sql(sql, con = engine) \n",
    "    print(f\"count= {len(pd_df)}\")\n",
    "    display(pd_df.head(show))\n",
    "    return pd_df"
   ]
  },
  {
   "cell_type": "markdown",
   "metadata": {},
   "source": [
    "## Проверка входных таблиц"
   ]
  },
  {
   "cell_type": "code",
   "execution_count": 4,
   "metadata": {},
   "outputs": [
    {
     "name": "stderr",
     "output_type": "stream",
     "text": [
      "\n",
      "    select *\n",
      "    from books\n",
      "\n"
     ]
    },
    {
     "name": "stdout",
     "output_type": "stream",
     "text": [
      "count= 1000\n"
     ]
    },
    {
     "data": {
      "text/html": [
       "<div>\n",
       "<style scoped>\n",
       "    .dataframe tbody tr th:only-of-type {\n",
       "        vertical-align: middle;\n",
       "    }\n",
       "\n",
       "    .dataframe tbody tr th {\n",
       "        vertical-align: top;\n",
       "    }\n",
       "\n",
       "    .dataframe thead th {\n",
       "        text-align: right;\n",
       "    }\n",
       "</style>\n",
       "<table border=\"1\" class=\"dataframe\">\n",
       "  <thead>\n",
       "    <tr style=\"text-align: right;\">\n",
       "      <th></th>\n",
       "      <th>book_id</th>\n",
       "      <th>author_id</th>\n",
       "      <th>title</th>\n",
       "      <th>num_pages</th>\n",
       "      <th>publication_date</th>\n",
       "      <th>publisher_id</th>\n",
       "    </tr>\n",
       "  </thead>\n",
       "  <tbody>\n",
       "    <tr>\n",
       "      <th>0</th>\n",
       "      <td>1</td>\n",
       "      <td>546</td>\n",
       "      <td>'Salem's Lot</td>\n",
       "      <td>594</td>\n",
       "      <td>2005-11-01</td>\n",
       "      <td>93</td>\n",
       "    </tr>\n",
       "    <tr>\n",
       "      <th>1</th>\n",
       "      <td>2</td>\n",
       "      <td>465</td>\n",
       "      <td>1 000 Places to See Before You Die</td>\n",
       "      <td>992</td>\n",
       "      <td>2003-05-22</td>\n",
       "      <td>336</td>\n",
       "    </tr>\n",
       "    <tr>\n",
       "      <th>2</th>\n",
       "      <td>3</td>\n",
       "      <td>407</td>\n",
       "      <td>13 Little Blue Envelopes (Little Blue Envelope...</td>\n",
       "      <td>322</td>\n",
       "      <td>2010-12-21</td>\n",
       "      <td>135</td>\n",
       "    </tr>\n",
       "    <tr>\n",
       "      <th>3</th>\n",
       "      <td>4</td>\n",
       "      <td>82</td>\n",
       "      <td>1491: New Revelations of the Americas Before C...</td>\n",
       "      <td>541</td>\n",
       "      <td>2006-10-10</td>\n",
       "      <td>309</td>\n",
       "    </tr>\n",
       "    <tr>\n",
       "      <th>4</th>\n",
       "      <td>5</td>\n",
       "      <td>125</td>\n",
       "      <td>1776</td>\n",
       "      <td>386</td>\n",
       "      <td>2006-07-04</td>\n",
       "      <td>268</td>\n",
       "    </tr>\n",
       "  </tbody>\n",
       "</table>\n",
       "</div>"
      ],
      "text/plain": [
       "   book_id  author_id                                              title  \\\n",
       "0        1        546                                       'Salem's Lot   \n",
       "1        2        465                 1 000 Places to See Before You Die   \n",
       "2        3        407  13 Little Blue Envelopes (Little Blue Envelope...   \n",
       "3        4         82  1491: New Revelations of the Americas Before C...   \n",
       "4        5        125                                               1776   \n",
       "\n",
       "   num_pages publication_date  publisher_id  \n",
       "0        594       2005-11-01            93  \n",
       "1        992       2003-05-22           336  \n",
       "2        322       2010-12-21           135  \n",
       "3        541       2006-10-10           309  \n",
       "4        386       2006-07-04           268  "
      ]
     },
     "metadata": {},
     "output_type": "display_data"
    }
   ],
   "source": [
    "sql= \"\"\"\n",
    "    select *\n",
    "    from books\n",
    "\"\"\"\n",
    "\n",
    "c=show_result(sql, 5)"
   ]
  },
  {
   "cell_type": "code",
   "execution_count": 5,
   "metadata": {},
   "outputs": [
    {
     "name": "stderr",
     "output_type": "stream",
     "text": [
      "\n",
      "    select *\n",
      "    from ratings\n",
      "\n"
     ]
    },
    {
     "name": "stdout",
     "output_type": "stream",
     "text": [
      "count= 6456\n"
     ]
    },
    {
     "data": {
      "text/html": [
       "<div>\n",
       "<style scoped>\n",
       "    .dataframe tbody tr th:only-of-type {\n",
       "        vertical-align: middle;\n",
       "    }\n",
       "\n",
       "    .dataframe tbody tr th {\n",
       "        vertical-align: top;\n",
       "    }\n",
       "\n",
       "    .dataframe thead th {\n",
       "        text-align: right;\n",
       "    }\n",
       "</style>\n",
       "<table border=\"1\" class=\"dataframe\">\n",
       "  <thead>\n",
       "    <tr style=\"text-align: right;\">\n",
       "      <th></th>\n",
       "      <th>rating_id</th>\n",
       "      <th>book_id</th>\n",
       "      <th>username</th>\n",
       "      <th>rating</th>\n",
       "    </tr>\n",
       "  </thead>\n",
       "  <tbody>\n",
       "    <tr>\n",
       "      <th>0</th>\n",
       "      <td>1</td>\n",
       "      <td>1</td>\n",
       "      <td>ryanfranco</td>\n",
       "      <td>4</td>\n",
       "    </tr>\n",
       "    <tr>\n",
       "      <th>1</th>\n",
       "      <td>2</td>\n",
       "      <td>1</td>\n",
       "      <td>grantpatricia</td>\n",
       "      <td>2</td>\n",
       "    </tr>\n",
       "    <tr>\n",
       "      <th>2</th>\n",
       "      <td>3</td>\n",
       "      <td>1</td>\n",
       "      <td>brandtandrea</td>\n",
       "      <td>5</td>\n",
       "    </tr>\n",
       "    <tr>\n",
       "      <th>3</th>\n",
       "      <td>4</td>\n",
       "      <td>2</td>\n",
       "      <td>lorichen</td>\n",
       "      <td>3</td>\n",
       "    </tr>\n",
       "    <tr>\n",
       "      <th>4</th>\n",
       "      <td>5</td>\n",
       "      <td>2</td>\n",
       "      <td>mariokeller</td>\n",
       "      <td>2</td>\n",
       "    </tr>\n",
       "  </tbody>\n",
       "</table>\n",
       "</div>"
      ],
      "text/plain": [
       "   rating_id  book_id       username  rating\n",
       "0          1        1     ryanfranco       4\n",
       "1          2        1  grantpatricia       2\n",
       "2          3        1   brandtandrea       5\n",
       "3          4        2       lorichen       3\n",
       "4          5        2    mariokeller       2"
      ]
     },
     "metadata": {},
     "output_type": "display_data"
    }
   ],
   "source": [
    "sql= \"\"\"\n",
    "    select *\n",
    "    from ratings\n",
    "\"\"\"\n",
    "\n",
    "c=show_result(sql, 5)"
   ]
  },
  {
   "cell_type": "code",
   "execution_count": 6,
   "metadata": {},
   "outputs": [
    {
     "name": "stderr",
     "output_type": "stream",
     "text": [
      "\n",
      "    select *\n",
      "    from reviews\n",
      "\n"
     ]
    },
    {
     "name": "stdout",
     "output_type": "stream",
     "text": [
      "count= 2793\n"
     ]
    },
    {
     "data": {
      "text/html": [
       "<div>\n",
       "<style scoped>\n",
       "    .dataframe tbody tr th:only-of-type {\n",
       "        vertical-align: middle;\n",
       "    }\n",
       "\n",
       "    .dataframe tbody tr th {\n",
       "        vertical-align: top;\n",
       "    }\n",
       "\n",
       "    .dataframe thead th {\n",
       "        text-align: right;\n",
       "    }\n",
       "</style>\n",
       "<table border=\"1\" class=\"dataframe\">\n",
       "  <thead>\n",
       "    <tr style=\"text-align: right;\">\n",
       "      <th></th>\n",
       "      <th>review_id</th>\n",
       "      <th>book_id</th>\n",
       "      <th>username</th>\n",
       "      <th>text</th>\n",
       "    </tr>\n",
       "  </thead>\n",
       "  <tbody>\n",
       "    <tr>\n",
       "      <th>0</th>\n",
       "      <td>1</td>\n",
       "      <td>1</td>\n",
       "      <td>brandtandrea</td>\n",
       "      <td>Mention society tell send professor analysis. ...</td>\n",
       "    </tr>\n",
       "    <tr>\n",
       "      <th>1</th>\n",
       "      <td>2</td>\n",
       "      <td>1</td>\n",
       "      <td>ryanfranco</td>\n",
       "      <td>Foot glass pretty audience hit themselves. Amo...</td>\n",
       "    </tr>\n",
       "    <tr>\n",
       "      <th>2</th>\n",
       "      <td>3</td>\n",
       "      <td>2</td>\n",
       "      <td>lorichen</td>\n",
       "      <td>Listen treat keep worry. Miss husband tax but ...</td>\n",
       "    </tr>\n",
       "    <tr>\n",
       "      <th>3</th>\n",
       "      <td>4</td>\n",
       "      <td>3</td>\n",
       "      <td>johnsonamanda</td>\n",
       "      <td>Finally month interesting blue could nature cu...</td>\n",
       "    </tr>\n",
       "    <tr>\n",
       "      <th>4</th>\n",
       "      <td>5</td>\n",
       "      <td>3</td>\n",
       "      <td>scotttamara</td>\n",
       "      <td>Nation purpose heavy give wait song will. List...</td>\n",
       "    </tr>\n",
       "  </tbody>\n",
       "</table>\n",
       "</div>"
      ],
      "text/plain": [
       "   review_id  book_id       username  \\\n",
       "0          1        1   brandtandrea   \n",
       "1          2        1     ryanfranco   \n",
       "2          3        2       lorichen   \n",
       "3          4        3  johnsonamanda   \n",
       "4          5        3    scotttamara   \n",
       "\n",
       "                                                text  \n",
       "0  Mention society tell send professor analysis. ...  \n",
       "1  Foot glass pretty audience hit themselves. Amo...  \n",
       "2  Listen treat keep worry. Miss husband tax but ...  \n",
       "3  Finally month interesting blue could nature cu...  \n",
       "4  Nation purpose heavy give wait song will. List...  "
      ]
     },
     "metadata": {},
     "output_type": "display_data"
    }
   ],
   "source": [
    "sql= \"\"\"\n",
    "    select *\n",
    "    from reviews\n",
    "\"\"\"\n",
    "\n",
    "c=show_result(sql, 5)"
   ]
  },
  {
   "cell_type": "code",
   "execution_count": 7,
   "metadata": {},
   "outputs": [
    {
     "name": "stderr",
     "output_type": "stream",
     "text": [
      "\n",
      "    select *\n",
      "    from authors\n",
      "\n"
     ]
    },
    {
     "name": "stdout",
     "output_type": "stream",
     "text": [
      "count= 636\n"
     ]
    },
    {
     "data": {
      "text/html": [
       "<div>\n",
       "<style scoped>\n",
       "    .dataframe tbody tr th:only-of-type {\n",
       "        vertical-align: middle;\n",
       "    }\n",
       "\n",
       "    .dataframe tbody tr th {\n",
       "        vertical-align: top;\n",
       "    }\n",
       "\n",
       "    .dataframe thead th {\n",
       "        text-align: right;\n",
       "    }\n",
       "</style>\n",
       "<table border=\"1\" class=\"dataframe\">\n",
       "  <thead>\n",
       "    <tr style=\"text-align: right;\">\n",
       "      <th></th>\n",
       "      <th>author_id</th>\n",
       "      <th>author</th>\n",
       "    </tr>\n",
       "  </thead>\n",
       "  <tbody>\n",
       "    <tr>\n",
       "      <th>0</th>\n",
       "      <td>1</td>\n",
       "      <td>A.S. Byatt</td>\n",
       "    </tr>\n",
       "    <tr>\n",
       "      <th>1</th>\n",
       "      <td>2</td>\n",
       "      <td>Aesop/Laura Harris/Laura Gibbs</td>\n",
       "    </tr>\n",
       "    <tr>\n",
       "      <th>2</th>\n",
       "      <td>3</td>\n",
       "      <td>Agatha Christie</td>\n",
       "    </tr>\n",
       "    <tr>\n",
       "      <th>3</th>\n",
       "      <td>4</td>\n",
       "      <td>Alan Brennert</td>\n",
       "    </tr>\n",
       "    <tr>\n",
       "      <th>4</th>\n",
       "      <td>5</td>\n",
       "      <td>Alan Moore/David   Lloyd</td>\n",
       "    </tr>\n",
       "  </tbody>\n",
       "</table>\n",
       "</div>"
      ],
      "text/plain": [
       "   author_id                          author\n",
       "0          1                      A.S. Byatt\n",
       "1          2  Aesop/Laura Harris/Laura Gibbs\n",
       "2          3                 Agatha Christie\n",
       "3          4                   Alan Brennert\n",
       "4          5        Alan Moore/David   Lloyd"
      ]
     },
     "metadata": {},
     "output_type": "display_data"
    }
   ],
   "source": [
    "sql= \"\"\"\n",
    "    select *\n",
    "    from authors\n",
    "\"\"\"\n",
    "\n",
    "c=show_result(sql, 5)"
   ]
  },
  {
   "cell_type": "code",
   "execution_count": 8,
   "metadata": {},
   "outputs": [
    {
     "name": "stderr",
     "output_type": "stream",
     "text": [
      "\n",
      "    select *\n",
      "    from publishers\n",
      "\n"
     ]
    },
    {
     "name": "stdout",
     "output_type": "stream",
     "text": [
      "count= 340\n"
     ]
    },
    {
     "data": {
      "text/html": [
       "<div>\n",
       "<style scoped>\n",
       "    .dataframe tbody tr th:only-of-type {\n",
       "        vertical-align: middle;\n",
       "    }\n",
       "\n",
       "    .dataframe tbody tr th {\n",
       "        vertical-align: top;\n",
       "    }\n",
       "\n",
       "    .dataframe thead th {\n",
       "        text-align: right;\n",
       "    }\n",
       "</style>\n",
       "<table border=\"1\" class=\"dataframe\">\n",
       "  <thead>\n",
       "    <tr style=\"text-align: right;\">\n",
       "      <th></th>\n",
       "      <th>publisher_id</th>\n",
       "      <th>publisher</th>\n",
       "    </tr>\n",
       "  </thead>\n",
       "  <tbody>\n",
       "    <tr>\n",
       "      <th>0</th>\n",
       "      <td>1</td>\n",
       "      <td>Ace</td>\n",
       "    </tr>\n",
       "    <tr>\n",
       "      <th>1</th>\n",
       "      <td>2</td>\n",
       "      <td>Ace Book</td>\n",
       "    </tr>\n",
       "    <tr>\n",
       "      <th>2</th>\n",
       "      <td>3</td>\n",
       "      <td>Ace Books</td>\n",
       "    </tr>\n",
       "    <tr>\n",
       "      <th>3</th>\n",
       "      <td>4</td>\n",
       "      <td>Ace Hardcover</td>\n",
       "    </tr>\n",
       "    <tr>\n",
       "      <th>4</th>\n",
       "      <td>5</td>\n",
       "      <td>Addison Wesley Publishing Company</td>\n",
       "    </tr>\n",
       "  </tbody>\n",
       "</table>\n",
       "</div>"
      ],
      "text/plain": [
       "   publisher_id                          publisher\n",
       "0             1                                Ace\n",
       "1             2                           Ace Book\n",
       "2             3                          Ace Books\n",
       "3             4                      Ace Hardcover\n",
       "4             5  Addison Wesley Publishing Company"
      ]
     },
     "metadata": {},
     "output_type": "display_data"
    }
   ],
   "source": [
    "sql= \"\"\"\n",
    "    select *\n",
    "    from publishers\n",
    "\"\"\"\n",
    "\n",
    "c=show_result(sql, 5)"
   ]
  },
  {
   "cell_type": "code",
   "execution_count": 9,
   "metadata": {},
   "outputs": [
    {
     "name": "stderr",
     "output_type": "stream",
     "text": [
      "\n",
      "    select count(distinct book_id) as cnt_book_id, count(*)\n",
      "    from books\n",
      "\n"
     ]
    },
    {
     "name": "stdout",
     "output_type": "stream",
     "text": [
      "count= 1\n"
     ]
    },
    {
     "data": {
      "text/html": [
       "<div>\n",
       "<style scoped>\n",
       "    .dataframe tbody tr th:only-of-type {\n",
       "        vertical-align: middle;\n",
       "    }\n",
       "\n",
       "    .dataframe tbody tr th {\n",
       "        vertical-align: top;\n",
       "    }\n",
       "\n",
       "    .dataframe thead th {\n",
       "        text-align: right;\n",
       "    }\n",
       "</style>\n",
       "<table border=\"1\" class=\"dataframe\">\n",
       "  <thead>\n",
       "    <tr style=\"text-align: right;\">\n",
       "      <th></th>\n",
       "      <th>cnt_book_id</th>\n",
       "      <th>count</th>\n",
       "    </tr>\n",
       "  </thead>\n",
       "  <tbody>\n",
       "    <tr>\n",
       "      <th>0</th>\n",
       "      <td>1000</td>\n",
       "      <td>1000</td>\n",
       "    </tr>\n",
       "  </tbody>\n",
       "</table>\n",
       "</div>"
      ],
      "text/plain": [
       "   cnt_book_id  count\n",
       "0         1000   1000"
      ]
     },
     "metadata": {},
     "output_type": "display_data"
    }
   ],
   "source": [
    "# check: нет дублей книг\n",
    "\n",
    "sql= \"\"\"\n",
    "    select count(distinct book_id) as cnt_book_id, count(*)\n",
    "    from books\n",
    "\"\"\"\n",
    "\n",
    "c=show_result(sql)"
   ]
  },
  {
   "cell_type": "code",
   "execution_count": 10,
   "metadata": {},
   "outputs": [
    {
     "name": "stderr",
     "output_type": "stream",
     "text": [
      "\n",
      "    select book_id, count(distinct rating_id), count(rating)\n",
      "    from ratings\n",
      "    group by book_id\n",
      "\n"
     ]
    },
    {
     "name": "stdout",
     "output_type": "stream",
     "text": [
      "count= 1000\n"
     ]
    },
    {
     "data": {
      "text/html": [
       "<div>\n",
       "<style scoped>\n",
       "    .dataframe tbody tr th:only-of-type {\n",
       "        vertical-align: middle;\n",
       "    }\n",
       "\n",
       "    .dataframe tbody tr th {\n",
       "        vertical-align: top;\n",
       "    }\n",
       "\n",
       "    .dataframe thead th {\n",
       "        text-align: right;\n",
       "    }\n",
       "</style>\n",
       "<table border=\"1\" class=\"dataframe\">\n",
       "  <thead>\n",
       "    <tr style=\"text-align: right;\">\n",
       "      <th></th>\n",
       "      <th>book_id</th>\n",
       "      <th>count</th>\n",
       "      <th>count</th>\n",
       "    </tr>\n",
       "  </thead>\n",
       "  <tbody>\n",
       "    <tr>\n",
       "      <th>0</th>\n",
       "      <td>1</td>\n",
       "      <td>3</td>\n",
       "      <td>3</td>\n",
       "    </tr>\n",
       "    <tr>\n",
       "      <th>1</th>\n",
       "      <td>2</td>\n",
       "      <td>2</td>\n",
       "      <td>2</td>\n",
       "    </tr>\n",
       "    <tr>\n",
       "      <th>2</th>\n",
       "      <td>3</td>\n",
       "      <td>3</td>\n",
       "      <td>3</td>\n",
       "    </tr>\n",
       "    <tr>\n",
       "      <th>3</th>\n",
       "      <td>4</td>\n",
       "      <td>2</td>\n",
       "      <td>2</td>\n",
       "    </tr>\n",
       "    <tr>\n",
       "      <th>4</th>\n",
       "      <td>5</td>\n",
       "      <td>6</td>\n",
       "      <td>6</td>\n",
       "    </tr>\n",
       "    <tr>\n",
       "      <th>5</th>\n",
       "      <td>6</td>\n",
       "      <td>10</td>\n",
       "      <td>10</td>\n",
       "    </tr>\n",
       "    <tr>\n",
       "      <th>6</th>\n",
       "      <td>7</td>\n",
       "      <td>3</td>\n",
       "      <td>3</td>\n",
       "    </tr>\n",
       "    <tr>\n",
       "      <th>7</th>\n",
       "      <td>8</td>\n",
       "      <td>3</td>\n",
       "      <td>3</td>\n",
       "    </tr>\n",
       "    <tr>\n",
       "      <th>8</th>\n",
       "      <td>9</td>\n",
       "      <td>4</td>\n",
       "      <td>4</td>\n",
       "    </tr>\n",
       "    <tr>\n",
       "      <th>9</th>\n",
       "      <td>10</td>\n",
       "      <td>5</td>\n",
       "      <td>5</td>\n",
       "    </tr>\n",
       "  </tbody>\n",
       "</table>\n",
       "</div>"
      ],
      "text/plain": [
       "   book_id  count  count\n",
       "0        1      3      3\n",
       "1        2      2      2\n",
       "2        3      3      3\n",
       "3        4      2      2\n",
       "4        5      6      6\n",
       "5        6     10     10\n",
       "6        7      3      3\n",
       "7        8      3      3\n",
       "8        9      4      4\n",
       "9       10      5      5"
      ]
     },
     "metadata": {},
     "output_type": "display_data"
    }
   ],
   "source": [
    "# check: нет дублей рейтингов по книгам\n",
    "\n",
    "sql= \"\"\"\n",
    "    select book_id, count(distinct rating_id), count(rating)\n",
    "    from ratings\n",
    "    group by book_id\n",
    "\"\"\"\n",
    "\n",
    "c=show_result(sql, 10)"
   ]
  },
  {
   "cell_type": "markdown",
   "metadata": {},
   "source": [
    "## Задания проекта"
   ]
  },
  {
   "cell_type": "code",
   "execution_count": 11,
   "metadata": {},
   "outputs": [
    {
     "name": "stderr",
     "output_type": "stream",
     "text": [
      "\n",
      "    select count(distinct book_id) as cnt_book_id\n",
      "    from books\n",
      "    where date(publication_date) >= '2000-01-01'\n",
      "\n"
     ]
    },
    {
     "name": "stdout",
     "output_type": "stream",
     "text": [
      "count= 1\n"
     ]
    },
    {
     "data": {
      "text/html": [
       "<div>\n",
       "<style scoped>\n",
       "    .dataframe tbody tr th:only-of-type {\n",
       "        vertical-align: middle;\n",
       "    }\n",
       "\n",
       "    .dataframe tbody tr th {\n",
       "        vertical-align: top;\n",
       "    }\n",
       "\n",
       "    .dataframe thead th {\n",
       "        text-align: right;\n",
       "    }\n",
       "</style>\n",
       "<table border=\"1\" class=\"dataframe\">\n",
       "  <thead>\n",
       "    <tr style=\"text-align: right;\">\n",
       "      <th></th>\n",
       "      <th>cnt_book_id</th>\n",
       "    </tr>\n",
       "  </thead>\n",
       "  <tbody>\n",
       "    <tr>\n",
       "      <th>0</th>\n",
       "      <td>821</td>\n",
       "    </tr>\n",
       "  </tbody>\n",
       "</table>\n",
       "</div>"
      ],
      "text/plain": [
       "   cnt_book_id\n",
       "0          821"
      ]
     },
     "metadata": {},
     "output_type": "display_data"
    }
   ],
   "source": [
    "# Посчитайте, сколько книг вышло после 1 января 2000 года;\n",
    "\n",
    "sql= \"\"\"\n",
    "    select count(distinct book_id) as cnt_book_id\n",
    "    from books\n",
    "    where date(publication_date) >= '2000-01-01'\n",
    "\"\"\"\n",
    "\n",
    "task_1 = show_result(sql)"
   ]
  },
  {
   "cell_type": "markdown",
   "metadata": {},
   "source": [
    "###### Вывод\n",
    "\n",
    "после 1 января 2000 года вышла 821 книга"
   ]
  },
  {
   "cell_type": "code",
   "execution_count": 12,
   "metadata": {},
   "outputs": [
    {
     "name": "stderr",
     "output_type": "stream",
     "text": [
      "\n",
      "    with book_rating as (\n",
      "        select book_id, avg(rating) avg_rating\n",
      "        from ratings\n",
      "        group by book_id\n",
      "    ),\n",
      "    book_review as (\n",
      "        select book_id, count(review_id) cnt_review\n",
      "        from reviews\n",
      "        group by book_id\n",
      "    )\n",
      "    select b.book_id, b.title, avg_rating, cnt_review\n",
      "    from books b\n",
      "    left join book_rating brat on b.book_id = brat.book_id\n",
      "    left join book_review brev on b.book_id = brev.book_id\n",
      "    order by 1 asc\n",
      "\n"
     ]
    },
    {
     "name": "stdout",
     "output_type": "stream",
     "text": [
      "count= 1000\n"
     ]
    },
    {
     "data": {
      "text/html": [
       "<div>\n",
       "<style scoped>\n",
       "    .dataframe tbody tr th:only-of-type {\n",
       "        vertical-align: middle;\n",
       "    }\n",
       "\n",
       "    .dataframe tbody tr th {\n",
       "        vertical-align: top;\n",
       "    }\n",
       "\n",
       "    .dataframe thead th {\n",
       "        text-align: right;\n",
       "    }\n",
       "</style>\n",
       "<table border=\"1\" class=\"dataframe\">\n",
       "  <thead>\n",
       "    <tr style=\"text-align: right;\">\n",
       "      <th></th>\n",
       "      <th>book_id</th>\n",
       "      <th>title</th>\n",
       "      <th>avg_rating</th>\n",
       "      <th>cnt_review</th>\n",
       "    </tr>\n",
       "  </thead>\n",
       "  <tbody>\n",
       "    <tr>\n",
       "      <th>0</th>\n",
       "      <td>1</td>\n",
       "      <td>'Salem's Lot</td>\n",
       "      <td>3.666667</td>\n",
       "      <td>2.0</td>\n",
       "    </tr>\n",
       "    <tr>\n",
       "      <th>1</th>\n",
       "      <td>2</td>\n",
       "      <td>1 000 Places to See Before You Die</td>\n",
       "      <td>2.500000</td>\n",
       "      <td>1.0</td>\n",
       "    </tr>\n",
       "    <tr>\n",
       "      <th>2</th>\n",
       "      <td>3</td>\n",
       "      <td>13 Little Blue Envelopes (Little Blue Envelope...</td>\n",
       "      <td>4.666667</td>\n",
       "      <td>3.0</td>\n",
       "    </tr>\n",
       "    <tr>\n",
       "      <th>3</th>\n",
       "      <td>4</td>\n",
       "      <td>1491: New Revelations of the Americas Before C...</td>\n",
       "      <td>4.500000</td>\n",
       "      <td>2.0</td>\n",
       "    </tr>\n",
       "    <tr>\n",
       "      <th>4</th>\n",
       "      <td>5</td>\n",
       "      <td>1776</td>\n",
       "      <td>4.000000</td>\n",
       "      <td>4.0</td>\n",
       "    </tr>\n",
       "    <tr>\n",
       "      <th>5</th>\n",
       "      <td>6</td>\n",
       "      <td>1st to Die (Women's Murder Club  #1)</td>\n",
       "      <td>3.500000</td>\n",
       "      <td>4.0</td>\n",
       "    </tr>\n",
       "    <tr>\n",
       "      <th>6</th>\n",
       "      <td>7</td>\n",
       "      <td>2nd Chance (Women's Murder Club  #2)</td>\n",
       "      <td>3.000000</td>\n",
       "      <td>3.0</td>\n",
       "    </tr>\n",
       "    <tr>\n",
       "      <th>7</th>\n",
       "      <td>8</td>\n",
       "      <td>4th of July (Women's Murder Club  #4)</td>\n",
       "      <td>4.000000</td>\n",
       "      <td>3.0</td>\n",
       "    </tr>\n",
       "    <tr>\n",
       "      <th>8</th>\n",
       "      <td>9</td>\n",
       "      <td>A Beautiful Mind</td>\n",
       "      <td>4.250000</td>\n",
       "      <td>2.0</td>\n",
       "    </tr>\n",
       "    <tr>\n",
       "      <th>9</th>\n",
       "      <td>10</td>\n",
       "      <td>A Bend in the Road</td>\n",
       "      <td>3.200000</td>\n",
       "      <td>3.0</td>\n",
       "    </tr>\n",
       "  </tbody>\n",
       "</table>\n",
       "</div>"
      ],
      "text/plain": [
       "   book_id                                              title  avg_rating  \\\n",
       "0        1                                       'Salem's Lot    3.666667   \n",
       "1        2                 1 000 Places to See Before You Die    2.500000   \n",
       "2        3  13 Little Blue Envelopes (Little Blue Envelope...    4.666667   \n",
       "3        4  1491: New Revelations of the Americas Before C...    4.500000   \n",
       "4        5                                               1776    4.000000   \n",
       "5        6               1st to Die (Women's Murder Club  #1)    3.500000   \n",
       "6        7               2nd Chance (Women's Murder Club  #2)    3.000000   \n",
       "7        8              4th of July (Women's Murder Club  #4)    4.000000   \n",
       "8        9                                   A Beautiful Mind    4.250000   \n",
       "9       10                                 A Bend in the Road    3.200000   \n",
       "\n",
       "   cnt_review  \n",
       "0         2.0  \n",
       "1         1.0  \n",
       "2         3.0  \n",
       "3         2.0  \n",
       "4         4.0  \n",
       "5         4.0  \n",
       "6         3.0  \n",
       "7         3.0  \n",
       "8         2.0  \n",
       "9         3.0  "
      ]
     },
     "metadata": {},
     "output_type": "display_data"
    }
   ],
   "source": [
    "# Для каждой книги посчитайте количество обзоров и среднюю оценку\n",
    "\n",
    "sql= \"\"\"\n",
    "    with book_rating as (\n",
    "        select book_id, avg(rating) avg_rating\n",
    "        from ratings\n",
    "        group by book_id\n",
    "    ),\n",
    "    book_review as (\n",
    "        select book_id, count(review_id) cnt_review\n",
    "        from reviews\n",
    "        group by book_id\n",
    "    )\n",
    "    select b.book_id, b.title, avg_rating, cnt_review\n",
    "    from books b\n",
    "    left join book_rating brat on b.book_id = brat.book_id\n",
    "    left join book_review brev on b.book_id = brev.book_id\n",
    "    order by 1 asc\n",
    "\"\"\"\n",
    "\n",
    "\n",
    "task_2 = show_result(sql, 10)"
   ]
  },
  {
   "cell_type": "markdown",
   "metadata": {},
   "source": [
    "###### Вывод\n",
    "\n",
    "- произвели расчет для каждой книги среднего рейтинга и количества обзоров\n",
    "- убедились что не образовалось дублей в финальной таблице\n",
    "- отсортировали по id книги"
   ]
  },
  {
   "cell_type": "code",
   "execution_count": 13,
   "metadata": {},
   "outputs": [
    {
     "name": "stderr",
     "output_type": "stream",
     "text": [
      "\n",
      "    select p.publisher_id, p.publisher, count(distinct book_id) cnt_book\n",
      "    from publishers p\n",
      "    inner join books b on p.publisher_id = b.publisher_id\n",
      "    where b.num_pages > 50\n",
      "    group by p.publisher_id, p.publisher\n",
      "    order by 3 desc\n",
      "\n"
     ]
    },
    {
     "name": "stdout",
     "output_type": "stream",
     "text": [
      "count= 334\n"
     ]
    },
    {
     "data": {
      "text/html": [
       "<div>\n",
       "<style scoped>\n",
       "    .dataframe tbody tr th:only-of-type {\n",
       "        vertical-align: middle;\n",
       "    }\n",
       "\n",
       "    .dataframe tbody tr th {\n",
       "        vertical-align: top;\n",
       "    }\n",
       "\n",
       "    .dataframe thead th {\n",
       "        text-align: right;\n",
       "    }\n",
       "</style>\n",
       "<table border=\"1\" class=\"dataframe\">\n",
       "  <thead>\n",
       "    <tr style=\"text-align: right;\">\n",
       "      <th></th>\n",
       "      <th>publisher_id</th>\n",
       "      <th>publisher</th>\n",
       "      <th>cnt_book</th>\n",
       "    </tr>\n",
       "  </thead>\n",
       "  <tbody>\n",
       "    <tr>\n",
       "      <th>0</th>\n",
       "      <td>212</td>\n",
       "      <td>Penguin Books</td>\n",
       "      <td>42</td>\n",
       "    </tr>\n",
       "  </tbody>\n",
       "</table>\n",
       "</div>"
      ],
      "text/plain": [
       "   publisher_id      publisher  cnt_book\n",
       "0           212  Penguin Books        42"
      ]
     },
     "metadata": {},
     "output_type": "display_data"
    }
   ],
   "source": [
    "# Определите издательство, которое выпустило наибольшее число книг толще 50 страниц — так вы исключите из анализа брошюры\n",
    "\n",
    "sql = \"\"\"\n",
    "    select p.publisher_id, p.publisher, count(distinct book_id) cnt_book\n",
    "    from publishers p\n",
    "    inner join books b on p.publisher_id = b.publisher_id\n",
    "    where b.num_pages > 50\n",
    "    group by p.publisher_id, p.publisher\n",
    "    order by 3 desc\n",
    "\"\"\"\n",
    "\n",
    "task_3 = show_result(sql, 1)"
   ]
  },
  {
   "cell_type": "markdown",
   "metadata": {},
   "source": [
    "###### Вывод\n",
    "\n",
    "- издательство, которое выпустило наибольшее число книг толще 50 страниц - Penguin Booksб\n",
    "- количество выпущенных этим издательством книг - 42\n",
    "- в task_3 лежит статистика по всем издательствам, на вывод подал только одну строку топ 1, согласно заданию"
   ]
  },
  {
   "cell_type": "code",
   "execution_count": 14,
   "metadata": {},
   "outputs": [
    {
     "name": "stderr",
     "output_type": "stream",
     "text": [
      "\n",
      "    with books_over_50_ratings as (\n",
      "        select b.book_id, b.author_id, author, count(rating) as cnt_rating, avg(rating) as avg_rating\n",
      "        from books b \n",
      "        inner join ratings r on b.book_id = r.book_id\n",
      "        inner join authors a on b.author_id = a.author_id\n",
      "        group by b.book_id, b.author_id, author\n",
      "        having count(rating) >= 50\n",
      "    )\n",
      "    select author, avg(avg_rating)\n",
      "    from books_over_50_ratings\n",
      "    group by author\n",
      "    order by 2 desc\n",
      "\n"
     ]
    },
    {
     "name": "stdout",
     "output_type": "stream",
     "text": [
      "count= 14\n"
     ]
    },
    {
     "data": {
      "text/html": [
       "<div>\n",
       "<style scoped>\n",
       "    .dataframe tbody tr th:only-of-type {\n",
       "        vertical-align: middle;\n",
       "    }\n",
       "\n",
       "    .dataframe tbody tr th {\n",
       "        vertical-align: top;\n",
       "    }\n",
       "\n",
       "    .dataframe thead th {\n",
       "        text-align: right;\n",
       "    }\n",
       "</style>\n",
       "<table border=\"1\" class=\"dataframe\">\n",
       "  <thead>\n",
       "    <tr style=\"text-align: right;\">\n",
       "      <th></th>\n",
       "      <th>author</th>\n",
       "      <th>avg</th>\n",
       "    </tr>\n",
       "  </thead>\n",
       "  <tbody>\n",
       "    <tr>\n",
       "      <th>0</th>\n",
       "      <td>J.K. Rowling/Mary GrandPré</td>\n",
       "      <td>4.283844</td>\n",
       "    </tr>\n",
       "  </tbody>\n",
       "</table>\n",
       "</div>"
      ],
      "text/plain": [
       "                       author       avg\n",
       "0  J.K. Rowling/Mary GrandPré  4.283844"
      ]
     },
     "metadata": {},
     "output_type": "display_data"
    }
   ],
   "source": [
    "# Определите автора с самой высокой средней оценкой книг — учитывайте только книги с 50 и более оценками\n",
    "\n",
    "sql = \"\"\"\n",
    "    with books_over_50_ratings as (\n",
    "        select b.book_id, b.author_id, author, count(rating) as cnt_rating, avg(rating) as avg_rating\n",
    "        from books b \n",
    "        inner join ratings r on b.book_id = r.book_id\n",
    "        inner join authors a on b.author_id = a.author_id\n",
    "        group by b.book_id, b.author_id, author\n",
    "        having count(rating) >= 50\n",
    "    )\n",
    "    select author, avg(avg_rating)\n",
    "    from books_over_50_ratings\n",
    "    group by author\n",
    "    order by 2 desc\n",
    "\"\"\"\n",
    "\n",
    "task_4 = show_result(sql, 1)"
   ]
  },
  {
   "cell_type": "markdown",
   "metadata": {},
   "source": [
    "###### Вывод\n",
    "\n",
    "- автора с самой высокой средней оценкой книг - J.K. Rowling/Mary GrandPré\n",
    "- средняя оценка книг у этого автора 4.283844\n",
    "- в task_4 лежит статистика по всем авторам книг, по которым было выставлено более 50 оценок, на вывод подал только одну строку топ 1, согласно заданию"
   ]
  },
  {
   "cell_type": "code",
   "execution_count": 15,
   "metadata": {},
   "outputs": [
    {
     "name": "stderr",
     "output_type": "stream",
     "text": [
      "\n",
      "    with rat as (\n",
      "        select username, count(*) cnt_rating\n",
      "        from ratings\n",
      "        group by username\n",
      "        having count(*) > 50\n",
      "    ), \n",
      "    temp as (\n",
      "        select rat.username, cnt_rating, count(distinct rev.review_id) cnt_review\n",
      "        from rat\n",
      "        inner join reviews rev on rat.username = rev.username\n",
      "        group by rat.username, cnt_rating\n",
      "    )\n",
      "    select avg(cnt_review)\n",
      "    from temp\n",
      "\n"
     ]
    },
    {
     "name": "stdout",
     "output_type": "stream",
     "text": [
      "count= 1\n"
     ]
    },
    {
     "data": {
      "text/html": [
       "<div>\n",
       "<style scoped>\n",
       "    .dataframe tbody tr th:only-of-type {\n",
       "        vertical-align: middle;\n",
       "    }\n",
       "\n",
       "    .dataframe tbody tr th {\n",
       "        vertical-align: top;\n",
       "    }\n",
       "\n",
       "    .dataframe thead th {\n",
       "        text-align: right;\n",
       "    }\n",
       "</style>\n",
       "<table border=\"1\" class=\"dataframe\">\n",
       "  <thead>\n",
       "    <tr style=\"text-align: right;\">\n",
       "      <th></th>\n",
       "      <th>avg</th>\n",
       "    </tr>\n",
       "  </thead>\n",
       "  <tbody>\n",
       "    <tr>\n",
       "      <th>0</th>\n",
       "      <td>24.333333</td>\n",
       "    </tr>\n",
       "  </tbody>\n",
       "</table>\n",
       "</div>"
      ],
      "text/plain": [
       "         avg\n",
       "0  24.333333"
      ]
     },
     "metadata": {},
     "output_type": "display_data"
    }
   ],
   "source": [
    "# Посчитайте среднее количество обзоров от пользователей, которые поставили больше 50 оценок\n",
    "\n",
    "sql = \"\"\"\n",
    "    with rat as (\n",
    "        select username, count(*) cnt_rating\n",
    "        from ratings\n",
    "        group by username\n",
    "        having count(*) > 50\n",
    "    ), \n",
    "    temp as (\n",
    "        select rat.username, cnt_rating, count(distinct rev.review_id) cnt_review\n",
    "        from rat\n",
    "        inner join reviews rev on rat.username = rev.username\n",
    "        group by rat.username, cnt_rating\n",
    "    )\n",
    "    select avg(cnt_review)\n",
    "    from temp\n",
    "\"\"\"\n",
    "\n",
    "task_5 = show_result(sql, 10)"
   ]
  },
  {
   "cell_type": "markdown",
   "metadata": {},
   "source": [
    "###### Вывод\n",
    "\n",
    "- среднее количество обзоров от пользователей, которые поставили больше 50 оценок - 24.3\n",
    "- пользователь sfitzgerald оставил 28 обзоров, при этом оставил 55 рейтингов"
   ]
  }
 ],
 "metadata": {
  "ExecuteTimeLog": [
   {
    "duration": 204,
    "start_time": "2022-04-19T08:41:24.352Z"
   },
   {
    "duration": 9733,
    "start_time": "2022-04-19T08:41:31.928Z"
   },
   {
    "duration": 28,
    "start_time": "2022-04-19T08:42:30.143Z"
   },
   {
    "duration": 14,
    "start_time": "2022-04-19T08:42:32.824Z"
   },
   {
    "duration": 3,
    "start_time": "2022-04-19T08:45:07.899Z"
   },
   {
    "duration": 4,
    "start_time": "2022-04-19T08:46:03.551Z"
   },
   {
    "duration": 13,
    "start_time": "2022-04-19T08:46:09.792Z"
   },
   {
    "duration": 3,
    "start_time": "2022-04-19T08:46:29.043Z"
   },
   {
    "duration": 13,
    "start_time": "2022-04-19T08:46:29.834Z"
   },
   {
    "duration": 3,
    "start_time": "2022-04-19T08:46:50.372Z"
   },
   {
    "duration": 4,
    "start_time": "2022-04-19T08:46:50.788Z"
   },
   {
    "duration": 3,
    "start_time": "2022-04-19T08:46:50.996Z"
   },
   {
    "duration": 30,
    "start_time": "2022-04-19T08:46:51.329Z"
   },
   {
    "duration": 3,
    "start_time": "2022-04-19T08:46:56.050Z"
   },
   {
    "duration": 15,
    "start_time": "2022-04-19T08:46:56.584Z"
   },
   {
    "duration": 3,
    "start_time": "2022-04-19T08:47:02.565Z"
   },
   {
    "duration": 15,
    "start_time": "2022-04-19T08:47:03.195Z"
   },
   {
    "duration": 2,
    "start_time": "2022-04-19T08:48:19.889Z"
   },
   {
    "duration": 13,
    "start_time": "2022-04-19T08:48:20.333Z"
   },
   {
    "duration": 3,
    "start_time": "2022-04-19T08:48:24.071Z"
   },
   {
    "duration": 12,
    "start_time": "2022-04-19T08:48:25.165Z"
   },
   {
    "duration": 2,
    "start_time": "2022-04-19T08:48:28.731Z"
   },
   {
    "duration": 4,
    "start_time": "2022-04-19T08:48:28.987Z"
   },
   {
    "duration": 3,
    "start_time": "2022-04-19T08:48:29.139Z"
   },
   {
    "duration": 24,
    "start_time": "2022-04-19T08:48:29.482Z"
   },
   {
    "duration": 64,
    "start_time": "2022-04-19T08:48:35.583Z"
   },
   {
    "duration": 4,
    "start_time": "2022-04-19T08:48:35.758Z"
   },
   {
    "duration": 3,
    "start_time": "2022-04-19T08:48:35.904Z"
   },
   {
    "duration": 4,
    "start_time": "2022-04-19T08:48:40.981Z"
   },
   {
    "duration": 4,
    "start_time": "2022-04-19T08:48:41.233Z"
   },
   {
    "duration": 4,
    "start_time": "2022-04-19T08:48:41.634Z"
   },
   {
    "duration": 29,
    "start_time": "2022-04-19T08:48:41.945Z"
   },
   {
    "duration": 3,
    "start_time": "2022-04-19T08:48:46.763Z"
   },
   {
    "duration": 14,
    "start_time": "2022-04-19T08:48:47.006Z"
   },
   {
    "duration": 3,
    "start_time": "2022-04-19T08:48:58.631Z"
   },
   {
    "duration": 14,
    "start_time": "2022-04-19T08:48:58.967Z"
   },
   {
    "duration": 3,
    "start_time": "2022-04-19T08:49:03.911Z"
   },
   {
    "duration": 16,
    "start_time": "2022-04-19T08:49:04.138Z"
   },
   {
    "duration": 3,
    "start_time": "2022-04-19T08:49:18.948Z"
   },
   {
    "duration": 14,
    "start_time": "2022-04-19T08:49:19.143Z"
   },
   {
    "duration": 8,
    "start_time": "2022-04-19T08:49:19.559Z"
   },
   {
    "duration": 3,
    "start_time": "2022-04-19T08:49:24.559Z"
   },
   {
    "duration": 10,
    "start_time": "2022-04-19T08:49:24.831Z"
   },
   {
    "duration": 3,
    "start_time": "2022-04-19T08:49:28.551Z"
   },
   {
    "duration": 14,
    "start_time": "2022-04-19T08:49:29.308Z"
   },
   {
    "duration": 15,
    "start_time": "2022-04-19T08:53:25.144Z"
   },
   {
    "duration": 14,
    "start_time": "2022-04-19T08:53:31.680Z"
   },
   {
    "duration": 191,
    "start_time": "2022-04-19T08:53:35.844Z"
   },
   {
    "duration": 19,
    "start_time": "2022-04-19T08:53:53.383Z"
   },
   {
    "duration": 22,
    "start_time": "2022-04-19T08:53:59.891Z"
   },
   {
    "duration": 12,
    "start_time": "2022-04-19T08:54:28.141Z"
   },
   {
    "duration": 12,
    "start_time": "2022-04-19T08:54:45.965Z"
   },
   {
    "duration": 11,
    "start_time": "2022-04-19T08:55:07.175Z"
   },
   {
    "duration": 12,
    "start_time": "2022-04-19T08:55:14.876Z"
   },
   {
    "duration": 11,
    "start_time": "2022-04-19T08:55:24.680Z"
   },
   {
    "duration": 11,
    "start_time": "2022-04-19T08:55:27.553Z"
   },
   {
    "duration": 48,
    "start_time": "2022-04-19T09:15:44.100Z"
   },
   {
    "duration": 17,
    "start_time": "2022-04-19T09:16:16.673Z"
   },
   {
    "duration": 5,
    "start_time": "2022-04-19T09:17:11.922Z"
   },
   {
    "duration": 17,
    "start_time": "2022-04-19T09:17:12.121Z"
   },
   {
    "duration": 10,
    "start_time": "2022-04-19T09:17:16.727Z"
   },
   {
    "duration": 9,
    "start_time": "2022-04-19T09:17:21.591Z"
   },
   {
    "duration": 21,
    "start_time": "2022-04-19T09:17:26.890Z"
   },
   {
    "duration": 15,
    "start_time": "2022-04-19T09:17:32.259Z"
   },
   {
    "duration": 3,
    "start_time": "2022-04-19T09:17:56.234Z"
   },
   {
    "duration": 4,
    "start_time": "2022-04-19T09:17:57.818Z"
   },
   {
    "duration": 3,
    "start_time": "2022-04-19T09:18:01.524Z"
   },
   {
    "duration": 38,
    "start_time": "2022-04-19T09:18:01.784Z"
   },
   {
    "duration": 17,
    "start_time": "2022-04-19T09:18:02.717Z"
   },
   {
    "duration": 15,
    "start_time": "2022-04-19T09:18:05.937Z"
   },
   {
    "duration": 24,
    "start_time": "2022-04-19T09:18:13.195Z"
   },
   {
    "duration": 193,
    "start_time": "2022-04-19T09:19:23.229Z"
   },
   {
    "duration": 17,
    "start_time": "2022-04-19T09:19:29.543Z"
   },
   {
    "duration": 3,
    "start_time": "2022-04-19T09:21:01.558Z"
   },
   {
    "duration": 22,
    "start_time": "2022-04-19T09:21:02.289Z"
   },
   {
    "duration": 3,
    "start_time": "2022-04-19T09:21:06.906Z"
   },
   {
    "duration": 12,
    "start_time": "2022-04-19T09:21:07.124Z"
   },
   {
    "duration": 16,
    "start_time": "2022-04-19T09:21:09.476Z"
   },
   {
    "duration": 20,
    "start_time": "2022-04-19T09:21:11.704Z"
   },
   {
    "duration": 3,
    "start_time": "2022-04-19T09:21:21.753Z"
   },
   {
    "duration": 11,
    "start_time": "2022-04-19T09:21:22.061Z"
   },
   {
    "duration": 17,
    "start_time": "2022-04-19T09:21:22.221Z"
   },
   {
    "duration": 11,
    "start_time": "2022-04-19T09:21:22.776Z"
   },
   {
    "duration": 217,
    "start_time": "2022-04-19T09:21:24.236Z"
   },
   {
    "duration": 221,
    "start_time": "2022-04-19T09:22:19.966Z"
   },
   {
    "duration": 219,
    "start_time": "2022-04-19T09:22:36.012Z"
   },
   {
    "duration": 1677,
    "start_time": "2022-04-19T09:22:47.214Z"
   },
   {
    "duration": 181,
    "start_time": "2022-04-19T09:25:41.252Z"
   },
   {
    "duration": 191,
    "start_time": "2022-04-19T09:25:53.072Z"
   },
   {
    "duration": 15,
    "start_time": "2022-04-19T09:25:55.981Z"
   },
   {
    "duration": 15,
    "start_time": "2022-04-19T09:26:04.777Z"
   },
   {
    "duration": 32,
    "start_time": "2022-04-19T09:26:14.302Z"
   },
   {
    "duration": 23,
    "start_time": "2022-04-19T09:29:17.406Z"
   },
   {
    "duration": 46,
    "start_time": "2022-04-19T09:29:26.545Z"
   },
   {
    "duration": 205,
    "start_time": "2022-04-19T09:30:18.018Z"
   },
   {
    "duration": 22,
    "start_time": "2022-04-19T09:30:29.047Z"
   },
   {
    "duration": 222,
    "start_time": "2022-04-19T09:30:43.041Z"
   },
   {
    "duration": 22,
    "start_time": "2022-04-19T09:30:50.442Z"
   },
   {
    "duration": 208,
    "start_time": "2022-04-19T09:31:10.422Z"
   },
   {
    "duration": 699,
    "start_time": "2022-04-19T09:31:22.931Z"
   },
   {
    "duration": 216,
    "start_time": "2022-04-19T09:31:39.681Z"
   },
   {
    "duration": 236,
    "start_time": "2022-04-19T09:31:46.357Z"
   },
   {
    "duration": 3047,
    "start_time": "2022-04-19T09:31:51.486Z"
   },
   {
    "duration": 776,
    "start_time": "2022-04-19T09:32:07.764Z"
   },
   {
    "duration": 18,
    "start_time": "2022-04-19T09:32:24.027Z"
   },
   {
    "duration": 14,
    "start_time": "2022-04-19T09:32:30.149Z"
   },
   {
    "duration": 15,
    "start_time": "2022-04-19T09:32:34.362Z"
   },
   {
    "duration": 166,
    "start_time": "2022-04-19T09:35:05.348Z"
   },
   {
    "duration": 621,
    "start_time": "2022-04-19T09:35:09.197Z"
   },
   {
    "duration": 25,
    "start_time": "2022-04-19T09:37:00.065Z"
   },
   {
    "duration": 22,
    "start_time": "2022-04-19T09:37:06.202Z"
   },
   {
    "duration": 18,
    "start_time": "2022-04-19T09:37:12.988Z"
   },
   {
    "duration": 16,
    "start_time": "2022-04-19T09:37:18.112Z"
   },
   {
    "duration": 16,
    "start_time": "2022-04-19T09:37:32.779Z"
   },
   {
    "duration": 17,
    "start_time": "2022-04-19T10:34:26.635Z"
   },
   {
    "duration": 31,
    "start_time": "2022-04-19T10:34:35.285Z"
   },
   {
    "duration": 18,
    "start_time": "2022-04-19T10:34:41.762Z"
   },
   {
    "duration": 14,
    "start_time": "2022-04-19T10:34:49.606Z"
   },
   {
    "duration": 14,
    "start_time": "2022-04-19T10:35:04.394Z"
   },
   {
    "duration": 14,
    "start_time": "2022-04-19T10:35:36.294Z"
   },
   {
    "duration": 17,
    "start_time": "2022-04-19T10:35:37.968Z"
   },
   {
    "duration": 22,
    "start_time": "2022-04-19T10:37:47.297Z"
   },
   {
    "duration": 21,
    "start_time": "2022-04-19T10:37:52.389Z"
   },
   {
    "duration": 23,
    "start_time": "2022-04-19T10:38:01.025Z"
   },
   {
    "duration": 20,
    "start_time": "2022-04-19T10:38:04.130Z"
   },
   {
    "duration": 174,
    "start_time": "2022-04-19T10:38:17.204Z"
   },
   {
    "duration": 15,
    "start_time": "2022-04-19T10:39:36.944Z"
   },
   {
    "duration": 14,
    "start_time": "2022-04-19T10:39:41.009Z"
   },
   {
    "duration": 420,
    "start_time": "2022-04-19T10:40:45.941Z"
   },
   {
    "duration": 166,
    "start_time": "2022-04-19T10:43:28.987Z"
   },
   {
    "duration": 20,
    "start_time": "2022-04-19T10:47:13.571Z"
   },
   {
    "duration": 18,
    "start_time": "2022-04-19T10:48:03.707Z"
   },
   {
    "duration": 17,
    "start_time": "2022-04-19T10:48:09.638Z"
   },
   {
    "duration": 18,
    "start_time": "2022-04-19T10:48:17.722Z"
   },
   {
    "duration": 18,
    "start_time": "2022-04-19T10:48:22.288Z"
   },
   {
    "duration": 27,
    "start_time": "2022-04-19T10:48:24.091Z"
   },
   {
    "duration": 162,
    "start_time": "2022-04-19T10:49:05.136Z"
   },
   {
    "duration": 497,
    "start_time": "2022-04-19T10:49:23.627Z"
   },
   {
    "duration": 11712,
    "start_time": "2022-04-19T10:49:24.126Z"
   },
   {
    "duration": 3,
    "start_time": "2022-04-19T10:49:35.840Z"
   },
   {
    "duration": 46,
    "start_time": "2022-04-19T10:49:35.845Z"
   },
   {
    "duration": 35,
    "start_time": "2022-04-19T10:49:35.893Z"
   },
   {
    "duration": 19,
    "start_time": "2022-04-19T10:49:35.929Z"
   },
   {
    "duration": 13,
    "start_time": "2022-04-19T10:49:35.949Z"
   },
   {
    "duration": 12,
    "start_time": "2022-04-19T10:49:35.963Z"
   },
   {
    "duration": 11,
    "start_time": "2022-04-19T10:49:35.976Z"
   },
   {
    "duration": 25,
    "start_time": "2022-04-19T10:49:36.002Z"
   },
   {
    "duration": 14,
    "start_time": "2022-04-19T10:49:36.028Z"
   },
   {
    "duration": 22,
    "start_time": "2022-04-19T10:49:36.043Z"
   },
   {
    "duration": 16,
    "start_time": "2022-04-19T10:49:36.066Z"
   },
   {
    "duration": 21,
    "start_time": "2022-04-19T10:49:36.084Z"
   },
   {
    "duration": 18,
    "start_time": "2022-04-19T10:49:36.107Z"
   },
   {
    "duration": 658,
    "start_time": "2022-04-19T20:32:53.068Z"
   },
   {
    "duration": 7417,
    "start_time": "2022-04-19T20:32:54.429Z"
   },
   {
    "duration": 5,
    "start_time": "2022-04-19T20:33:01.849Z"
   },
   {
    "duration": 280,
    "start_time": "2022-04-19T20:33:01.856Z"
   },
   {
    "duration": 109,
    "start_time": "2022-04-19T20:33:02.139Z"
   },
   {
    "duration": 89,
    "start_time": "2022-04-19T20:33:02.250Z"
   },
   {
    "duration": 79,
    "start_time": "2022-04-19T20:33:02.341Z"
   },
   {
    "duration": 78,
    "start_time": "2022-04-19T20:33:02.422Z"
   },
   {
    "duration": 79,
    "start_time": "2022-04-19T20:33:02.502Z"
   },
   {
    "duration": 76,
    "start_time": "2022-04-19T20:33:02.584Z"
   },
   {
    "duration": 68,
    "start_time": "2022-04-19T20:33:07.065Z"
   },
   {
    "duration": 291,
    "start_time": "2022-04-19T20:34:10.582Z"
   },
   {
    "duration": 215,
    "start_time": "2022-04-19T20:34:29.841Z"
   },
   {
    "duration": 100,
    "start_time": "2022-04-19T20:34:48.863Z"
   },
   {
    "duration": 71,
    "start_time": "2022-04-19T20:35:41.959Z"
   },
   {
    "duration": 73,
    "start_time": "2022-04-19T20:35:44.675Z"
   },
   {
    "duration": 78,
    "start_time": "2022-04-19T20:37:58.175Z"
   },
   {
    "duration": 70,
    "start_time": "2022-04-19T20:38:53.955Z"
   },
   {
    "duration": 676,
    "start_time": "2022-04-19T20:39:41.444Z"
   },
   {
    "duration": 7969,
    "start_time": "2022-04-19T20:39:42.123Z"
   },
   {
    "duration": 7,
    "start_time": "2022-04-19T20:39:50.094Z"
   },
   {
    "duration": 290,
    "start_time": "2022-04-19T20:39:50.105Z"
   },
   {
    "duration": 101,
    "start_time": "2022-04-19T20:39:50.397Z"
   },
   {
    "duration": 88,
    "start_time": "2022-04-19T20:39:50.500Z"
   },
   {
    "duration": 68,
    "start_time": "2022-04-19T20:39:50.590Z"
   },
   {
    "duration": 69,
    "start_time": "2022-04-19T20:39:50.660Z"
   },
   {
    "duration": 67,
    "start_time": "2022-04-19T20:39:50.731Z"
   },
   {
    "duration": 75,
    "start_time": "2022-04-19T20:39:50.801Z"
   },
   {
    "duration": 66,
    "start_time": "2022-04-19T20:39:50.878Z"
   },
   {
    "duration": 80,
    "start_time": "2022-04-19T20:39:50.947Z"
   },
   {
    "duration": 74,
    "start_time": "2022-04-19T20:39:51.029Z"
   },
   {
    "duration": 72,
    "start_time": "2022-04-19T20:39:51.105Z"
   },
   {
    "duration": 70,
    "start_time": "2022-04-19T20:39:51.179Z"
   }
  ],
  "kernelspec": {
   "display_name": "Python 3",
   "language": "python",
   "name": "python3"
  },
  "language_info": {
   "codemirror_mode": {
    "name": "ipython",
    "version": 3
   },
   "file_extension": ".py",
   "mimetype": "text/x-python",
   "name": "python",
   "nbconvert_exporter": "python",
   "pygments_lexer": "ipython3",
   "version": "3.7.4"
  },
  "toc": {
   "base_numbering": 1,
   "nav_menu": {},
   "number_sections": true,
   "sideBar": true,
   "skip_h1_title": true,
   "title_cell": "Table of Contents",
   "title_sidebar": "Contents",
   "toc_cell": false,
   "toc_position": {},
   "toc_section_display": true,
   "toc_window_display": false
  }
 },
 "nbformat": 4,
 "nbformat_minor": 2
}
