{
 "cells": [
  {
   "cell_type": "markdown",
   "metadata": {
    "toc": true
   },
   "source": [
    "<h1>Содержание<span class=\"tocSkip\"></span></h1>\n",
    "<div class=\"toc\"><ul class=\"toc-item\"><li><span><a href=\"#Изучение-данных-из-файла\" data-toc-modified-id=\"Изучение-данных-из-файла-1\"><span class=\"toc-item-num\">1&nbsp;&nbsp;</span>Изучение данных из файла</a></span><ul class=\"toc-item\"><li><span><a href=\"#Описание-атрибутов-датасета\" data-toc-modified-id=\"Описание-атрибутов-датасета-1.1\"><span class=\"toc-item-num\">1.1&nbsp;&nbsp;</span>Описание атрибутов датасета</a></span></li><li><span><a href=\"#Вывод\" data-toc-modified-id=\"Вывод-1.2\"><span class=\"toc-item-num\">1.2&nbsp;&nbsp;</span>Вывод</a></span></li></ul></li><li><span><a href=\"#Предобработка-данных\" data-toc-modified-id=\"Предобработка-данных-2\"><span class=\"toc-item-num\">2&nbsp;&nbsp;</span>Предобработка данных</a></span><ul class=\"toc-item\"><li><span><a href=\"#заполнение-пропусков\" data-toc-modified-id=\"заполнение-пропусков-2.1\"><span class=\"toc-item-num\">2.1&nbsp;&nbsp;</span>заполнение пропусков</a></span></li><li><span><a href=\"#замена-типов\" data-toc-modified-id=\"замена-типов-2.2\"><span class=\"toc-item-num\">2.2&nbsp;&nbsp;</span>замена типов</a></span></li><li><span><a href=\"#вывод\" data-toc-modified-id=\"вывод-2.3\"><span class=\"toc-item-num\">2.3&nbsp;&nbsp;</span>вывод</a></span></li></ul></li><li><span><a href=\"#Расчёты-и-добавление-результатов-в-таблицу\" data-toc-modified-id=\"Расчёты-и-добавление-результатов-в-таблицу-3\"><span class=\"toc-item-num\">3&nbsp;&nbsp;</span>Расчёты и добавление результатов в таблицу</a></span><ul class=\"toc-item\"><li><span><a href=\"#вывод\" data-toc-modified-id=\"вывод-3.1\"><span class=\"toc-item-num\">3.1&nbsp;&nbsp;</span>вывод</a></span></li></ul></li><li><span><a href=\"#Исследовательский-анализ-данных\" data-toc-modified-id=\"Исследовательский-анализ-данных-4\"><span class=\"toc-item-num\">4&nbsp;&nbsp;</span>Исследовательский анализ данных</a></span><ul class=\"toc-item\"><li><span><a href=\"#редкие-и-выбивающиеся-значения\" data-toc-modified-id=\"редкие-и-выбивающиеся-значения-4.1\"><span class=\"toc-item-num\">4.1&nbsp;&nbsp;</span>редкие и выбивающиеся значения</a></span><ul class=\"toc-item\"><li><span><a href=\"#вывод\" data-toc-modified-id=\"вывод-4.1.1\"><span class=\"toc-item-num\">4.1.1&nbsp;&nbsp;</span>вывод</a></span></li></ul></li><li><span><a href=\"#анализ-гистограмм-без-выбросов\" data-toc-modified-id=\"анализ-гистограмм-без-выбросов-4.2\"><span class=\"toc-item-num\">4.2&nbsp;&nbsp;</span>анализ гистограмм без выбросов</a></span></li><li><span><a href=\"#время-продажи-квартиры\" data-toc-modified-id=\"время-продажи-квартиры-4.3\"><span class=\"toc-item-num\">4.3&nbsp;&nbsp;</span>время продажи квартиры</a></span><ul class=\"toc-item\"><li><span><a href=\"#вывод\" data-toc-modified-id=\"вывод-4.3.1\"><span class=\"toc-item-num\">4.3.1&nbsp;&nbsp;</span>вывод</a></span></li></ul></li><li><span><a href=\"#факторы-влияющие-на-стоимость-квартиры\" data-toc-modified-id=\"факторы-влияющие-на-стоимость-квартиры-4.4\"><span class=\"toc-item-num\">4.4&nbsp;&nbsp;</span>факторы влияющие на стоимость квартиры</a></span><ul class=\"toc-item\"><li><span><a href=\"#вывод\" data-toc-modified-id=\"вывод-4.4.1\"><span class=\"toc-item-num\">4.4.1&nbsp;&nbsp;</span>вывод</a></span></li></ul></li><li><span><a href=\"#информация-о-расстоянии-до-центра\" data-toc-modified-id=\"информация-о-расстоянии-до-центра-4.5\"><span class=\"toc-item-num\">4.5&nbsp;&nbsp;</span>информация о расстоянии до центра</a></span><ul class=\"toc-item\"><li><span><a href=\"#вывод\" data-toc-modified-id=\"вывод-4.5.1\"><span class=\"toc-item-num\">4.5.1&nbsp;&nbsp;</span>вывод</a></span></li></ul></li><li><span><a href=\"#сегмент-квартир-в-центре\" data-toc-modified-id=\"сегмент-квартир-в-центре-4.6\"><span class=\"toc-item-num\">4.6&nbsp;&nbsp;</span>сегмент квартир в центре</a></span><ul class=\"toc-item\"><li><span><a href=\"#вывод\" data-toc-modified-id=\"вывод-4.6.1\"><span class=\"toc-item-num\">4.6.1&nbsp;&nbsp;</span>вывод</a></span></li></ul></li></ul></li><li><span><a href=\"#Общий-вывод\" data-toc-modified-id=\"Общий-вывод-5\"><span class=\"toc-item-num\">5&nbsp;&nbsp;</span>Общий вывод</a></span></li><li><span><a href=\"#Чек-лист-готовности-проекта\" data-toc-modified-id=\"Чек-лист-готовности-проекта-6\"><span class=\"toc-item-num\">6&nbsp;&nbsp;</span>Чек-лист готовности проекта</a></span></li></ul></div>"
   ]
  },
  {
   "cell_type": "markdown",
   "metadata": {},
   "source": [
    "# Исследование объявлений о продаже квартир\n",
    "\n",
    "В вашем распоряжении данные сервиса Яндекс.Недвижимость — архив объявлений о продаже квартир в Санкт-Петербурге и соседних населённых пунктах за несколько лет. Нужно научиться определять рыночную стоимость объектов недвижимости. Ваша задача — установить параметры. Это позволит построить автоматизированную систему: она отследит аномалии и мошенническую деятельность. \n",
    "\n",
    "По каждой квартире на продажу доступны два вида данных. Первые вписаны пользователем, вторые получены автоматически на основе картографических данных. Например, расстояние до центра, аэропорта, ближайшего парка и водоёма. "
   ]
  },
  {
   "cell_type": "code",
   "execution_count": 1,
   "metadata": {},
   "outputs": [],
   "source": [
    "import pandas as pd\n",
    "import numpy as np\n",
    "\n",
    "pd.set_option('display.max_columns', None)"
   ]
  },
  {
   "cell_type": "markdown",
   "metadata": {},
   "source": [
    "## Изучение данных из файла"
   ]
  },
  {
   "cell_type": "markdown",
   "metadata": {},
   "source": [
    "### Описание атрибутов датасета\n",
    "\n",
    "- airports_nearest — расстояние до ближайшего аэропорта в метрах (м)\n",
    "- balcony — число балконов\n",
    "- ceiling_height — высота потолков (м)\n",
    "- cityCenters_nearest — расстояние до центра города (м)\n",
    "- days_exposition — сколько дней было размещено объявление (от публикации до снятия)\n",
    "- first_day_exposition — дата публикации\n",
    "- floor — этаж\n",
    "- floors_total — всего этажей в доме\n",
    "- is_apartment — апартаменты (булев тип)\n",
    "- kitchen_area — площадь кухни в квадратных метрах (м²)\n",
    "- last_price — цена на момент снятия с публикации\n",
    "- living_area — жилая площадь в квадратных метрах (м²)\n",
    "- locality_name — название населённого пункта\n",
    "- open_plan — свободная планировка (булев тип)\n",
    "- parks_around3000 — число парков в радиусе 3 км\n",
    "- parks_nearest — расстояние до ближайшего парка (м)\n",
    "- ponds_around3000 — число водоёмов в радиусе 3 км\n",
    "- ponds_nearest — расстояние до ближайшего водоёма (м)\n",
    "- rooms — число комнат\n",
    "- studio — квартира-студия (булев тип)\n",
    "- total_area — площадь квартиры в квадратных метрах (м²)\n",
    "- total_images — число фотографий квартиры в объявлении"
   ]
  },
  {
   "cell_type": "code",
   "execution_count": 2,
   "metadata": {},
   "outputs": [
    {
     "data": {
      "text/html": [
       "<div>\n",
       "<style scoped>\n",
       "    .dataframe tbody tr th:only-of-type {\n",
       "        vertical-align: middle;\n",
       "    }\n",
       "\n",
       "    .dataframe tbody tr th {\n",
       "        vertical-align: top;\n",
       "    }\n",
       "\n",
       "    .dataframe thead th {\n",
       "        text-align: right;\n",
       "    }\n",
       "</style>\n",
       "<table border=\"1\" class=\"dataframe\">\n",
       "  <thead>\n",
       "    <tr style=\"text-align: right;\">\n",
       "      <th></th>\n",
       "      <th>total_images</th>\n",
       "      <th>last_price</th>\n",
       "      <th>total_area</th>\n",
       "      <th>first_day_exposition</th>\n",
       "      <th>rooms</th>\n",
       "      <th>ceiling_height</th>\n",
       "      <th>floors_total</th>\n",
       "      <th>living_area</th>\n",
       "      <th>floor</th>\n",
       "      <th>is_apartment</th>\n",
       "      <th>studio</th>\n",
       "      <th>open_plan</th>\n",
       "      <th>kitchen_area</th>\n",
       "      <th>balcony</th>\n",
       "      <th>locality_name</th>\n",
       "      <th>airports_nearest</th>\n",
       "      <th>cityCenters_nearest</th>\n",
       "      <th>parks_around3000</th>\n",
       "      <th>parks_nearest</th>\n",
       "      <th>ponds_around3000</th>\n",
       "      <th>ponds_nearest</th>\n",
       "      <th>days_exposition</th>\n",
       "    </tr>\n",
       "  </thead>\n",
       "  <tbody>\n",
       "    <tr>\n",
       "      <td>0</td>\n",
       "      <td>20</td>\n",
       "      <td>13000000.0</td>\n",
       "      <td>108.0</td>\n",
       "      <td>2019-03-07T00:00:00</td>\n",
       "      <td>3</td>\n",
       "      <td>2.7</td>\n",
       "      <td>16.0</td>\n",
       "      <td>51.0</td>\n",
       "      <td>8</td>\n",
       "      <td>NaN</td>\n",
       "      <td>False</td>\n",
       "      <td>False</td>\n",
       "      <td>25.0</td>\n",
       "      <td>NaN</td>\n",
       "      <td>Санкт-Петербург</td>\n",
       "      <td>18863.0</td>\n",
       "      <td>16028.0</td>\n",
       "      <td>1.0</td>\n",
       "      <td>482.0</td>\n",
       "      <td>2.0</td>\n",
       "      <td>755.0</td>\n",
       "      <td>NaN</td>\n",
       "    </tr>\n",
       "  </tbody>\n",
       "</table>\n",
       "</div>"
      ],
      "text/plain": [
       "   total_images  last_price  total_area first_day_exposition  rooms  \\\n",
       "0            20  13000000.0       108.0  2019-03-07T00:00:00      3   \n",
       "\n",
       "   ceiling_height  floors_total  living_area  floor is_apartment  studio  \\\n",
       "0             2.7          16.0         51.0      8          NaN   False   \n",
       "\n",
       "   open_plan  kitchen_area  balcony    locality_name  airports_nearest  \\\n",
       "0      False          25.0      NaN  Санкт-Петербург           18863.0   \n",
       "\n",
       "   cityCenters_nearest  parks_around3000  parks_nearest  ponds_around3000  \\\n",
       "0              16028.0               1.0          482.0               2.0   \n",
       "\n",
       "   ponds_nearest  days_exposition  \n",
       "0          755.0              NaN  "
      ]
     },
     "execution_count": 2,
     "metadata": {},
     "output_type": "execute_result"
    }
   ],
   "source": [
    "data = pd.read_csv('/datasets/real_estate_data.csv', delimiter='\\t')\n",
    "data.head(1)"
   ]
  },
  {
   "cell_type": "code",
   "execution_count": 3,
   "metadata": {},
   "outputs": [
    {
     "data": {
      "text/plain": [
       "(23699, 22)"
      ]
     },
     "execution_count": 3,
     "metadata": {},
     "output_type": "execute_result"
    }
   ],
   "source": [
    "data.shape"
   ]
  },
  {
   "cell_type": "code",
   "execution_count": 4,
   "metadata": {},
   "outputs": [
    {
     "name": "stdout",
     "output_type": "stream",
     "text": [
      "<class 'pandas.core.frame.DataFrame'>\n",
      "RangeIndex: 23699 entries, 0 to 23698\n",
      "Data columns (total 22 columns):\n",
      "total_images            23699 non-null int64\n",
      "last_price              23699 non-null float64\n",
      "total_area              23699 non-null float64\n",
      "first_day_exposition    23699 non-null object\n",
      "rooms                   23699 non-null int64\n",
      "ceiling_height          14504 non-null float64\n",
      "floors_total            23613 non-null float64\n",
      "living_area             21796 non-null float64\n",
      "floor                   23699 non-null int64\n",
      "is_apartment            2775 non-null object\n",
      "studio                  23699 non-null bool\n",
      "open_plan               23699 non-null bool\n",
      "kitchen_area            21421 non-null float64\n",
      "balcony                 12180 non-null float64\n",
      "locality_name           23650 non-null object\n",
      "airports_nearest        18157 non-null float64\n",
      "cityCenters_nearest     18180 non-null float64\n",
      "parks_around3000        18181 non-null float64\n",
      "parks_nearest           8079 non-null float64\n",
      "ponds_around3000        18181 non-null float64\n",
      "ponds_nearest           9110 non-null float64\n",
      "days_exposition         20518 non-null float64\n",
      "dtypes: bool(2), float64(14), int64(3), object(3)\n",
      "memory usage: 3.7+ MB\n"
     ]
    }
   ],
   "source": [
    "data.info()"
   ]
  },
  {
   "cell_type": "markdown",
   "metadata": {},
   "source": [
    "### Вывод"
   ]
  },
  {
   "cell_type": "raw",
   "metadata": {},
   "source": [
    "в файле 23699 строк, 22 столбца\n",
    "выведена первая строка, в которой сразу видны пропуски в колонках"
   ]
  },
  {
   "cell_type": "markdown",
   "metadata": {},
   "source": [
    "## Предобработка данных"
   ]
  },
  {
   "cell_type": "markdown",
   "metadata": {},
   "source": [
    "### заполнение пропусков"
   ]
  },
  {
   "cell_type": "code",
   "execution_count": 5,
   "metadata": {},
   "outputs": [
    {
     "data": {
      "text/plain": [
       "total_images                0\n",
       "last_price                  0\n",
       "total_area                  0\n",
       "first_day_exposition        0\n",
       "rooms                       0\n",
       "ceiling_height           9195\n",
       "floors_total               86\n",
       "living_area              1903\n",
       "floor                       0\n",
       "is_apartment            20924\n",
       "studio                      0\n",
       "open_plan                   0\n",
       "kitchen_area             2278\n",
       "balcony                 11519\n",
       "locality_name              49\n",
       "airports_nearest         5542\n",
       "cityCenters_nearest      5519\n",
       "parks_around3000         5518\n",
       "parks_nearest           15620\n",
       "ponds_around3000         5518\n",
       "ponds_nearest           14589\n",
       "days_exposition          3181\n",
       "dtype: int64"
      ]
     },
     "execution_count": 5,
     "metadata": {},
     "output_type": "execute_result"
    }
   ],
   "source": [
    "# смотрим количество пропусков в колонках\n",
    "data.isnull().sum()"
   ]
  },
  {
   "cell_type": "code",
   "execution_count": 6,
   "metadata": {},
   "outputs": [],
   "source": [
    "data['is_apartment'] = data['is_apartment'].fillna(0)\n",
    "data['balcony'] = data['balcony'].fillna(0)\n",
    "data['ceiling_height'] = data['ceiling_height'].fillna(data['ceiling_height'].mean())"
   ]
  },
  {
   "cell_type": "code",
   "execution_count": 7,
   "metadata": {},
   "outputs": [],
   "source": [
    "# считаем среднее количество этажей в каждом городе\n",
    "def mean_group_param(df, group_col_name, agg_col_name, fill=3, is_round=True):\n",
    "    df_data = df.copy()\n",
    "\n",
    "    df_mean = pd.DataFrame(df_data.query(f\"{agg_col_name}.notna()\")\n",
    "                           .groupby(group_col_name)[agg_col_name]\n",
    "                           .agg('mean')).reset_index()\n",
    "    df_mean.columns = [group_col_name, 'param_mean']\n",
    "    df_mean['param_mean'] = df_mean['param_mean'].fillna(fill)\n",
    "    if is_round:\n",
    "        df_mean['param_mean'] = df_mean['param_mean'].apply(round)\n",
    "\n",
    "    df_data = df_data.merge(df_mean, on=group_col_name, how='left')\n",
    "    df_data[agg_col_name] = df_data[agg_col_name].fillna(df_data['param_mean'])\n",
    "    df_data.drop(['param_mean'], axis=1, inplace=True)\n",
    "    \n",
    "    return df_data"
   ]
  },
  {
   "cell_type": "code",
   "execution_count": 8,
   "metadata": {},
   "outputs": [],
   "source": [
    "data = mean_group_param(data, 'locality_name', 'floors_total')\n",
    "data = mean_group_param(data, 'locality_name', 'ceiling_height')\n",
    "data = mean_group_param(data, 'locality_name', 'airports_nearest')"
   ]
  },
  {
   "cell_type": "code",
   "execution_count": 9,
   "metadata": {},
   "outputs": [
    {
     "data": {
      "text/plain": [
       "floors_total           1\n",
       "ceiling_height         0\n",
       "airports_nearest    5394\n",
       "dtype: int64"
      ]
     },
     "execution_count": 9,
     "metadata": {},
     "output_type": "execute_result"
    }
   ],
   "source": [
    "data.loc[:, ['floors_total', 'ceiling_height', 'airports_nearest']].isnull().sum()"
   ]
  },
  {
   "cell_type": "markdown",
   "metadata": {},
   "source": [
    "### замена типов"
   ]
  },
  {
   "cell_type": "code",
   "execution_count": 10,
   "metadata": {},
   "outputs": [],
   "source": [
    "list_col_chng_type = ['parks_around3000', 'ponds_around3000', 'balcony', 'is_apartment', 'days_exposition',\n",
    "     'airports_nearest', 'cityCenters_nearest', 'parks_nearest', 'ponds_nearest']"
   ]
  },
  {
   "cell_type": "code",
   "execution_count": 11,
   "metadata": {},
   "outputs": [
    {
     "name": "stdout",
     "output_type": "stream",
     "text": [
      "<class 'pandas.core.frame.DataFrame'>\n",
      "Int64Index: 23699 entries, 0 to 23698\n",
      "Data columns (total 9 columns):\n",
      "parks_around3000       18181 non-null float64\n",
      "ponds_around3000       18181 non-null float64\n",
      "balcony                23699 non-null float64\n",
      "is_apartment           23699 non-null object\n",
      "days_exposition        20518 non-null float64\n",
      "airports_nearest       18305 non-null float64\n",
      "cityCenters_nearest    18180 non-null float64\n",
      "parks_nearest          8079 non-null float64\n",
      "ponds_nearest          9110 non-null float64\n",
      "dtypes: float64(8), object(1)\n",
      "memory usage: 1.8+ MB\n"
     ]
    }
   ],
   "source": [
    "data[list_col_chng_type].info()"
   ]
  },
  {
   "cell_type": "code",
   "execution_count": 12,
   "metadata": {
    "scrolled": true
   },
   "outputs": [
    {
     "name": "stdout",
     "output_type": "stream",
     "text": [
      "0.0    10106\n",
      "1.0     5681\n",
      "2.0     1747\n",
      "3.0      647\n",
      "Name: parks_around3000, dtype: int64\n",
      "0.0    9071\n",
      "1.0    5717\n",
      "2.0    1892\n",
      "3.0    1501\n",
      "Name: ponds_around3000, dtype: int64\n",
      "0.0    15277\n",
      "1.0     4195\n",
      "2.0     3659\n",
      "5.0      304\n",
      "4.0      183\n",
      "3.0       81\n",
      "Name: balcony, dtype: int64\n",
      "0       23649\n",
      "True       50\n",
      "Name: is_apartment, dtype: int64\n",
      "45.0      880\n",
      "60.0      538\n",
      "7.0       234\n",
      "30.0      208\n",
      "90.0      204\n",
      "         ... \n",
      "1110.0      1\n",
      "1049.0      1\n",
      "951.0       1\n",
      "693.0       1\n",
      "773.0       1\n",
      "Name: days_exposition, Length: 1141, dtype: int64\n",
      "28046.0    85\n",
      "37434.0    61\n",
      "51553.0    34\n",
      "21928.0    32\n",
      "39946.0    30\n",
      "           ..\n",
      "48310.0     1\n",
      "20196.0     1\n",
      "44097.0     1\n",
      "38845.0     1\n",
      "14579.0     1\n",
      "Name: airports_nearest, Length: 8280, dtype: int64\n",
      "8460.0     61\n",
      "20802.0    32\n",
      "10720.0    30\n",
      "8434.0     27\n",
      "20444.0    27\n",
      "           ..\n",
      "13104.0     1\n",
      "11280.0     1\n",
      "27218.0     1\n",
      "10501.0     1\n",
      "208.0       1\n",
      "Name: cityCenters_nearest, Length: 7642, dtype: int64\n",
      "441.0     67\n",
      "173.0     41\n",
      "392.0     41\n",
      "456.0     40\n",
      "471.0     32\n",
      "          ..\n",
      "863.0      1\n",
      "2880.0     1\n",
      "969.0      1\n",
      "1011.0     1\n",
      "775.0      1\n",
      "Name: parks_nearest, Length: 995, dtype: int64\n",
      "427.0     70\n",
      "454.0     41\n",
      "153.0     40\n",
      "433.0     39\n",
      "564.0     37\n",
      "          ..\n",
      "742.0      1\n",
      "1019.0     1\n",
      "948.0      1\n",
      "1275.0     1\n",
      "193.0      1\n",
      "Name: ponds_nearest, Length: 1096, dtype: int64\n"
     ]
    }
   ],
   "source": [
    "for col in list_col_chng_type:\n",
    "    print(data[col].value_counts())"
   ]
  },
  {
   "cell_type": "code",
   "execution_count": 13,
   "metadata": {},
   "outputs": [],
   "source": [
    "data['is_apartment'] = data['is_apartment'].astype(bool)"
   ]
  },
  {
   "cell_type": "code",
   "execution_count": 14,
   "metadata": {},
   "outputs": [],
   "source": [
    "list_col_chng_type.remove('is_apartment')"
   ]
  },
  {
   "cell_type": "code",
   "execution_count": 15,
   "metadata": {},
   "outputs": [],
   "source": [
    "for col in list_col_chng_type:\n",
    "    try:\n",
    "        data[col] = data[col].fillna(-9999).astype('int')\n",
    "    except:\n",
    "        print(f'не удалось заменить тип у {col}')"
   ]
  },
  {
   "cell_type": "code",
   "execution_count": 16,
   "metadata": {},
   "outputs": [],
   "source": [
    "data['first_day_exposition'] = pd.to_datetime(data['first_day_exposition'], format='%Y-%m-%dT%H:%M:%S')"
   ]
  },
  {
   "cell_type": "code",
   "execution_count": 17,
   "metadata": {},
   "outputs": [
    {
     "name": "stdout",
     "output_type": "stream",
     "text": [
      "<class 'pandas.core.frame.DataFrame'>\n",
      "Int64Index: 23699 entries, 0 to 23698\n",
      "Data columns (total 22 columns):\n",
      "total_images            23699 non-null int64\n",
      "last_price              23699 non-null float64\n",
      "total_area              23699 non-null float64\n",
      "first_day_exposition    23699 non-null datetime64[ns]\n",
      "rooms                   23699 non-null int64\n",
      "ceiling_height          23699 non-null float64\n",
      "floors_total            23698 non-null float64\n",
      "living_area             21796 non-null float64\n",
      "floor                   23699 non-null int64\n",
      "is_apartment            23699 non-null bool\n",
      "studio                  23699 non-null bool\n",
      "open_plan               23699 non-null bool\n",
      "kitchen_area            21421 non-null float64\n",
      "balcony                 23699 non-null int64\n",
      "locality_name           23650 non-null object\n",
      "airports_nearest        23699 non-null int64\n",
      "cityCenters_nearest     23699 non-null int64\n",
      "parks_around3000        23699 non-null int64\n",
      "parks_nearest           23699 non-null int64\n",
      "ponds_around3000        23699 non-null int64\n",
      "ponds_nearest           23699 non-null int64\n",
      "days_exposition         23699 non-null int64\n",
      "dtypes: bool(3), datetime64[ns](1), float64(6), int64(11), object(1)\n",
      "memory usage: 3.7+ MB\n"
     ]
    }
   ],
   "source": [
    "data.info()"
   ]
  },
  {
   "cell_type": "markdown",
   "metadata": {},
   "source": [
    "### вывод"
   ]
  },
  {
   "cell_type": "markdown",
   "metadata": {},
   "source": [
    "были обнаружены пропущенные значения в больше половины полей\n",
    "пропуски заполнены:\n",
    "- средним значением для города по полям - общее количество этажей, высота потолка, частично - расстояние до аэропорта\n",
    "- значением 0 для флагов аппартаментов и балконов\n",
    "\n",
    "для остальных пропуски не заполнены, т.к. из имеющихся данные проблематично достать их средние (наличие парков, аэропортов и расстояние до них без адреса не измерить)\n",
    "\n",
    "\n",
    "были заменены типы:\n",
    "- is_apartment на bool\n",
    "- parks_around3000, ponds_around3000, balcony, days_exposition, airports_nearest, cityCenters_nearest, parks_nearest, ponds_nearest на int параллельно заменив пропуски на дефолтные значения -9999\n",
    "- first_day_exposition на timestamp"
   ]
  },
  {
   "cell_type": "markdown",
   "metadata": {},
   "source": [
    "## Расчёты и добавление результатов в таблицу"
   ]
  },
  {
   "cell_type": "code",
   "execution_count": 18,
   "metadata": {},
   "outputs": [
    {
     "data": {
      "text/html": [
       "<div>\n",
       "<style scoped>\n",
       "    .dataframe tbody tr th:only-of-type {\n",
       "        vertical-align: middle;\n",
       "    }\n",
       "\n",
       "    .dataframe tbody tr th {\n",
       "        vertical-align: top;\n",
       "    }\n",
       "\n",
       "    .dataframe thead th {\n",
       "        text-align: right;\n",
       "    }\n",
       "</style>\n",
       "<table border=\"1\" class=\"dataframe\">\n",
       "  <thead>\n",
       "    <tr style=\"text-align: right;\">\n",
       "      <th></th>\n",
       "      <th>total_images</th>\n",
       "      <th>last_price</th>\n",
       "      <th>total_area</th>\n",
       "      <th>first_day_exposition</th>\n",
       "      <th>rooms</th>\n",
       "      <th>ceiling_height</th>\n",
       "      <th>floors_total</th>\n",
       "      <th>living_area</th>\n",
       "      <th>floor</th>\n",
       "      <th>is_apartment</th>\n",
       "      <th>studio</th>\n",
       "      <th>open_plan</th>\n",
       "      <th>kitchen_area</th>\n",
       "      <th>balcony</th>\n",
       "      <th>locality_name</th>\n",
       "      <th>airports_nearest</th>\n",
       "      <th>cityCenters_nearest</th>\n",
       "      <th>parks_around3000</th>\n",
       "      <th>parks_nearest</th>\n",
       "      <th>ponds_around3000</th>\n",
       "      <th>ponds_nearest</th>\n",
       "      <th>days_exposition</th>\n",
       "      <th>price_by_sq_m</th>\n",
       "      <th>year_date_exposition</th>\n",
       "      <th>month_date_exposition</th>\n",
       "      <th>dayofweek_date_exposition</th>\n",
       "      <th>floor_cat</th>\n",
       "      <th>rel_liv_to_total_area</th>\n",
       "      <th>rel_kit_to_total_area</th>\n",
       "    </tr>\n",
       "  </thead>\n",
       "  <tbody>\n",
       "    <tr>\n",
       "      <td>0</td>\n",
       "      <td>20</td>\n",
       "      <td>13000000.0</td>\n",
       "      <td>108.0</td>\n",
       "      <td>2019-03-07</td>\n",
       "      <td>3</td>\n",
       "      <td>2.700000</td>\n",
       "      <td>16.0</td>\n",
       "      <td>51.0</td>\n",
       "      <td>8</td>\n",
       "      <td>False</td>\n",
       "      <td>False</td>\n",
       "      <td>False</td>\n",
       "      <td>25.0</td>\n",
       "      <td>0</td>\n",
       "      <td>Санкт-Петербург</td>\n",
       "      <td>18863</td>\n",
       "      <td>16028</td>\n",
       "      <td>1</td>\n",
       "      <td>482</td>\n",
       "      <td>2</td>\n",
       "      <td>755</td>\n",
       "      <td>-9999</td>\n",
       "      <td>120370.370370</td>\n",
       "      <td>2019</td>\n",
       "      <td>3</td>\n",
       "      <td>3</td>\n",
       "      <td>другой</td>\n",
       "      <td>0.472222</td>\n",
       "      <td>0.231481</td>\n",
       "    </tr>\n",
       "    <tr>\n",
       "      <td>1</td>\n",
       "      <td>7</td>\n",
       "      <td>3350000.0</td>\n",
       "      <td>40.4</td>\n",
       "      <td>2018-12-04</td>\n",
       "      <td>1</td>\n",
       "      <td>2.771499</td>\n",
       "      <td>11.0</td>\n",
       "      <td>18.6</td>\n",
       "      <td>1</td>\n",
       "      <td>False</td>\n",
       "      <td>False</td>\n",
       "      <td>False</td>\n",
       "      <td>11.0</td>\n",
       "      <td>2</td>\n",
       "      <td>посёлок Шушары</td>\n",
       "      <td>12817</td>\n",
       "      <td>18603</td>\n",
       "      <td>0</td>\n",
       "      <td>-9999</td>\n",
       "      <td>0</td>\n",
       "      <td>-9999</td>\n",
       "      <td>81</td>\n",
       "      <td>82920.792079</td>\n",
       "      <td>2018</td>\n",
       "      <td>12</td>\n",
       "      <td>1</td>\n",
       "      <td>первый</td>\n",
       "      <td>0.460396</td>\n",
       "      <td>0.272277</td>\n",
       "    </tr>\n",
       "    <tr>\n",
       "      <td>2</td>\n",
       "      <td>10</td>\n",
       "      <td>5196000.0</td>\n",
       "      <td>56.0</td>\n",
       "      <td>2015-08-20</td>\n",
       "      <td>2</td>\n",
       "      <td>2.771499</td>\n",
       "      <td>5.0</td>\n",
       "      <td>34.3</td>\n",
       "      <td>4</td>\n",
       "      <td>False</td>\n",
       "      <td>False</td>\n",
       "      <td>False</td>\n",
       "      <td>8.3</td>\n",
       "      <td>0</td>\n",
       "      <td>Санкт-Петербург</td>\n",
       "      <td>21741</td>\n",
       "      <td>13933</td>\n",
       "      <td>1</td>\n",
       "      <td>90</td>\n",
       "      <td>2</td>\n",
       "      <td>574</td>\n",
       "      <td>558</td>\n",
       "      <td>92785.714286</td>\n",
       "      <td>2015</td>\n",
       "      <td>8</td>\n",
       "      <td>3</td>\n",
       "      <td>другой</td>\n",
       "      <td>0.612500</td>\n",
       "      <td>0.148214</td>\n",
       "    </tr>\n",
       "  </tbody>\n",
       "</table>\n",
       "</div>"
      ],
      "text/plain": [
       "   total_images  last_price  total_area first_day_exposition  rooms  \\\n",
       "0            20  13000000.0       108.0           2019-03-07      3   \n",
       "1             7   3350000.0        40.4           2018-12-04      1   \n",
       "2            10   5196000.0        56.0           2015-08-20      2   \n",
       "\n",
       "   ceiling_height  floors_total  living_area  floor  is_apartment  studio  \\\n",
       "0        2.700000          16.0         51.0      8         False   False   \n",
       "1        2.771499          11.0         18.6      1         False   False   \n",
       "2        2.771499           5.0         34.3      4         False   False   \n",
       "\n",
       "   open_plan  kitchen_area  balcony    locality_name  airports_nearest  \\\n",
       "0      False          25.0        0  Санкт-Петербург             18863   \n",
       "1      False          11.0        2   посёлок Шушары             12817   \n",
       "2      False           8.3        0  Санкт-Петербург             21741   \n",
       "\n",
       "   cityCenters_nearest  parks_around3000  parks_nearest  ponds_around3000  \\\n",
       "0                16028                 1            482                 2   \n",
       "1                18603                 0          -9999                 0   \n",
       "2                13933                 1             90                 2   \n",
       "\n",
       "   ponds_nearest  days_exposition  price_by_sq_m  year_date_exposition  \\\n",
       "0            755            -9999  120370.370370                  2019   \n",
       "1          -9999               81   82920.792079                  2018   \n",
       "2            574              558   92785.714286                  2015   \n",
       "\n",
       "   month_date_exposition  dayofweek_date_exposition floor_cat  \\\n",
       "0                      3                          3    другой   \n",
       "1                     12                          1    первый   \n",
       "2                      8                          3    другой   \n",
       "\n",
       "   rel_liv_to_total_area  rel_kit_to_total_area  \n",
       "0               0.472222               0.231481  \n",
       "1               0.460396               0.272277  \n",
       "2               0.612500               0.148214  "
      ]
     },
     "execution_count": 18,
     "metadata": {},
     "output_type": "execute_result"
    }
   ],
   "source": [
    "data['price_by_sq_m'] = data['last_price'] / data['total_area']\n",
    "\n",
    "data['year_date_exposition'] = pd.DatetimeIndex(data['first_day_exposition']).year\n",
    "data['month_date_exposition'] = pd.DatetimeIndex(data['first_day_exposition']).month\n",
    "data['dayofweek_date_exposition'] = pd.DatetimeIndex(data['first_day_exposition']).dayofweek\n",
    "\n",
    "data['floor_cat'] = data.apply(lambda row: 'первый' if row['floor'] == 1 \n",
    "                               else 'последний' if row['floor'] == row['floors_total']\n",
    "                               else 'другой', axis=1)\n",
    "\n",
    "data['rel_liv_to_total_area'] = data['living_area'] / data['total_area']\n",
    "data['rel_kit_to_total_area'] = data['kitchen_area'] / data['total_area']\n",
    "\n",
    "data.head(3)"
   ]
  },
  {
   "cell_type": "code",
   "execution_count": 19,
   "metadata": {},
   "outputs": [
    {
     "data": {
      "text/plain": [
       "price_by_sq_m                   0\n",
       "year_date_exposition            0\n",
       "month_date_exposition           0\n",
       "dayofweek_date_exposition       0\n",
       "floor_cat                       0\n",
       "rel_liv_to_total_area        1903\n",
       "rel_kit_to_total_area        2278\n",
       "dtype: int64"
      ]
     },
     "execution_count": 19,
     "metadata": {},
     "output_type": "execute_result"
    }
   ],
   "source": [
    "data[['price_by_sq_m', 'year_date_exposition', 'month_date_exposition', 'dayofweek_date_exposition', \n",
    "      'floor_cat', 'rel_liv_to_total_area', 'rel_kit_to_total_area']].isna().sum()"
   ]
  },
  {
   "cell_type": "markdown",
   "metadata": {},
   "source": [
    "### вывод \n",
    "- посчитано и добавлено в таблицу: цена квадратного метра\n",
    "- посчитано и добавлено в таблицу: день недели, месяц и год публикации объявления\n",
    "- посчитано и добавлено в таблицу: этаж квартиры; варианты — первый, последний, другой\n",
    "- посчитано и добавлено в таблицу: соотношение жилой и общей площади, а также отношение площади кухни к общей\n",
    "\n",
    "проверены пропуски в агрегатах - найдены только в агрегатах, связанных с площадью"
   ]
  },
  {
   "cell_type": "markdown",
   "metadata": {},
   "source": [
    "## Исследовательский анализ данных"
   ]
  },
  {
   "cell_type": "code",
   "execution_count": 20,
   "metadata": {},
   "outputs": [],
   "source": [
    "features_for_analysis = ['total_area', 'last_price', 'rooms', 'ceiling_height']"
   ]
  },
  {
   "cell_type": "code",
   "execution_count": 21,
   "metadata": {
    "scrolled": true
   },
   "outputs": [
    {
     "name": "stdout",
     "output_type": "stream",
     "text": [
      "         total_area\n",
      "count  23699.000000\n",
      "mean      60.348651\n",
      "std       35.654083\n",
      "min       12.000000\n",
      "25%       40.000000\n",
      "50%       52.000000\n",
      "75%       69.900000\n",
      "max      900.000000\n",
      "         last_price\n",
      "count  2.369900e+04\n",
      "mean   6.541549e+06\n",
      "std    1.088701e+07\n",
      "min    1.219000e+04\n",
      "25%    3.400000e+06\n",
      "50%    4.650000e+06\n",
      "75%    6.800000e+06\n",
      "max    7.630000e+08\n",
      "              rooms\n",
      "count  23699.000000\n",
      "mean       2.070636\n",
      "std        1.078405\n",
      "min        0.000000\n",
      "25%        1.000000\n",
      "50%        2.000000\n",
      "75%        3.000000\n",
      "max       19.000000\n",
      "       ceiling_height\n",
      "count    23699.000000\n",
      "mean         2.771499\n",
      "std          0.986523\n",
      "min          1.000000\n",
      "25%          2.600000\n",
      "50%          2.771499\n",
      "75%          2.771499\n",
      "max        100.000000\n"
     ]
    }
   ],
   "source": [
    "for c in features_for_analysis:\n",
    "    print(pd.DataFrame(data[c].describe()))"
   ]
  },
  {
   "cell_type": "code",
   "execution_count": 22,
   "metadata": {},
   "outputs": [
    {
     "data": {
      "image/png": "[encoded data removed]",
      "text/plain": [
       "<Figure size 432x288 with 1 Axes>"
      ]
     },
     "metadata": {
      "needs_background": "light"
     },
     "output_type": "display_data"
    },
    {
     "data": {
      "image/png": "[encoded data removed]",
      "text/plain": [
       "<Figure size 432x288 with 1 Axes>"
      ]
     },
     "metadata": {
      "needs_background": "light"
     },
     "output_type": "display_data"
    },
    {
     "data": {
      "image/png": "[encoded data removed]",
      "text/plain": [
       "<Figure size 432x288 with 1 Axes>"
      ]
     },
     "metadata": {
      "needs_background": "light"
     },
     "output_type": "display_data"
    },
    {
     "data": {
      "image/png": "[encoded data removed]",
      "text/plain": [
       "<Figure size 432x288 with 1 Axes>"
      ]
     },
     "metadata": {
      "needs_background": "light"
     },
     "output_type": "display_data"
    }
   ],
   "source": [
    "for c in features_for_analysis:\n",
    "    data.plot(y=c, kind='hist', bins=10)"
   ]
  },
  {
   "cell_type": "markdown",
   "metadata": {},
   "source": [
    "### редкие и выбивающиеся значения "
   ]
  },
  {
   "cell_type": "code",
   "execution_count": 23,
   "metadata": {},
   "outputs": [
    {
     "data": {
      "text/html": [
       "<div>\n",
       "<style scoped>\n",
       "    .dataframe tbody tr th:only-of-type {\n",
       "        vertical-align: middle;\n",
       "    }\n",
       "\n",
       "    .dataframe tbody tr th {\n",
       "        vertical-align: top;\n",
       "    }\n",
       "\n",
       "    .dataframe thead th {\n",
       "        text-align: right;\n",
       "    }\n",
       "</style>\n",
       "<table border=\"1\" class=\"dataframe\">\n",
       "  <thead>\n",
       "    <tr style=\"text-align: right;\">\n",
       "      <th></th>\n",
       "      <th>total_images</th>\n",
       "      <th>last_price</th>\n",
       "      <th>total_area</th>\n",
       "      <th>first_day_exposition</th>\n",
       "      <th>rooms</th>\n",
       "      <th>ceiling_height</th>\n",
       "      <th>floors_total</th>\n",
       "      <th>living_area</th>\n",
       "      <th>floor</th>\n",
       "      <th>is_apartment</th>\n",
       "      <th>studio</th>\n",
       "      <th>open_plan</th>\n",
       "      <th>kitchen_area</th>\n",
       "      <th>balcony</th>\n",
       "      <th>locality_name</th>\n",
       "      <th>airports_nearest</th>\n",
       "      <th>cityCenters_nearest</th>\n",
       "      <th>parks_around3000</th>\n",
       "      <th>parks_nearest</th>\n",
       "      <th>ponds_around3000</th>\n",
       "      <th>ponds_nearest</th>\n",
       "      <th>days_exposition</th>\n",
       "      <th>price_by_sq_m</th>\n",
       "      <th>year_date_exposition</th>\n",
       "      <th>month_date_exposition</th>\n",
       "      <th>dayofweek_date_exposition</th>\n",
       "      <th>floor_cat</th>\n",
       "      <th>rel_liv_to_total_area</th>\n",
       "      <th>rel_kit_to_total_area</th>\n",
       "    </tr>\n",
       "  </thead>\n",
       "  <tbody>\n",
       "    <tr>\n",
       "      <td>22869</td>\n",
       "      <td>0</td>\n",
       "      <td>15000000.0</td>\n",
       "      <td>25.0</td>\n",
       "      <td>2018-07-25</td>\n",
       "      <td>1</td>\n",
       "      <td>100.0</td>\n",
       "      <td>5.0</td>\n",
       "      <td>14.0</td>\n",
       "      <td>5</td>\n",
       "      <td>True</td>\n",
       "      <td>False</td>\n",
       "      <td>False</td>\n",
       "      <td>11.0</td>\n",
       "      <td>5</td>\n",
       "      <td>Санкт-Петербург</td>\n",
       "      <td>34963</td>\n",
       "      <td>8283</td>\n",
       "      <td>1</td>\n",
       "      <td>223</td>\n",
       "      <td>3</td>\n",
       "      <td>30</td>\n",
       "      <td>19</td>\n",
       "      <td>600000.0</td>\n",
       "      <td>2018</td>\n",
       "      <td>7</td>\n",
       "      <td>2</td>\n",
       "      <td>последний</td>\n",
       "      <td>0.56</td>\n",
       "      <td>0.44</td>\n",
       "    </tr>\n",
       "  </tbody>\n",
       "</table>\n",
       "</div>"
      ],
      "text/plain": [
       "       total_images  last_price  total_area first_day_exposition  rooms  \\\n",
       "22869             0  15000000.0        25.0           2018-07-25      1   \n",
       "\n",
       "       ceiling_height  floors_total  living_area  floor  is_apartment  studio  \\\n",
       "22869           100.0           5.0         14.0      5          True   False   \n",
       "\n",
       "       open_plan  kitchen_area  balcony    locality_name  airports_nearest  \\\n",
       "22869      False          11.0        5  Санкт-Петербург             34963   \n",
       "\n",
       "       cityCenters_nearest  parks_around3000  parks_nearest  ponds_around3000  \\\n",
       "22869                 8283                 1            223                 3   \n",
       "\n",
       "       ponds_nearest  days_exposition  price_by_sq_m  year_date_exposition  \\\n",
       "22869             30               19       600000.0                  2018   \n",
       "\n",
       "       month_date_exposition  dayofweek_date_exposition  floor_cat  \\\n",
       "22869                      7                          2  последний   \n",
       "\n",
       "       rel_liv_to_total_area  rel_kit_to_total_area  \n",
       "22869                   0.56                   0.44  "
      ]
     },
     "execution_count": 23,
     "metadata": {},
     "output_type": "execute_result"
    }
   ],
   "source": [
    "data.query('ceiling_height==100')"
   ]
  },
  {
   "cell_type": "code",
   "execution_count": 24,
   "metadata": {},
   "outputs": [
    {
     "data": {
      "text/html": [
       "<div>\n",
       "<style scoped>\n",
       "    .dataframe tbody tr th:only-of-type {\n",
       "        vertical-align: middle;\n",
       "    }\n",
       "\n",
       "    .dataframe tbody tr th {\n",
       "        vertical-align: top;\n",
       "    }\n",
       "\n",
       "    .dataframe thead th {\n",
       "        text-align: right;\n",
       "    }\n",
       "</style>\n",
       "<table border=\"1\" class=\"dataframe\">\n",
       "  <thead>\n",
       "    <tr style=\"text-align: right;\">\n",
       "      <th></th>\n",
       "      <th>total_images</th>\n",
       "      <th>last_price</th>\n",
       "      <th>total_area</th>\n",
       "      <th>first_day_exposition</th>\n",
       "      <th>rooms</th>\n",
       "      <th>ceiling_height</th>\n",
       "      <th>floors_total</th>\n",
       "      <th>living_area</th>\n",
       "      <th>floor</th>\n",
       "      <th>is_apartment</th>\n",
       "      <th>studio</th>\n",
       "      <th>open_plan</th>\n",
       "      <th>kitchen_area</th>\n",
       "      <th>balcony</th>\n",
       "      <th>locality_name</th>\n",
       "      <th>airports_nearest</th>\n",
       "      <th>cityCenters_nearest</th>\n",
       "      <th>parks_around3000</th>\n",
       "      <th>parks_nearest</th>\n",
       "      <th>ponds_around3000</th>\n",
       "      <th>ponds_nearest</th>\n",
       "      <th>days_exposition</th>\n",
       "      <th>price_by_sq_m</th>\n",
       "      <th>year_date_exposition</th>\n",
       "      <th>month_date_exposition</th>\n",
       "      <th>dayofweek_date_exposition</th>\n",
       "      <th>floor_cat</th>\n",
       "      <th>rel_liv_to_total_area</th>\n",
       "      <th>rel_kit_to_total_area</th>\n",
       "    </tr>\n",
       "  </thead>\n",
       "  <tbody>\n",
       "    <tr>\n",
       "      <td>14498</td>\n",
       "      <td>6</td>\n",
       "      <td>32250000.0</td>\n",
       "      <td>374.6</td>\n",
       "      <td>2018-06-09</td>\n",
       "      <td>19</td>\n",
       "      <td>2.771499</td>\n",
       "      <td>5.0</td>\n",
       "      <td>264.5</td>\n",
       "      <td>2</td>\n",
       "      <td>False</td>\n",
       "      <td>False</td>\n",
       "      <td>False</td>\n",
       "      <td>27.6</td>\n",
       "      <td>0</td>\n",
       "      <td>Санкт-Петербург</td>\n",
       "      <td>19497</td>\n",
       "      <td>3574</td>\n",
       "      <td>0</td>\n",
       "      <td>-9999</td>\n",
       "      <td>2</td>\n",
       "      <td>548</td>\n",
       "      <td>114</td>\n",
       "      <td>86091.831287</td>\n",
       "      <td>2018</td>\n",
       "      <td>6</td>\n",
       "      <td>5</td>\n",
       "      <td>другой</td>\n",
       "      <td>0.706086</td>\n",
       "      <td>0.073679</td>\n",
       "    </tr>\n",
       "  </tbody>\n",
       "</table>\n",
       "</div>"
      ],
      "text/plain": [
       "       total_images  last_price  total_area first_day_exposition  rooms  \\\n",
       "14498             6  32250000.0       374.6           2018-06-09     19   \n",
       "\n",
       "       ceiling_height  floors_total  living_area  floor  is_apartment  studio  \\\n",
       "14498        2.771499           5.0        264.5      2         False   False   \n",
       "\n",
       "       open_plan  kitchen_area  balcony    locality_name  airports_nearest  \\\n",
       "14498      False          27.6        0  Санкт-Петербург             19497   \n",
       "\n",
       "       cityCenters_nearest  parks_around3000  parks_nearest  ponds_around3000  \\\n",
       "14498                 3574                 0          -9999                 2   \n",
       "\n",
       "       ponds_nearest  days_exposition  price_by_sq_m  year_date_exposition  \\\n",
       "14498            548              114   86091.831287                  2018   \n",
       "\n",
       "       month_date_exposition  dayofweek_date_exposition floor_cat  \\\n",
       "14498                      6                          5    другой   \n",
       "\n",
       "       rel_liv_to_total_area  rel_kit_to_total_area  \n",
       "14498               0.706086               0.073679  "
      ]
     },
     "execution_count": 24,
     "metadata": {},
     "output_type": "execute_result"
    }
   ],
   "source": [
    "data.query('rooms==19')"
   ]
  },
  {
   "cell_type": "code",
   "execution_count": 25,
   "metadata": {},
   "outputs": [
    {
     "data": {
      "text/html": [
       "<div>\n",
       "<style scoped>\n",
       "    .dataframe tbody tr th:only-of-type {\n",
       "        vertical-align: middle;\n",
       "    }\n",
       "\n",
       "    .dataframe tbody tr th {\n",
       "        vertical-align: top;\n",
       "    }\n",
       "\n",
       "    .dataframe thead th {\n",
       "        text-align: right;\n",
       "    }\n",
       "</style>\n",
       "<table border=\"1\" class=\"dataframe\">\n",
       "  <thead>\n",
       "    <tr style=\"text-align: right;\">\n",
       "      <th></th>\n",
       "      <th>total_images</th>\n",
       "      <th>last_price</th>\n",
       "      <th>total_area</th>\n",
       "      <th>first_day_exposition</th>\n",
       "      <th>rooms</th>\n",
       "      <th>ceiling_height</th>\n",
       "      <th>floors_total</th>\n",
       "      <th>living_area</th>\n",
       "      <th>floor</th>\n",
       "      <th>is_apartment</th>\n",
       "      <th>studio</th>\n",
       "      <th>open_plan</th>\n",
       "      <th>kitchen_area</th>\n",
       "      <th>balcony</th>\n",
       "      <th>locality_name</th>\n",
       "      <th>airports_nearest</th>\n",
       "      <th>cityCenters_nearest</th>\n",
       "      <th>parks_around3000</th>\n",
       "      <th>parks_nearest</th>\n",
       "      <th>ponds_around3000</th>\n",
       "      <th>ponds_nearest</th>\n",
       "      <th>days_exposition</th>\n",
       "      <th>price_by_sq_m</th>\n",
       "      <th>year_date_exposition</th>\n",
       "      <th>month_date_exposition</th>\n",
       "      <th>dayofweek_date_exposition</th>\n",
       "      <th>floor_cat</th>\n",
       "      <th>rel_liv_to_total_area</th>\n",
       "      <th>rel_kit_to_total_area</th>\n",
       "    </tr>\n",
       "  </thead>\n",
       "  <tbody>\n",
       "    <tr>\n",
       "      <td>19540</td>\n",
       "      <td>8</td>\n",
       "      <td>420000000.0</td>\n",
       "      <td>900.0</td>\n",
       "      <td>2017-12-06</td>\n",
       "      <td>12</td>\n",
       "      <td>2.8</td>\n",
       "      <td>25.0</td>\n",
       "      <td>409.7</td>\n",
       "      <td>25</td>\n",
       "      <td>False</td>\n",
       "      <td>False</td>\n",
       "      <td>False</td>\n",
       "      <td>112.0</td>\n",
       "      <td>0</td>\n",
       "      <td>Санкт-Петербург</td>\n",
       "      <td>30706</td>\n",
       "      <td>7877</td>\n",
       "      <td>0</td>\n",
       "      <td>-9999</td>\n",
       "      <td>2</td>\n",
       "      <td>318</td>\n",
       "      <td>106</td>\n",
       "      <td>466666.666667</td>\n",
       "      <td>2017</td>\n",
       "      <td>12</td>\n",
       "      <td>2</td>\n",
       "      <td>последний</td>\n",
       "      <td>0.455222</td>\n",
       "      <td>0.124444</td>\n",
       "    </tr>\n",
       "  </tbody>\n",
       "</table>\n",
       "</div>"
      ],
      "text/plain": [
       "       total_images   last_price  total_area first_day_exposition  rooms  \\\n",
       "19540             8  420000000.0       900.0           2017-12-06     12   \n",
       "\n",
       "       ceiling_height  floors_total  living_area  floor  is_apartment  studio  \\\n",
       "19540             2.8          25.0        409.7     25         False   False   \n",
       "\n",
       "       open_plan  kitchen_area  balcony    locality_name  airports_nearest  \\\n",
       "19540      False         112.0        0  Санкт-Петербург             30706   \n",
       "\n",
       "       cityCenters_nearest  parks_around3000  parks_nearest  ponds_around3000  \\\n",
       "19540                 7877                 0          -9999                 2   \n",
       "\n",
       "       ponds_nearest  days_exposition  price_by_sq_m  year_date_exposition  \\\n",
       "19540            318              106  466666.666667                  2017   \n",
       "\n",
       "       month_date_exposition  dayofweek_date_exposition  floor_cat  \\\n",
       "19540                     12                          2  последний   \n",
       "\n",
       "       rel_liv_to_total_area  rel_kit_to_total_area  \n",
       "19540               0.455222               0.124444  "
      ]
     },
     "execution_count": 25,
     "metadata": {},
     "output_type": "execute_result"
    }
   ],
   "source": [
    "data.query('total_area==900')"
   ]
  },
  {
   "cell_type": "code",
   "execution_count": 26,
   "metadata": {},
   "outputs": [],
   "source": [
    "data = data.query(\"\"\"ceiling_height < 100 and rooms < 19 and total_area < 900 and last_price < 7.000000e+08 and last_price > 1000\"\"\")"
   ]
  },
  {
   "cell_type": "markdown",
   "metadata": {},
   "source": [
    "#### вывод\n",
    "требуется проанализировать поля площадь, цена, число комнат, высота потолков\n",
    "посмотрев на чистых данных min, max, mean сразу видим выбросы\n",
    "которые также мешают анализу гистограммы\n",
    "поэтому посмотрим гистограмму без выбросов"
   ]
  },
  {
   "cell_type": "markdown",
   "metadata": {},
   "source": [
    "### анализ гистограмм без выбросов"
   ]
  },
  {
   "cell_type": "code",
   "execution_count": 27,
   "metadata": {},
   "outputs": [
    {
     "data": {
      "text/plain": [
       "<matplotlib.axes._subplots.AxesSubplot at 0x7f9733475050>"
      ]
     },
     "execution_count": 27,
     "metadata": {},
     "output_type": "execute_result"
    },
    {
     "data": {
      "image/png": "[encoded data removed]",
      "text/plain": [
       "<Figure size 432x288 with 1 Axes>"
      ]
     },
     "metadata": {
      "needs_background": "light"
     },
     "output_type": "display_data"
    }
   ],
   "source": [
    "data['total_area'].plot(kind='hist', bins=10, range=(0, 200))"
   ]
  },
  {
   "cell_type": "code",
   "execution_count": 28,
   "metadata": {},
   "outputs": [
    {
     "data": {
      "text/plain": [
       "<matplotlib.axes._subplots.AxesSubplot at 0x7f972a23ea50>"
      ]
     },
     "execution_count": 28,
     "metadata": {},
     "output_type": "execute_result"
    },
    {
     "data": {
      "image/png": "[encoded data removed]",
      "text/plain": [
       "<Figure size 432x288 with 1 Axes>"
      ]
     },
     "metadata": {
      "needs_background": "light"
     },
     "output_type": "display_data"
    }
   ],
   "source": [
    "data['last_price'].plot(kind='hist', bins=10, range=(0, 10000000))"
   ]
  },
  {
   "cell_type": "code",
   "execution_count": 29,
   "metadata": {},
   "outputs": [
    {
     "data": {
      "text/plain": [
       "<matplotlib.axes._subplots.AxesSubplot at 0x7f972a1acb50>"
      ]
     },
     "execution_count": 29,
     "metadata": {},
     "output_type": "execute_result"
    },
    {
     "data": {
      "image/png": "[encoded data removed]",
      "text/plain": [
       "<Figure size 432x288 with 1 Axes>"
      ]
     },
     "metadata": {
      "needs_background": "light"
     },
     "output_type": "display_data"
    }
   ],
   "source": [
    "data['rooms'].plot(kind='hist', bins=10, range=(0, 10))"
   ]
  },
  {
   "cell_type": "code",
   "execution_count": 30,
   "metadata": {},
   "outputs": [
    {
     "data": {
      "text/plain": [
       "<matplotlib.axes._subplots.AxesSubplot at 0x7f972a13c410>"
      ]
     },
     "execution_count": 30,
     "metadata": {},
     "output_type": "execute_result"
    },
    {
     "data": {
      "image/png": "[encoded data removed]",
      "text/plain": [
       "<Figure size 432x288 with 1 Axes>"
      ]
     },
     "metadata": {
      "needs_background": "light"
     },
     "output_type": "display_data"
    }
   ],
   "source": [
    "data['ceiling_height'].plot(kind='hist', bins=10, range=(2.25, 4))"
   ]
  },
  {
   "cell_type": "markdown",
   "metadata": {},
   "source": [
    "### время продажи квартиры"
   ]
  },
  {
   "cell_type": "code",
   "execution_count": 31,
   "metadata": {},
   "outputs": [
    {
     "data": {
      "text/plain": [
       "count    23695.000000\n",
       "mean     -1185.719266\n",
       "std       3476.608360\n",
       "min      -9999.000000\n",
       "25%         22.000000\n",
       "50%         74.000000\n",
       "75%        199.000000\n",
       "max       1580.000000\n",
       "Name: days_exposition, dtype: float64"
      ]
     },
     "execution_count": 31,
     "metadata": {},
     "output_type": "execute_result"
    }
   ],
   "source": [
    "data['days_exposition'].describe()"
   ]
  },
  {
   "cell_type": "markdown",
   "metadata": {},
   "source": [
    "в выборке присутствует дефолтные значения -9999\n",
    "удалим их из анализа"
   ]
  },
  {
   "cell_type": "code",
   "execution_count": 32,
   "metadata": {},
   "outputs": [
    {
     "data": {
      "text/plain": [
       "count    20514.000000\n",
       "mean       180.910646\n",
       "std        219.742958\n",
       "min          1.000000\n",
       "25%         45.000000\n",
       "50%         95.000000\n",
       "75%        232.000000\n",
       "max       1580.000000\n",
       "Name: days_exposition, dtype: float64"
      ]
     },
     "execution_count": 32,
     "metadata": {},
     "output_type": "execute_result"
    }
   ],
   "source": [
    "data.query('days_exposition != -9999')['days_exposition'].describe()"
   ]
  },
  {
   "cell_type": "code",
   "execution_count": 33,
   "metadata": {},
   "outputs": [
    {
     "data": {
      "text/plain": [
       "<matplotlib.axes._subplots.AxesSubplot at 0x7f972a0c11d0>"
      ]
     },
     "execution_count": 33,
     "metadata": {},
     "output_type": "execute_result"
    },
    {
     "data": {
      "image/png": "[encoded data removed]",
      "text/plain": [
       "<Figure size 432x288 with 1 Axes>"
      ]
     },
     "metadata": {
      "needs_background": "light"
     },
     "output_type": "display_data"
    }
   ],
   "source": [
    "data.query('days_exposition != -9999')['days_exposition'].plot(kind='hist', bins=10, color='green')"
   ]
  },
  {
   "cell_type": "markdown",
   "metadata": {},
   "source": [
    "#### вывод\n",
    "\n",
    "среднее - 181 день\n",
    "медиана - 95 дней\n",
    "\n",
    "можно считать, что продажи прошли быстро, если попали в первый квантиль - 45 дней\n",
    "продажи шли долго - если в третьем квантиле - более 232 дней"
   ]
  },
  {
   "cell_type": "markdown",
   "metadata": {},
   "source": [
    "### факторы влияющие на стоимость квартиры"
   ]
  },
  {
   "cell_type": "code",
   "execution_count": 34,
   "metadata": {},
   "outputs": [
    {
     "data": {
      "text/html": [
       "<div>\n",
       "<style scoped>\n",
       "    .dataframe tbody tr th:only-of-type {\n",
       "        vertical-align: middle;\n",
       "    }\n",
       "\n",
       "    .dataframe tbody tr th {\n",
       "        vertical-align: top;\n",
       "    }\n",
       "\n",
       "    .dataframe thead th {\n",
       "        text-align: right;\n",
       "    }\n",
       "</style>\n",
       "<table border=\"1\" class=\"dataframe\">\n",
       "  <thead>\n",
       "    <tr style=\"text-align: right;\">\n",
       "      <th></th>\n",
       "      <th>total_images</th>\n",
       "      <th>last_price</th>\n",
       "      <th>total_area</th>\n",
       "      <th>first_day_exposition</th>\n",
       "      <th>rooms</th>\n",
       "      <th>ceiling_height</th>\n",
       "      <th>floors_total</th>\n",
       "      <th>living_area</th>\n",
       "      <th>floor</th>\n",
       "      <th>is_apartment</th>\n",
       "      <th>studio</th>\n",
       "      <th>open_plan</th>\n",
       "      <th>kitchen_area</th>\n",
       "      <th>balcony</th>\n",
       "      <th>locality_name</th>\n",
       "      <th>airports_nearest</th>\n",
       "      <th>cityCenters_nearest</th>\n",
       "      <th>parks_around3000</th>\n",
       "      <th>parks_nearest</th>\n",
       "      <th>ponds_around3000</th>\n",
       "      <th>ponds_nearest</th>\n",
       "      <th>days_exposition</th>\n",
       "      <th>price_by_sq_m</th>\n",
       "      <th>year_date_exposition</th>\n",
       "      <th>month_date_exposition</th>\n",
       "      <th>dayofweek_date_exposition</th>\n",
       "      <th>floor_cat</th>\n",
       "      <th>rel_liv_to_total_area</th>\n",
       "      <th>rel_kit_to_total_area</th>\n",
       "    </tr>\n",
       "  </thead>\n",
       "  <tbody>\n",
       "    <tr>\n",
       "      <td>0</td>\n",
       "      <td>20</td>\n",
       "      <td>13000000.0</td>\n",
       "      <td>108.0</td>\n",
       "      <td>2019-03-07</td>\n",
       "      <td>3</td>\n",
       "      <td>2.7</td>\n",
       "      <td>16.0</td>\n",
       "      <td>51.0</td>\n",
       "      <td>8</td>\n",
       "      <td>False</td>\n",
       "      <td>False</td>\n",
       "      <td>False</td>\n",
       "      <td>25.0</td>\n",
       "      <td>0</td>\n",
       "      <td>Санкт-Петербург</td>\n",
       "      <td>18863</td>\n",
       "      <td>16028</td>\n",
       "      <td>1</td>\n",
       "      <td>482</td>\n",
       "      <td>2</td>\n",
       "      <td>755</td>\n",
       "      <td>-9999</td>\n",
       "      <td>120370.37037</td>\n",
       "      <td>2019</td>\n",
       "      <td>3</td>\n",
       "      <td>3</td>\n",
       "      <td>другой</td>\n",
       "      <td>0.472222</td>\n",
       "      <td>0.231481</td>\n",
       "    </tr>\n",
       "  </tbody>\n",
       "</table>\n",
       "</div>"
      ],
      "text/plain": [
       "   total_images  last_price  total_area first_day_exposition  rooms  \\\n",
       "0            20  13000000.0       108.0           2019-03-07      3   \n",
       "\n",
       "   ceiling_height  floors_total  living_area  floor  is_apartment  studio  \\\n",
       "0             2.7          16.0         51.0      8         False   False   \n",
       "\n",
       "   open_plan  kitchen_area  balcony    locality_name  airports_nearest  \\\n",
       "0      False          25.0        0  Санкт-Петербург             18863   \n",
       "\n",
       "   cityCenters_nearest  parks_around3000  parks_nearest  ponds_around3000  \\\n",
       "0                16028                 1            482                 2   \n",
       "\n",
       "   ponds_nearest  days_exposition  price_by_sq_m  year_date_exposition  \\\n",
       "0            755            -9999   120370.37037                  2019   \n",
       "\n",
       "   month_date_exposition  dayofweek_date_exposition floor_cat  \\\n",
       "0                      3                          3    другой   \n",
       "\n",
       "   rel_liv_to_total_area  rel_kit_to_total_area  \n",
       "0               0.472222               0.231481  "
      ]
     },
     "execution_count": 34,
     "metadata": {},
     "output_type": "execute_result"
    }
   ],
   "source": [
    "data.head(1)"
   ]
  },
  {
   "cell_type": "code",
   "execution_count": 35,
   "metadata": {},
   "outputs": [],
   "source": [
    "feat_for_analys = ['total_area', 'rooms', 'cityCenters_nearest',\n",
    "                   'year_date_exposition', 'month_date_exposition', 'dayofweek_date_exposition']"
   ]
  },
  {
   "cell_type": "code",
   "execution_count": 36,
   "metadata": {},
   "outputs": [
    {
     "name": "stdout",
     "output_type": "stream",
     "text": [
      "Корреляция стоимости квартиры с total_area: 0.6955116465327348\n",
      "Корреляция стоимости квартиры с rooms: 0.39207171086710874\n",
      "Корреляция стоимости квартиры с cityCenters_nearest: 0.023028431633282026\n",
      "Корреляция стоимости квартиры с year_date_exposition: -0.048483175180514725\n",
      "Корреляция стоимости квартиры с month_date_exposition: -0.0022966673607068425\n",
      "Корреляция стоимости квартиры с dayofweek_date_exposition: -0.0023897009536032973\n"
     ]
    }
   ],
   "source": [
    "for f in feat_for_analys:\n",
    "    print(f\"Корреляция стоимости квартиры с {f}: {data['last_price'].corr(data[f])}\")"
   ]
  },
  {
   "cell_type": "code",
   "execution_count": 37,
   "metadata": {},
   "outputs": [
    {
     "name": "stdout",
     "output_type": "stream",
     "text": [
      "Корреляция стоимости квартиры с floor_cat: 0.05849369704675293\n"
     ]
    }
   ],
   "source": [
    "print(f\"Корреляция стоимости квартиры с floor_cat: {data['last_price'].corr(data['floor_cat'].apply(lambda x: -1 if x=='первый' else 1 if x=='последний' else 0))}\")"
   ]
  },
  {
   "cell_type": "code",
   "execution_count": null,
   "metadata": {},
   "outputs": [],
   "source": []
  },
  {
   "cell_type": "code",
   "execution_count": 38,
   "metadata": {},
   "outputs": [
    {
     "data": {
      "text/plain": [
       "Санкт-Петербург      15717\n",
       "посёлок Мурино         522\n",
       "посёлок Шушары         440\n",
       "Всеволожск             398\n",
       "Пушкин                 369\n",
       "Колпино                338\n",
       "посёлок Парголово      327\n",
       "Гатчина                307\n",
       "деревня Кудрово        299\n",
       "Выборг                 237\n",
       "Name: locality_name, dtype: int64"
      ]
     },
     "execution_count": 38,
     "metadata": {},
     "output_type": "execute_result"
    }
   ],
   "source": [
    "# 10 населённых пунктов с наибольшим числом объявлений\n",
    "city_top10 = data['locality_name'].value_counts().head(10)\n",
    "city_top10"
   ]
  },
  {
   "cell_type": "code",
   "execution_count": 39,
   "metadata": {},
   "outputs": [
    {
     "data": {
      "text/html": [
       "<div>\n",
       "<style scoped>\n",
       "    .dataframe tbody tr th:only-of-type {\n",
       "        vertical-align: middle;\n",
       "    }\n",
       "\n",
       "    .dataframe tbody tr th {\n",
       "        vertical-align: top;\n",
       "    }\n",
       "\n",
       "    .dataframe thead th {\n",
       "        text-align: right;\n",
       "    }\n",
       "</style>\n",
       "<table border=\"1\" class=\"dataframe\">\n",
       "  <thead>\n",
       "    <tr style=\"text-align: right;\">\n",
       "      <th></th>\n",
       "      <th>mean</th>\n",
       "      <th>min</th>\n",
       "      <th>max</th>\n",
       "    </tr>\n",
       "    <tr>\n",
       "      <th>locality_name</th>\n",
       "      <th></th>\n",
       "      <th></th>\n",
       "      <th></th>\n",
       "    </tr>\n",
       "  </thead>\n",
       "  <tbody>\n",
       "    <tr>\n",
       "      <td>Санкт-Петербург</td>\n",
       "      <td>114690.818078</td>\n",
       "      <td>15345.268542</td>\n",
       "      <td>1.736842e+06</td>\n",
       "    </tr>\n",
       "    <tr>\n",
       "      <td>Пушкин</td>\n",
       "      <td>103125.819291</td>\n",
       "      <td>59836.065574</td>\n",
       "      <td>2.565217e+05</td>\n",
       "    </tr>\n",
       "    <tr>\n",
       "      <td>деревня Кудрово</td>\n",
       "      <td>92473.547576</td>\n",
       "      <td>54160.346696</td>\n",
       "      <td>1.428571e+05</td>\n",
       "    </tr>\n",
       "    <tr>\n",
       "      <td>посёлок Парголово</td>\n",
       "      <td>90175.913458</td>\n",
       "      <td>39205.955335</td>\n",
       "      <td>1.385224e+05</td>\n",
       "    </tr>\n",
       "    <tr>\n",
       "      <td>посёлок Мурино</td>\n",
       "      <td>85752.189195</td>\n",
       "      <td>50000.000000</td>\n",
       "      <td>1.385802e+05</td>\n",
       "    </tr>\n",
       "    <tr>\n",
       "      <td>посёлок Шушары</td>\n",
       "      <td>78677.364217</td>\n",
       "      <td>47700.416089</td>\n",
       "      <td>1.478261e+05</td>\n",
       "    </tr>\n",
       "    <tr>\n",
       "      <td>Колпино</td>\n",
       "      <td>75424.579098</td>\n",
       "      <td>47957.371226</td>\n",
       "      <td>1.250000e+05</td>\n",
       "    </tr>\n",
       "    <tr>\n",
       "      <td>Гатчина</td>\n",
       "      <td>68746.146763</td>\n",
       "      <td>10507.246377</td>\n",
       "      <td>1.463158e+05</td>\n",
       "    </tr>\n",
       "    <tr>\n",
       "      <td>Всеволожск</td>\n",
       "      <td>68654.473986</td>\n",
       "      <td>31400.000000</td>\n",
       "      <td>6.404224e+05</td>\n",
       "    </tr>\n",
       "    <tr>\n",
       "      <td>Выборг</td>\n",
       "      <td>58141.909153</td>\n",
       "      <td>18750.000000</td>\n",
       "      <td>1.074731e+05</td>\n",
       "    </tr>\n",
       "  </tbody>\n",
       "</table>\n",
       "</div>"
      ],
      "text/plain": [
       "                            mean           min           max\n",
       "locality_name                                               \n",
       "Санкт-Петербург    114690.818078  15345.268542  1.736842e+06\n",
       "Пушкин             103125.819291  59836.065574  2.565217e+05\n",
       "деревня Кудрово     92473.547576  54160.346696  1.428571e+05\n",
       "посёлок Парголово   90175.913458  39205.955335  1.385224e+05\n",
       "посёлок Мурино      85752.189195  50000.000000  1.385802e+05\n",
       "посёлок Шушары      78677.364217  47700.416089  1.478261e+05\n",
       "Колпино             75424.579098  47957.371226  1.250000e+05\n",
       "Гатчина             68746.146763  10507.246377  1.463158e+05\n",
       "Всеволожск          68654.473986  31400.000000  6.404224e+05\n",
       "Выборг              58141.909153  18750.000000  1.074731e+05"
      ]
     },
     "execution_count": 39,
     "metadata": {},
     "output_type": "execute_result"
    }
   ],
   "source": [
    "(\n",
    "    data\n",
    "    .query(\"locality_name.isin(@city_top10.index) and price_by_sq_m > 200\")\n",
    "    .groupby('locality_name')['price_by_sq_m']\n",
    "    .agg(['mean', 'min', 'max'])\n",
    "    .sort_values(by=['mean'], ascending=False)\n",
    ")"
   ]
  },
  {
   "cell_type": "markdown",
   "metadata": {},
   "source": [
    "#### вывод\n",
    "наибольшая корреляция цены с площадью и количеством комнат (но они между собой тоже коррелируеют)\n",
    "в городах с топ10 объявлений:\n",
    "- наибольшие средние в Санкт-Петербурге и Пушкине\n",
    "- наибольший максимум в Санкт-Петербурге\n",
    "- самые дешевые квартиры в Гатчине"
   ]
  },
  {
   "cell_type": "markdown",
   "metadata": {},
   "source": [
    "### информация о расстоянии до центра"
   ]
  },
  {
   "cell_type": "code",
   "execution_count": 40,
   "metadata": {},
   "outputs": [
    {
     "data": {
      "text/plain": [
       "(15717, 29)"
      ]
     },
     "execution_count": 40,
     "metadata": {},
     "output_type": "execute_result"
    }
   ],
   "source": [
    "data_sb = data.query(\"locality_name == 'Санкт-Петербург'\")\n",
    "data_sb.shape"
   ]
  },
  {
   "cell_type": "code",
   "execution_count": 41,
   "metadata": {},
   "outputs": [
    {
     "name": "stderr",
     "output_type": "stream",
     "text": [
      "/opt/conda/lib/python3.7/site-packages/ipykernel_launcher.py:1: SettingWithCopyWarning: \n",
      "A value is trying to be set on a copy of a slice from a DataFrame.\n",
      "Try using .loc[row_indexer,col_indexer] = value instead\n",
      "\n",
      "See the caveats in the documentation: http://pandas.pydata.org/pandas-docs/stable/user_guide/indexing.html#returning-a-view-versus-a-copy\n",
      "  \"\"\"Entry point for launching an IPython kernel.\n"
     ]
    },
    {
     "data": {
      "text/html": [
       "<div>\n",
       "<style scoped>\n",
       "    .dataframe tbody tr th:only-of-type {\n",
       "        vertical-align: middle;\n",
       "    }\n",
       "\n",
       "    .dataframe tbody tr th {\n",
       "        vertical-align: top;\n",
       "    }\n",
       "\n",
       "    .dataframe thead th {\n",
       "        text-align: right;\n",
       "    }\n",
       "</style>\n",
       "<table border=\"1\" class=\"dataframe\">\n",
       "  <thead>\n",
       "    <tr style=\"text-align: right;\">\n",
       "      <th></th>\n",
       "      <th>total_images</th>\n",
       "      <th>last_price</th>\n",
       "      <th>total_area</th>\n",
       "      <th>first_day_exposition</th>\n",
       "      <th>rooms</th>\n",
       "      <th>ceiling_height</th>\n",
       "      <th>floors_total</th>\n",
       "      <th>living_area</th>\n",
       "      <th>floor</th>\n",
       "      <th>is_apartment</th>\n",
       "      <th>studio</th>\n",
       "      <th>open_plan</th>\n",
       "      <th>kitchen_area</th>\n",
       "      <th>balcony</th>\n",
       "      <th>locality_name</th>\n",
       "      <th>airports_nearest</th>\n",
       "      <th>cityCenters_nearest</th>\n",
       "      <th>parks_around3000</th>\n",
       "      <th>parks_nearest</th>\n",
       "      <th>ponds_around3000</th>\n",
       "      <th>ponds_nearest</th>\n",
       "      <th>days_exposition</th>\n",
       "      <th>price_by_sq_m</th>\n",
       "      <th>year_date_exposition</th>\n",
       "      <th>month_date_exposition</th>\n",
       "      <th>dayofweek_date_exposition</th>\n",
       "      <th>floor_cat</th>\n",
       "      <th>rel_liv_to_total_area</th>\n",
       "      <th>rel_kit_to_total_area</th>\n",
       "      <th>cityCenters_nearest_km</th>\n",
       "    </tr>\n",
       "  </thead>\n",
       "  <tbody>\n",
       "    <tr>\n",
       "      <td>0</td>\n",
       "      <td>20</td>\n",
       "      <td>13000000.0</td>\n",
       "      <td>108.0</td>\n",
       "      <td>2019-03-07</td>\n",
       "      <td>3</td>\n",
       "      <td>2.7</td>\n",
       "      <td>16.0</td>\n",
       "      <td>51.0</td>\n",
       "      <td>8</td>\n",
       "      <td>False</td>\n",
       "      <td>False</td>\n",
       "      <td>False</td>\n",
       "      <td>25.0</td>\n",
       "      <td>0</td>\n",
       "      <td>Санкт-Петербург</td>\n",
       "      <td>18863</td>\n",
       "      <td>16028</td>\n",
       "      <td>1</td>\n",
       "      <td>482</td>\n",
       "      <td>2</td>\n",
       "      <td>755</td>\n",
       "      <td>-9999</td>\n",
       "      <td>120370.37037</td>\n",
       "      <td>2019</td>\n",
       "      <td>3</td>\n",
       "      <td>3</td>\n",
       "      <td>другой</td>\n",
       "      <td>0.472222</td>\n",
       "      <td>0.231481</td>\n",
       "      <td>16.0</td>\n",
       "    </tr>\n",
       "  </tbody>\n",
       "</table>\n",
       "</div>"
      ],
      "text/plain": [
       "   total_images  last_price  total_area first_day_exposition  rooms  \\\n",
       "0            20  13000000.0       108.0           2019-03-07      3   \n",
       "\n",
       "   ceiling_height  floors_total  living_area  floor  is_apartment  studio  \\\n",
       "0             2.7          16.0         51.0      8         False   False   \n",
       "\n",
       "   open_plan  kitchen_area  balcony    locality_name  airports_nearest  \\\n",
       "0      False          25.0        0  Санкт-Петербург             18863   \n",
       "\n",
       "   cityCenters_nearest  parks_around3000  parks_nearest  ponds_around3000  \\\n",
       "0                16028                 1            482                 2   \n",
       "\n",
       "   ponds_nearest  days_exposition  price_by_sq_m  year_date_exposition  \\\n",
       "0            755            -9999   120370.37037                  2019   \n",
       "\n",
       "   month_date_exposition  dayofweek_date_exposition floor_cat  \\\n",
       "0                      3                          3    другой   \n",
       "\n",
       "   rel_liv_to_total_area  rel_kit_to_total_area  cityCenters_nearest_km  \n",
       "0               0.472222               0.231481                    16.0  "
      ]
     },
     "execution_count": 41,
     "metadata": {},
     "output_type": "execute_result"
    }
   ],
   "source": [
    "data_sb['cityCenters_nearest_km'] = round(data['cityCenters_nearest'] / 1000)\n",
    "data_sb.head(1)"
   ]
  },
  {
   "cell_type": "code",
   "execution_count": 42,
   "metadata": {},
   "outputs": [
    {
     "data": {
      "text/plain": [
       "<matplotlib.axes._subplots.AxesSubplot at 0x7f9729fdcb10>"
      ]
     },
     "execution_count": 42,
     "metadata": {},
     "output_type": "execute_result"
    },
    {
     "data": {
      "image/png": "[encoded data removed]",
      "text/plain": [
       "<Figure size 432x288 with 1 Axes>"
      ]
     },
     "metadata": {
      "needs_background": "light"
     },
     "output_type": "display_data"
    }
   ],
   "source": [
    "(\n",
    "    data_sb.query(\"cityCenters_nearest_km > 0\")\n",
    "    .groupby('cityCenters_nearest_km')['last_price']\n",
    "    .mean()\n",
    "    .plot(grid=True)\n",
    ")"
   ]
  },
  {
   "cell_type": "markdown",
   "metadata": {},
   "source": [
    "#### вывод\n",
    "из шоафика видим, что чем ближе к центру, тем квартиры дороже"
   ]
  },
  {
   "cell_type": "markdown",
   "metadata": {},
   "source": [
    "### сегмент квартир в центре"
   ]
  },
  {
   "cell_type": "code",
   "execution_count": 43,
   "metadata": {},
   "outputs": [
    {
     "data": {
      "text/plain": [
       "(3164, 30)"
      ]
     },
     "execution_count": 43,
     "metadata": {},
     "output_type": "execute_result"
    }
   ],
   "source": [
    "data_sb_center = data_sb.query(\"cityCenters_nearest_km <= 6\")\n",
    "data_sb_center.shape"
   ]
  },
  {
   "cell_type": "code",
   "execution_count": 44,
   "metadata": {},
   "outputs": [
    {
     "name": "stdout",
     "output_type": "stream",
     "text": [
      "        total_area\n",
      "count  3164.000000\n",
      "mean     94.371625\n",
      "std      60.122081\n",
      "min      12.000000\n",
      "25%      58.300000\n",
      "50%      80.000000\n",
      "75%     110.600000\n",
      "max     631.200000\n",
      "             rooms\n",
      "count  3164.000000\n",
      "mean      2.871365\n",
      "std       1.461125\n",
      "min       0.000000\n",
      "25%       2.000000\n",
      "50%       3.000000\n",
      "75%       4.000000\n",
      "max      16.000000\n",
      "         last_price\n",
      "count  3.164000e+03\n",
      "mean   1.468496e+07\n",
      "std    2.118830e+07\n",
      "min    1.600000e+06\n",
      "25%    6.796750e+06\n",
      "50%    9.359950e+06\n",
      "75%    1.440000e+07\n",
      "max    4.013000e+08\n",
      "       ceiling_height\n",
      "count     3164.000000\n",
      "mean         3.013296\n",
      "std          0.753313\n",
      "min          2.400000\n",
      "25%          2.771499\n",
      "50%          2.830000\n",
      "75%          3.200000\n",
      "max         32.000000\n"
     ]
    }
   ],
   "source": [
    "feat_for_analys = ['total_area', 'rooms', 'last_price', 'ceiling_height']\n",
    "\n",
    "for c in feat_for_analys:\n",
    "    print(pd.DataFrame(data_sb_center[c].describe()))"
   ]
  },
  {
   "cell_type": "code",
   "execution_count": 45,
   "metadata": {},
   "outputs": [
    {
     "data": {
      "text/plain": [
       "<matplotlib.axes._subplots.AxesSubplot at 0x7f9729f64b10>"
      ]
     },
     "execution_count": 45,
     "metadata": {},
     "output_type": "execute_result"
    },
    {
     "data": {
      "image/png": "[encoded data removed]",
      "text/plain": [
       "<Figure size 432x288 with 1 Axes>"
      ]
     },
     "metadata": {
      "needs_background": "light"
     },
     "output_type": "display_data"
    }
   ],
   "source": [
    "data_sb_center['total_area'].plot(kind='hist', bins=10, range=(0, 200))"
   ]
  },
  {
   "cell_type": "code",
   "execution_count": 46,
   "metadata": {},
   "outputs": [
    {
     "data": {
      "text/plain": [
       "<matplotlib.axes._subplots.AxesSubplot at 0x7f9729effa90>"
      ]
     },
     "execution_count": 46,
     "metadata": {},
     "output_type": "execute_result"
    },
    {
     "data": {
      "image/png": "[encoded data removed]",
      "text/plain": [
       "<Figure size 432x288 with 1 Axes>"
      ]
     },
     "metadata": {
      "needs_background": "light"
     },
     "output_type": "display_data"
    }
   ],
   "source": [
    "data_sb_center['rooms'].plot(kind='hist', bins=10, range=(0, 10))"
   ]
  },
  {
   "cell_type": "code",
   "execution_count": 47,
   "metadata": {},
   "outputs": [
    {
     "data": {
      "text/plain": [
       "<matplotlib.axes._subplots.AxesSubplot at 0x7f972a02b110>"
      ]
     },
     "execution_count": 47,
     "metadata": {},
     "output_type": "execute_result"
    },
    {
     "data": {
      "image/png": "[encoded data removed]",
      "text/plain": [
       "<Figure size 432x288 with 1 Axes>"
      ]
     },
     "metadata": {
      "needs_background": "light"
     },
     "output_type": "display_data"
    }
   ],
   "source": [
    "data_sb_center['last_price'].plot(kind='hist', bins=10, range=(0, 20000000))"
   ]
  },
  {
   "cell_type": "code",
   "execution_count": 48,
   "metadata": {},
   "outputs": [
    {
     "data": {
      "text/plain": [
       "<matplotlib.axes._subplots.AxesSubplot at 0x7f972a33e050>"
      ]
     },
     "execution_count": 48,
     "metadata": {},
     "output_type": "execute_result"
    },
    {
     "data": {
      "image/png": "[encoded data removed]",
      "text/plain": [
       "<Figure size 432x288 with 1 Axes>"
      ]
     },
     "metadata": {
      "needs_background": "light"
     },
     "output_type": "display_data"
    }
   ],
   "source": [
    "data_sb_center['ceiling_height'].plot(kind='hist', bins=10, range=(2.5, 4))"
   ]
  },
  {
   "cell_type": "code",
   "execution_count": 49,
   "metadata": {},
   "outputs": [
    {
     "name": "stdout",
     "output_type": "stream",
     "text": [
      "Корреляция стоимости квартиры с total_area: 0.6648158585039412\n",
      "Корреляция стоимости квартиры с rooms: 0.3348421818946889\n",
      "Корреляция стоимости квартиры с cityCenters_nearest: -0.03963031538675099\n",
      "Корреляция стоимости квартиры с year_date_exposition: -0.039988527342442\n",
      "Корреляция стоимости квартиры с month_date_exposition: -0.016577340265167207\n",
      "Корреляция стоимости квартиры с dayofweek_date_exposition: 0.011613696814767024\n",
      "Корреляция стоимости квартиры с floor_cat: 0.09444092046688485\n"
     ]
    }
   ],
   "source": [
    "feat_for_analys = ['total_area', 'rooms', 'cityCenters_nearest',\n",
    "                   'year_date_exposition', 'month_date_exposition', 'dayofweek_date_exposition']\n",
    "\n",
    "for f in feat_for_analys:\n",
    "    print(f\"Корреляция стоимости квартиры с {f}: {data_sb_center['last_price'].corr(data_sb_center[f])}\")\n",
    "    \n",
    "print(f\"Корреляция стоимости квартиры с floor_cat: {data_sb_center['last_price'].corr(data_sb_center['floor_cat'].apply(lambda x: -1 if x=='первый' else 1 if x=='последний' else 0))}\")"
   ]
  },
  {
   "cell_type": "markdown",
   "metadata": {},
   "source": [
    "#### вывод\n",
    "у квартир в центре ожидаемо больше следующие медианные значения параметров:\n",
    "- площадь 80 vs 52\n",
    "- стоимость 9.35млн vs 4.65млн\n",
    "- количество комнат 3 vs 2\n",
    "- высота потолков 2.83 vs 2.77"
   ]
  },
  {
   "cell_type": "markdown",
   "metadata": {},
   "source": [
    "## Общий вывод"
   ]
  },
  {
   "cell_type": "markdown",
   "metadata": {},
   "source": [
    "- Научились определять рыночную стоимость объектов недвижимости\n",
    "- Произвели предобработку данных\n",
    "- заполнили пропуски\n",
    "- построили распредления\n",
    "- исследование корреляции между параметрами\n",
    "- обнаружили зависимость стоимости от расстояния до центра\n",
    "- исследовали квартиры в центре Санкт-Петербурга\n",
    "\n",
    "После каждого этапа оставили выводы"
   ]
  },
  {
   "cell_type": "markdown",
   "metadata": {},
   "source": [
    "## Чек-лист готовности проекта\n",
    "\n",
    "Поставьте 'x' в выполненных пунктах. Далее нажмите Shift+Enter."
   ]
  },
  {
   "cell_type": "markdown",
   "metadata": {},
   "source": [
    "- [x]  открыт файл\n",
    "- [x]  файлы изучены (выведены первые строки, метод info())\n",
    "- [x]  определены пропущенные значения\n",
    "- [x]  заполнены пропущенные значения\n",
    "- [x]  есть пояснение, какие пропущенные значения обнаружены\n",
    "- [x]  изменены типы данных\n",
    "- [x]  есть пояснение, в каких столбцах изменены типы и почему\n",
    "- [x]  посчитано и добавлено в таблицу: цена квадратного метра\n",
    "- [x]  посчитано и добавлено в таблицу: день недели, месяц и год публикации объявления\n",
    "- [x]  посчитано и добавлено в таблицу: этаж квартиры; варианты — первый, последний, другой\n",
    "- [x]  посчитано и добавлено в таблицу: соотношение жилой и общей площади, а также отношение площади кухни к общей\n",
    "- [x]  изучены следующие параметры: площадь, цена, число комнат, высота потолков\n",
    "- [x]  построены гистограммы для каждого параметра\n",
    "- [x]  выполнено задание: \"Изучите время продажи квартиры. Постройте гистограмму. Посчитайте среднее и медиану. Опишите, сколько обычно занимает продажа. Когда можно считать, что продажи прошли очень быстро, а когда необычно долго?\"\n",
    "- [x]  выполнено задание: \"Уберите редкие и выбивающиеся значения. Опишите, какие особенности обнаружили.\"\n",
    "- [x]  выполнено задание: \"Какие факторы больше всего влияют на стоимость квартиры? Изучите, зависит ли цена от квадратного метра, числа комнат, этажа (первого или последнего), удалённости от центра. Также изучите зависимость от даты размещения: дня недели, месяца и года. \"Выберите 10 населённых пунктов с наибольшим числом объявлений. Посчитайте среднюю цену квадратного метра в этих населённых пунктах. Выделите населённые пункты с самой высокой и низкой стоимостью жилья. Эти данные можно найти по имени в столбце '*locality_name'*. \"\n",
    "- [x]  выполнено задание: \"Изучите предложения квартир: для каждой квартиры есть информация о расстоянии до центра. Выделите квартиры в Санкт-Петербурге (*'locality_name'*). Ваша задача — выяснить, какая область входит в центр. Создайте столбец с расстоянием до центра в километрах: округлите до целых значений. После этого посчитайте среднюю цену для каждого километра. Постройте график: он должен показывать, как цена зависит от удалённости от центра. Определите границу, где график сильно меняется — это и будет центральная зона. \"\n",
    "- [x]  выполнено задание: \"Выделите сегмент квартир в центре. Проанализируйте эту территорию и изучите следующие параметры: площадь, цена, число комнат, высота потолков. Также выделите факторы, которые влияют на стоимость квартиры (число комнат, этаж, удалённость от центра, дата размещения объявления). Сделайте выводы. Отличаются ли они от общих выводов по всему городу?\"\n",
    "- [x]  в каждом этапе есть выводы\n",
    "- [x]  есть общий вывод"
   ]
  },
  {
   "cell_type": "code",
   "execution_count": null,
   "metadata": {},
   "outputs": [],
   "source": []
  }
 ],
 "metadata": {
  "ExecuteTimeLog": [
   {
    "duration": 623,
    "start_time": "2021-11-13T09:02:37.418Z"
   },
   {
    "duration": 76,
    "start_time": "2021-11-13T09:02:51.417Z"
   },
   {
    "duration": 117,
    "start_time": "2021-11-13T09:03:04.133Z"
   },
   {
    "duration": 17,
    "start_time": "2021-11-13T09:04:07.195Z"
   },
   {
    "duration": 299,
    "start_time": "2021-11-13T09:04:22.961Z"
   },
   {
    "duration": 8,
    "start_time": "2021-11-13T09:04:29.028Z"
   },
   {
    "duration": 9,
    "start_time": "2021-11-13T09:05:04.972Z"
   },
   {
    "duration": 590,
    "start_time": "2021-11-13T09:27:39.480Z"
   },
   {
    "duration": 89,
    "start_time": "2021-11-13T09:27:41.520Z"
   },
   {
    "duration": 9,
    "start_time": "2021-11-13T09:27:42.171Z"
   },
   {
    "duration": 9,
    "start_time": "2021-11-13T09:27:46.123Z"
   },
   {
    "duration": 14,
    "start_time": "2021-11-13T09:27:46.319Z"
   },
   {
    "duration": 9,
    "start_time": "2021-11-13T09:28:55.592Z"
   },
   {
    "duration": 91,
    "start_time": "2021-11-13T09:29:19.442Z"
   },
   {
    "duration": 376,
    "start_time": "2021-11-13T09:29:22.881Z"
   },
   {
    "duration": 9,
    "start_time": "2021-11-13T09:29:27.829Z"
   },
   {
    "duration": 247,
    "start_time": "2021-11-13T09:29:38.036Z"
   },
   {
    "duration": 9,
    "start_time": "2021-11-13T09:29:44.775Z"
   },
   {
    "duration": 266,
    "start_time": "2021-11-13T09:30:01.096Z"
   },
   {
    "duration": 5,
    "start_time": "2021-11-13T09:30:51.534Z"
   },
   {
    "duration": 8,
    "start_time": "2021-11-13T09:30:56.421Z"
   },
   {
    "duration": 276,
    "start_time": "2021-11-13T09:31:38.849Z"
   },
   {
    "duration": 8,
    "start_time": "2021-11-13T09:31:42.988Z"
   },
   {
    "duration": 259,
    "start_time": "2021-11-13T09:32:09.985Z"
   },
   {
    "duration": 8,
    "start_time": "2021-11-13T09:32:13.693Z"
   },
   {
    "duration": 8,
    "start_time": "2021-11-13T09:32:38.852Z"
   },
   {
    "duration": 579,
    "start_time": "2021-11-13T09:34:43.028Z"
   },
   {
    "duration": 235,
    "start_time": "2021-11-13T09:35:06.820Z"
   },
   {
    "duration": 336,
    "start_time": "2021-11-13T09:35:19.325Z"
   },
   {
    "duration": 8,
    "start_time": "2021-11-13T09:35:29.380Z"
   },
   {
    "duration": 10,
    "start_time": "2021-11-13T09:35:36.056Z"
   },
   {
    "duration": 9,
    "start_time": "2021-11-13T09:35:51.630Z"
   },
   {
    "duration": 12,
    "start_time": "2021-11-13T09:35:58.915Z"
   },
   {
    "duration": 1488,
    "start_time": "2021-11-13T09:36:15.887Z"
   },
   {
    "duration": 318,
    "start_time": "2021-11-13T09:36:28.599Z"
   },
   {
    "duration": 14,
    "start_time": "2021-11-13T09:36:39.772Z"
   },
   {
    "duration": 11,
    "start_time": "2021-11-13T09:36:58.011Z"
   },
   {
    "duration": 15,
    "start_time": "2021-11-13T09:37:07.880Z"
   },
   {
    "duration": 13,
    "start_time": "2021-11-13T09:37:13.036Z"
   },
   {
    "duration": 16,
    "start_time": "2021-11-13T09:37:46.621Z"
   },
   {
    "duration": 16,
    "start_time": "2021-11-13T09:38:22.589Z"
   },
   {
    "duration": 366,
    "start_time": "2021-11-13T09:38:34.062Z"
   },
   {
    "duration": 261,
    "start_time": "2021-11-13T09:38:38.895Z"
   },
   {
    "duration": 4,
    "start_time": "2021-11-13T09:38:44.665Z"
   },
   {
    "duration": 3619,
    "start_time": "2021-11-13T09:40:16.608Z"
   },
   {
    "duration": 504,
    "start_time": "2021-11-13T09:40:34.328Z"
   },
   {
    "duration": 597,
    "start_time": "2021-11-13T09:40:47.668Z"
   },
   {
    "duration": 497,
    "start_time": "2021-11-13T09:41:33.588Z"
   },
   {
    "duration": 6,
    "start_time": "2021-11-13T09:42:00.961Z"
   },
   {
    "duration": 6,
    "start_time": "2021-11-13T09:42:06.226Z"
   },
   {
    "duration": 6,
    "start_time": "2021-11-13T09:42:10.205Z"
   },
   {
    "duration": 539,
    "start_time": "2021-11-13T09:42:17.850Z"
   },
   {
    "duration": 262,
    "start_time": "2021-11-13T09:42:37.576Z"
   },
   {
    "duration": 4,
    "start_time": "2021-11-13T09:43:00.201Z"
   },
   {
    "duration": 790,
    "start_time": "2021-11-13T09:43:23.955Z"
   },
   {
    "duration": 516,
    "start_time": "2021-11-13T09:43:31.004Z"
   },
   {
    "duration": 840,
    "start_time": "2021-11-13T09:43:38.149Z"
   },
   {
    "duration": 1108,
    "start_time": "2021-11-13T09:43:56.815Z"
   },
   {
    "duration": 1134,
    "start_time": "2021-11-13T09:44:01.510Z"
   },
   {
    "duration": 852,
    "start_time": "2021-11-13T09:44:09.735Z"
   },
   {
    "duration": 909,
    "start_time": "2021-11-13T09:44:13.323Z"
   },
   {
    "duration": 570,
    "start_time": "2021-11-13T10:13:11.993Z"
   },
   {
    "duration": 97,
    "start_time": "2021-11-13T10:13:13.857Z"
   },
   {
    "duration": 5,
    "start_time": "2021-11-13T10:13:14.393Z"
   },
   {
    "duration": 9,
    "start_time": "2021-11-13T10:13:15.100Z"
   },
   {
    "duration": 15,
    "start_time": "2021-11-13T10:13:15.948Z"
   },
   {
    "duration": 20,
    "start_time": "2021-11-13T10:13:16.675Z"
   },
   {
    "duration": 7,
    "start_time": "2021-11-13T10:13:32.559Z"
   },
   {
    "duration": 745,
    "start_time": "2021-11-13T10:13:40.953Z"
   },
   {
    "duration": 38,
    "start_time": "2021-11-13T10:14:07.820Z"
   },
   {
    "duration": 553,
    "start_time": "2021-11-13T10:14:33.866Z"
   },
   {
    "duration": 498,
    "start_time": "2021-11-13T10:15:28.479Z"
   },
   {
    "duration": 809,
    "start_time": "2021-11-13T10:15:48.645Z"
   },
   {
    "duration": 304,
    "start_time": "2021-11-13T10:19:32.814Z"
   },
   {
    "duration": 7,
    "start_time": "2021-11-13T10:22:49.465Z"
   },
   {
    "duration": 36,
    "start_time": "2021-11-13T10:23:35.803Z"
   },
   {
    "duration": 7752,
    "start_time": "2021-11-13T10:24:01.961Z"
   },
   {
    "duration": 14,
    "start_time": "2021-11-13T10:24:22.616Z"
   },
   {
    "duration": 39,
    "start_time": "2021-11-13T10:24:22.844Z"
   },
   {
    "duration": 77,
    "start_time": "2021-11-13T10:24:29.665Z"
   },
   {
    "duration": 4,
    "start_time": "2021-11-13T10:24:29.851Z"
   },
   {
    "duration": 9,
    "start_time": "2021-11-13T10:24:30.000Z"
   },
   {
    "duration": 13,
    "start_time": "2021-11-13T10:24:30.206Z"
   },
   {
    "duration": 12,
    "start_time": "2021-11-13T10:24:30.719Z"
   },
   {
    "duration": 32,
    "start_time": "2021-11-13T10:24:31.795Z"
   },
   {
    "duration": 19,
    "start_time": "2021-11-13T10:24:35.218Z"
   },
   {
    "duration": 555,
    "start_time": "2021-11-13T10:57:27.286Z"
   },
   {
    "duration": 88,
    "start_time": "2021-11-13T10:57:27.843Z"
   },
   {
    "duration": 4,
    "start_time": "2021-11-13T10:57:28.233Z"
   },
   {
    "duration": 9,
    "start_time": "2021-11-13T10:57:28.593Z"
   },
   {
    "duration": 13,
    "start_time": "2021-11-13T10:57:28.753Z"
   },
   {
    "duration": 12,
    "start_time": "2021-11-13T10:57:29.106Z"
   },
   {
    "duration": 843,
    "start_time": "2021-11-13T10:57:29.518Z"
   },
   {
    "duration": 6514,
    "start_time": "2021-11-13T10:57:37.504Z"
   },
   {
    "duration": 57,
    "start_time": "2021-11-13T10:58:09.238Z"
   },
   {
    "duration": 8285,
    "start_time": "2021-11-13T10:58:35.776Z"
   },
   {
    "duration": 14,
    "start_time": "2021-11-13T10:58:57.394Z"
   },
   {
    "duration": 26,
    "start_time": "2021-11-13T10:58:58.592Z"
   },
   {
    "duration": 4,
    "start_time": "2021-11-13T11:02:49.501Z"
   },
   {
    "duration": 70,
    "start_time": "2021-11-13T11:02:53.938Z"
   },
   {
    "duration": 4,
    "start_time": "2021-11-13T11:03:41.756Z"
   },
   {
    "duration": 66,
    "start_time": "2021-11-13T11:03:43.991Z"
   },
   {
    "duration": 36,
    "start_time": "2021-11-13T11:04:02.671Z"
   },
   {
    "duration": 1402,
    "start_time": "2021-11-13T11:05:04.027Z"
   },
   {
    "duration": 4,
    "start_time": "2021-11-13T11:05:52.237Z"
   },
   {
    "duration": 543,
    "start_time": "2021-11-13T11:05:53.254Z"
   },
   {
    "duration": 5,
    "start_time": "2021-11-13T11:08:00.769Z"
   },
   {
    "duration": 92,
    "start_time": "2021-11-13T11:08:01.260Z"
   },
   {
    "duration": 588,
    "start_time": "2021-11-13T11:19:14.980Z"
   },
   {
    "duration": 92,
    "start_time": "2021-11-13T11:19:15.702Z"
   },
   {
    "duration": 4,
    "start_time": "2021-11-13T11:19:16.107Z"
   },
   {
    "duration": 8,
    "start_time": "2021-11-13T11:19:16.288Z"
   },
   {
    "duration": 13,
    "start_time": "2021-11-13T11:19:16.454Z"
   },
   {
    "duration": 5,
    "start_time": "2021-11-13T11:19:17.057Z"
   },
   {
    "duration": 82,
    "start_time": "2021-11-13T11:19:17.409Z"
   },
   {
    "duration": 599,
    "start_time": "2021-11-13T11:39:31.800Z"
   },
   {
    "duration": 93,
    "start_time": "2021-11-13T11:39:32.403Z"
   },
   {
    "duration": 4,
    "start_time": "2021-11-13T11:39:32.498Z"
   },
   {
    "duration": 10,
    "start_time": "2021-11-13T11:39:32.894Z"
   },
   {
    "duration": 13,
    "start_time": "2021-11-13T11:39:34.603Z"
   },
   {
    "duration": 10,
    "start_time": "2021-11-13T11:39:35.001Z"
   },
   {
    "duration": 4,
    "start_time": "2021-11-13T11:39:37.659Z"
   },
   {
    "duration": 138,
    "start_time": "2021-11-13T11:40:07.158Z"
   },
   {
    "duration": 38,
    "start_time": "2021-11-13T11:40:14.573Z"
   },
   {
    "duration": 3,
    "start_time": "2021-11-13T11:42:26.794Z"
   },
   {
    "duration": 30,
    "start_time": "2021-11-13T11:42:33.124Z"
   },
   {
    "duration": 544,
    "start_time": "2021-11-13T11:45:30.200Z"
   },
   {
    "duration": 90,
    "start_time": "2021-11-13T11:45:31.084Z"
   },
   {
    "duration": 4,
    "start_time": "2021-11-13T11:45:31.327Z"
   },
   {
    "duration": 9,
    "start_time": "2021-11-13T11:45:31.576Z"
   },
   {
    "duration": 14,
    "start_time": "2021-11-13T11:45:31.800Z"
   },
   {
    "duration": 10,
    "start_time": "2021-11-13T11:45:31.992Z"
   },
   {
    "duration": 4,
    "start_time": "2021-11-13T11:45:33.053Z"
   },
   {
    "duration": 136,
    "start_time": "2021-11-13T11:45:33.672Z"
   },
   {
    "duration": 30,
    "start_time": "2021-11-13T11:45:34.535Z"
   },
   {
    "duration": 94,
    "start_time": "2021-11-13T11:48:19.645Z"
   },
   {
    "duration": 416,
    "start_time": "2021-11-13T11:48:19.838Z"
   },
   {
    "duration": 5,
    "start_time": "2021-11-13T11:48:26.556Z"
   },
   {
    "duration": 144,
    "start_time": "2021-11-13T11:48:26.881Z"
   },
   {
    "duration": 31,
    "start_time": "2021-11-13T11:48:27.747Z"
   },
   {
    "duration": 34,
    "start_time": "2021-11-13T11:49:30.296Z"
   },
   {
    "duration": 273,
    "start_time": "2021-11-13T11:49:39.035Z"
   },
   {
    "duration": 31,
    "start_time": "2021-11-13T11:49:41.341Z"
   },
   {
    "duration": 104,
    "start_time": "2021-11-13T11:51:00.544Z"
   },
   {
    "duration": 5,
    "start_time": "2021-11-13T11:51:22.742Z"
   },
   {
    "duration": 162,
    "start_time": "2021-11-13T11:51:23.982Z"
   },
   {
    "duration": 30,
    "start_time": "2021-11-13T11:51:27.876Z"
   },
   {
    "duration": 58,
    "start_time": "2021-11-13T11:51:42.690Z"
   },
   {
    "duration": 19,
    "start_time": "2021-11-13T11:52:49.481Z"
   },
   {
    "duration": 286,
    "start_time": "2021-11-13T11:53:19.914Z"
   },
   {
    "duration": 17,
    "start_time": "2021-11-13T11:53:25.505Z"
   },
   {
    "duration": 284,
    "start_time": "2021-11-13T11:54:17.708Z"
   },
   {
    "duration": 274,
    "start_time": "2021-11-13T11:54:26.729Z"
   },
   {
    "duration": 281,
    "start_time": "2021-11-13T11:54:31.542Z"
   },
   {
    "duration": 41,
    "start_time": "2021-11-13T11:54:35.274Z"
   },
   {
    "duration": 261,
    "start_time": "2021-11-13T12:00:24.645Z"
   },
   {
    "duration": 15,
    "start_time": "2021-11-13T12:00:29.097Z"
   },
   {
    "duration": 32,
    "start_time": "2021-11-13T12:00:50.864Z"
   },
   {
    "duration": 11,
    "start_time": "2021-11-13T12:00:59.651Z"
   },
   {
    "duration": 9,
    "start_time": "2021-11-13T12:01:10.283Z"
   },
   {
    "duration": 316,
    "start_time": "2021-11-13T12:01:21.044Z"
   },
   {
    "duration": 8,
    "start_time": "2021-11-13T12:01:25.266Z"
   },
   {
    "duration": 6747,
    "start_time": "2021-11-13T12:02:25.082Z"
   },
   {
    "duration": 561,
    "start_time": "2021-11-13T12:02:43.898Z"
   },
   {
    "duration": 86,
    "start_time": "2021-11-13T12:02:44.669Z"
   },
   {
    "duration": 5,
    "start_time": "2021-11-13T12:02:44.875Z"
   },
   {
    "duration": 9,
    "start_time": "2021-11-13T12:02:45.349Z"
   },
   {
    "duration": 13,
    "start_time": "2021-11-13T12:02:45.768Z"
   },
   {
    "duration": 10,
    "start_time": "2021-11-13T12:02:46.217Z"
   },
   {
    "duration": 5,
    "start_time": "2021-11-13T12:02:46.413Z"
   },
   {
    "duration": 127,
    "start_time": "2021-11-13T12:02:46.596Z"
   },
   {
    "duration": 94,
    "start_time": "2021-11-13T12:02:55.162Z"
   },
   {
    "duration": 12,
    "start_time": "2021-11-13T12:03:07.969Z"
   },
   {
    "duration": 7,
    "start_time": "2021-11-13T12:03:38.064Z"
   },
   {
    "duration": 7,
    "start_time": "2021-11-13T12:03:44.036Z"
   },
   {
    "duration": 7,
    "start_time": "2021-11-13T12:03:48.798Z"
   },
   {
    "duration": 11,
    "start_time": "2021-11-13T12:08:55.203Z"
   },
   {
    "duration": 3,
    "start_time": "2021-11-13T12:09:31.539Z"
   },
   {
    "duration": 11,
    "start_time": "2021-11-13T12:13:14.518Z"
   },
   {
    "duration": 8,
    "start_time": "2021-11-13T12:13:52.519Z"
   },
   {
    "duration": 8,
    "start_time": "2021-11-13T12:14:24.292Z"
   },
   {
    "duration": 10,
    "start_time": "2021-11-13T12:14:38.562Z"
   },
   {
    "duration": 10,
    "start_time": "2021-11-13T12:15:19.788Z"
   },
   {
    "duration": 8,
    "start_time": "2021-11-13T12:15:33.342Z"
   },
   {
    "duration": 345,
    "start_time": "2021-11-13T12:17:07.476Z"
   },
   {
    "duration": 87,
    "start_time": "2021-11-13T12:17:15.772Z"
   },
   {
    "duration": 26,
    "start_time": "2021-11-13T12:17:20.616Z"
   },
   {
    "duration": 6,
    "start_time": "2021-11-13T12:18:27.445Z"
   },
   {
    "duration": 255,
    "start_time": "2021-11-13T12:18:33.347Z"
   },
   {
    "duration": 2,
    "start_time": "2021-11-13T12:19:11.967Z"
   },
   {
    "duration": 27,
    "start_time": "2021-11-13T12:19:18.922Z"
   },
   {
    "duration": 4,
    "start_time": "2021-11-13T12:19:42.437Z"
   },
   {
    "duration": 3,
    "start_time": "2021-11-13T12:20:01.548Z"
   },
   {
    "duration": 284,
    "start_time": "2021-11-13T12:20:04.469Z"
   },
   {
    "duration": 3,
    "start_time": "2021-11-13T12:21:19.096Z"
   },
   {
    "duration": 10,
    "start_time": "2021-11-13T12:21:19.290Z"
   },
   {
    "duration": 25,
    "start_time": "2021-11-13T12:21:19.455Z"
   },
   {
    "duration": 4,
    "start_time": "2021-11-13T12:21:19.937Z"
   },
   {
    "duration": 260,
    "start_time": "2021-11-13T12:21:20.518Z"
   },
   {
    "duration": 11,
    "start_time": "2021-11-13T12:21:20.990Z"
   },
   {
    "duration": 3,
    "start_time": "2021-11-13T12:21:30.432Z"
   },
   {
    "duration": 10,
    "start_time": "2021-11-13T12:21:31.220Z"
   },
   {
    "duration": 24,
    "start_time": "2021-11-13T12:21:33.044Z"
   },
   {
    "duration": 3,
    "start_time": "2021-11-13T12:21:34.944Z"
   },
   {
    "duration": 265,
    "start_time": "2021-11-13T12:21:35.600Z"
   },
   {
    "duration": 4,
    "start_time": "2021-11-13T12:21:41.725Z"
   },
   {
    "duration": 3,
    "start_time": "2021-11-13T12:21:58.136Z"
   },
   {
    "duration": 9,
    "start_time": "2021-11-13T12:21:58.334Z"
   },
   {
    "duration": 24,
    "start_time": "2021-11-13T12:21:58.498Z"
   },
   {
    "duration": 3,
    "start_time": "2021-11-13T12:21:58.676Z"
   },
   {
    "duration": 287,
    "start_time": "2021-11-13T12:21:59.123Z"
   },
   {
    "duration": 4,
    "start_time": "2021-11-13T12:21:59.784Z"
   },
   {
    "duration": 260,
    "start_time": "2021-11-13T12:22:26.902Z"
   },
   {
    "duration": 3,
    "start_time": "2021-11-13T12:22:31.794Z"
   },
   {
    "duration": 8,
    "start_time": "2021-11-13T12:22:31.963Z"
   },
   {
    "duration": 27,
    "start_time": "2021-11-13T12:22:32.117Z"
   },
   {
    "duration": 4,
    "start_time": "2021-11-13T12:22:32.257Z"
   },
   {
    "duration": 272,
    "start_time": "2021-11-13T12:22:33.149Z"
   },
   {
    "duration": 271,
    "start_time": "2021-11-13T12:22:57.583Z"
   },
   {
    "duration": 15,
    "start_time": "2021-11-13T12:23:11.807Z"
   },
   {
    "duration": 4,
    "start_time": "2021-11-13T12:23:14.603Z"
   },
   {
    "duration": 12,
    "start_time": "2021-11-13T12:23:23.023Z"
   },
   {
    "duration": 9,
    "start_time": "2021-11-13T12:23:30.900Z"
   },
   {
    "duration": 11,
    "start_time": "2021-11-13T12:23:33.269Z"
   },
   {
    "duration": 1935,
    "start_time": "2021-11-13T12:38:49.587Z"
   },
   {
    "duration": 8,
    "start_time": "2021-11-13T12:40:00.088Z"
   },
   {
    "duration": 11,
    "start_time": "2021-11-13T12:40:01.309Z"
   },
   {
    "duration": 279,
    "start_time": "2021-11-13T12:40:50.540Z"
   },
   {
    "duration": 259,
    "start_time": "2021-11-13T12:41:04.431Z"
   },
   {
    "duration": 7,
    "start_time": "2021-11-13T12:41:19.986Z"
   },
   {
    "duration": 24,
    "start_time": "2021-11-13T12:41:51.531Z"
   },
   {
    "duration": 26,
    "start_time": "2021-11-13T12:43:45.473Z"
   },
   {
    "duration": 264,
    "start_time": "2021-11-13T12:43:53.555Z"
   },
   {
    "duration": 27,
    "start_time": "2021-11-13T12:43:55.845Z"
   },
   {
    "duration": 93,
    "start_time": "2021-11-13T12:47:32.479Z"
   },
   {
    "duration": 3663,
    "start_time": "2021-11-13T12:47:42.331Z"
   },
   {
    "duration": 551,
    "start_time": "2021-11-13T12:47:58.345Z"
   },
   {
    "duration": 709,
    "start_time": "2021-11-13T12:48:52.390Z"
   },
   {
    "duration": 10,
    "start_time": "2021-11-13T12:50:07.656Z"
   },
   {
    "duration": 6,
    "start_time": "2021-11-13T12:55:03.821Z"
   },
   {
    "duration": 8,
    "start_time": "2021-11-13T12:55:10.744Z"
   },
   {
    "duration": 3,
    "start_time": "2021-11-13T12:56:05.121Z"
   },
   {
    "duration": 15,
    "start_time": "2021-11-13T12:56:21.340Z"
   },
   {
    "duration": 3,
    "start_time": "2021-11-13T12:56:23.257Z"
   },
   {
    "duration": 14,
    "start_time": "2021-11-13T12:56:23.400Z"
   },
   {
    "duration": 19,
    "start_time": "2021-11-13T12:56:29.495Z"
   },
   {
    "duration": 22,
    "start_time": "2021-11-13T12:56:45.841Z"
   },
   {
    "duration": 856,
    "start_time": "2021-11-13T12:58:05.694Z"
   },
   {
    "duration": 756,
    "start_time": "2021-11-13T12:58:17.919Z"
   },
   {
    "duration": 22,
    "start_time": "2021-11-13T13:03:13.886Z"
   },
   {
    "duration": 20,
    "start_time": "2021-11-13T13:03:30.592Z"
   },
   {
    "duration": 19,
    "start_time": "2021-11-13T13:03:49.968Z"
   },
   {
    "duration": 270,
    "start_time": "2021-11-13T13:04:49.661Z"
   },
   {
    "duration": 249,
    "start_time": "2021-11-13T13:04:55.481Z"
   },
   {
    "duration": 1015,
    "start_time": "2021-11-13T13:05:32.107Z"
   },
   {
    "duration": 731,
    "start_time": "2021-11-13T13:05:50.476Z"
   },
   {
    "duration": 689,
    "start_time": "2021-11-13T13:06:38.118Z"
   },
   {
    "duration": 878,
    "start_time": "2021-11-13T13:06:47.230Z"
   },
   {
    "duration": 174,
    "start_time": "2021-11-13T13:06:49.867Z"
   },
   {
    "duration": 182,
    "start_time": "2021-11-13T13:07:46.049Z"
   },
   {
    "duration": 181,
    "start_time": "2021-11-13T13:07:52.439Z"
   },
   {
    "duration": 170,
    "start_time": "2021-11-13T13:08:01.950Z"
   },
   {
    "duration": 185,
    "start_time": "2021-11-13T13:08:06.172Z"
   },
   {
    "duration": 168,
    "start_time": "2021-11-13T13:08:12.022Z"
   },
   {
    "duration": 181,
    "start_time": "2021-11-13T13:08:16.333Z"
   },
   {
    "duration": 186,
    "start_time": "2021-11-13T13:08:19.671Z"
   },
   {
    "duration": 180,
    "start_time": "2021-11-13T13:08:22.624Z"
   },
   {
    "duration": 175,
    "start_time": "2021-11-13T13:08:43.305Z"
   },
   {
    "duration": 174,
    "start_time": "2021-11-13T13:09:02.728Z"
   },
   {
    "duration": 181,
    "start_time": "2021-11-13T13:09:08.574Z"
   },
   {
    "duration": 195,
    "start_time": "2021-11-13T13:09:12.069Z"
   },
   {
    "duration": 338,
    "start_time": "2021-11-13T13:09:19.463Z"
   },
   {
    "duration": 3,
    "start_time": "2021-11-13T13:12:34.176Z"
   },
   {
    "duration": 8,
    "start_time": "2021-11-13T13:12:58.714Z"
   },
   {
    "duration": 168,
    "start_time": "2021-11-13T13:14:13.356Z"
   },
   {
    "duration": 618,
    "start_time": "2021-11-13T13:16:06.404Z"
   },
   {
    "duration": 88,
    "start_time": "2021-11-13T13:16:07.827Z"
   },
   {
    "duration": 4,
    "start_time": "2021-11-13T13:16:08.232Z"
   },
   {
    "duration": 12,
    "start_time": "2021-11-13T13:16:08.544Z"
   },
   {
    "duration": 9,
    "start_time": "2021-11-13T13:16:12.909Z"
   },
   {
    "duration": 14,
    "start_time": "2021-11-13T13:16:13.708Z"
   },
   {
    "duration": 5,
    "start_time": "2021-11-13T13:16:17.132Z"
   },
   {
    "duration": 111,
    "start_time": "2021-11-13T13:16:19.903Z"
   },
   {
    "duration": 7,
    "start_time": "2021-11-13T13:16:21.496Z"
   },
   {
    "duration": 3,
    "start_time": "2021-11-13T13:16:24.933Z"
   },
   {
    "duration": 10,
    "start_time": "2021-11-13T13:16:25.124Z"
   },
   {
    "duration": 26,
    "start_time": "2021-11-13T13:16:28.132Z"
   },
   {
    "duration": 5,
    "start_time": "2021-11-13T13:16:33.797Z"
   },
   {
    "duration": 3,
    "start_time": "2021-11-13T13:16:36.657Z"
   },
   {
    "duration": 419,
    "start_time": "2021-11-13T13:16:43.486Z"
   },
   {
    "duration": 10,
    "start_time": "2021-11-13T13:17:35.507Z"
   },
   {
    "duration": 13,
    "start_time": "2021-11-13T13:18:18.734Z"
   },
   {
    "duration": 11,
    "start_time": "2021-11-13T13:18:19.461Z"
   },
   {
    "duration": 11,
    "start_time": "2021-11-13T13:18:19.639Z"
   },
   {
    "duration": 606,
    "start_time": "2021-11-13T13:18:21.516Z"
   },
   {
    "duration": 21,
    "start_time": "2021-11-13T13:18:22.124Z"
   },
   {
    "duration": 2,
    "start_time": "2021-11-13T13:18:22.147Z"
   },
   {
    "duration": 20,
    "start_time": "2021-11-13T13:18:22.419Z"
   },
   {
    "duration": 857,
    "start_time": "2021-11-13T13:18:22.549Z"
   },
   {
    "duration": 36,
    "start_time": "2021-11-13T13:18:23.409Z"
   },
   {
    "duration": 20,
    "start_time": "2021-11-13T13:18:23.447Z"
   },
   {
    "duration": 20,
    "start_time": "2021-11-13T13:18:23.728Z"
   },
   {
    "duration": 183,
    "start_time": "2021-11-13T13:18:24.633Z"
   },
   {
    "duration": 194,
    "start_time": "2021-11-13T13:18:24.818Z"
   },
   {
    "duration": 203,
    "start_time": "2021-11-13T13:18:25.014Z"
   },
   {
    "duration": 210,
    "start_time": "2021-11-13T13:18:25.219Z"
   },
   {
    "duration": 8,
    "start_time": "2021-11-13T13:18:25.538Z"
   },
   {
    "duration": 181,
    "start_time": "2021-11-13T13:18:26.077Z"
   },
   {
    "duration": 14,
    "start_time": "2021-11-13T13:19:40.269Z"
   },
   {
    "duration": 184,
    "start_time": "2021-11-13T13:20:00.711Z"
   },
   {
    "duration": 91,
    "start_time": "2021-11-13T13:22:15.314Z"
   },
   {
    "duration": 89,
    "start_time": "2021-11-13T13:22:21.994Z"
   },
   {
    "duration": 93,
    "start_time": "2021-11-13T13:22:38.317Z"
   },
   {
    "duration": 17,
    "start_time": "2021-11-13T13:30:17.674Z"
   },
   {
    "duration": 11,
    "start_time": "2021-11-13T13:35:58.343Z"
   },
   {
    "duration": 175,
    "start_time": "2021-11-13T13:35:59.422Z"
   },
   {
    "duration": 182,
    "start_time": "2021-11-13T13:36:00.220Z"
   },
   {
    "duration": 243,
    "start_time": "2021-11-13T13:36:00.496Z"
   },
   {
    "duration": 183,
    "start_time": "2021-11-13T13:36:00.976Z"
   },
   {
    "duration": 8,
    "start_time": "2021-11-13T13:36:02.697Z"
   },
   {
    "duration": 14,
    "start_time": "2021-11-13T13:36:05.113Z"
   },
   {
    "duration": 185,
    "start_time": "2021-11-13T13:36:12.506Z"
   },
   {
    "duration": 2,
    "start_time": "2021-11-13T13:36:34.909Z"
   },
   {
    "duration": 6,
    "start_time": "2021-11-13T13:36:59.107Z"
   },
   {
    "duration": 5,
    "start_time": "2021-11-13T13:37:53.780Z"
   },
   {
    "duration": 929,
    "start_time": "2021-11-13T13:37:58.735Z"
   },
   {
    "duration": 3,
    "start_time": "2021-11-13T13:39:53.598Z"
   },
   {
    "duration": 9,
    "start_time": "2021-11-13T13:39:53.861Z"
   },
   {
    "duration": 13,
    "start_time": "2021-11-13T13:40:48.129Z"
   },
   {
    "duration": 12,
    "start_time": "2021-11-13T13:41:43.039Z"
   },
   {
    "duration": 93,
    "start_time": "2021-11-13T13:42:20.951Z"
   },
   {
    "duration": 106,
    "start_time": "2021-11-13T13:42:29.986Z"
   },
   {
    "duration": 91,
    "start_time": "2021-11-13T13:42:40.782Z"
   },
   {
    "duration": 125,
    "start_time": "2021-11-13T13:42:56.847Z"
   },
   {
    "duration": 272,
    "start_time": "2021-11-13T13:43:16.237Z"
   },
   {
    "duration": 12,
    "start_time": "2021-11-13T13:43:41.031Z"
   },
   {
    "duration": 12,
    "start_time": "2021-11-13T13:43:54.338Z"
   },
   {
    "duration": 9,
    "start_time": "2021-11-13T13:45:37.517Z"
   },
   {
    "duration": 8,
    "start_time": "2021-11-13T13:45:43.700Z"
   },
   {
    "duration": 16,
    "start_time": "2021-11-13T13:46:36.059Z"
   },
   {
    "duration": 323,
    "start_time": "2021-11-13T13:47:11.657Z"
   },
   {
    "duration": 55,
    "start_time": "2021-11-13T13:47:29.363Z"
   },
   {
    "duration": 357,
    "start_time": "2021-11-13T13:48:07.077Z"
   },
   {
    "duration": 16,
    "start_time": "2021-11-13T13:48:10.832Z"
   },
   {
    "duration": 13,
    "start_time": "2021-11-13T13:48:43.053Z"
   },
   {
    "duration": 98,
    "start_time": "2021-11-13T13:48:52.713Z"
   },
   {
    "duration": 178,
    "start_time": "2021-11-13T13:48:56.882Z"
   },
   {
    "duration": 13,
    "start_time": "2021-11-13T13:49:13.430Z"
   },
   {
    "duration": 15,
    "start_time": "2021-11-13T13:49:21.638Z"
   },
   {
    "duration": 12,
    "start_time": "2021-11-13T13:49:23.614Z"
   },
   {
    "duration": 14,
    "start_time": "2021-11-13T13:49:36.171Z"
   },
   {
    "duration": 283,
    "start_time": "2021-11-13T13:49:51.316Z"
   },
   {
    "duration": 284,
    "start_time": "2021-11-13T13:49:58.036Z"
   },
   {
    "duration": 380,
    "start_time": "2021-11-13T13:50:02.293Z"
   },
   {
    "duration": 19,
    "start_time": "2021-11-13T13:50:12.293Z"
   },
   {
    "duration": 19,
    "start_time": "2021-11-13T13:50:19.607Z"
   },
   {
    "duration": 283,
    "start_time": "2021-11-13T13:58:33.677Z"
   },
   {
    "duration": 10,
    "start_time": "2021-11-13T13:58:46.576Z"
   },
   {
    "duration": 25,
    "start_time": "2021-11-13T13:58:52.510Z"
   },
   {
    "duration": 28,
    "start_time": "2021-11-13T13:59:33.951Z"
   },
   {
    "duration": 19,
    "start_time": "2021-11-13T13:59:39.860Z"
   },
   {
    "duration": 3,
    "start_time": "2021-11-13T14:01:11.107Z"
   },
   {
    "duration": 291,
    "start_time": "2021-11-13T14:02:09.937Z"
   },
   {
    "duration": 291,
    "start_time": "2021-11-13T14:02:21.689Z"
   },
   {
    "duration": 9,
    "start_time": "2021-11-13T14:02:28.762Z"
   },
   {
    "duration": 20,
    "start_time": "2021-11-13T14:03:14.631Z"
   },
   {
    "duration": 19,
    "start_time": "2021-11-13T14:03:29.090Z"
   },
   {
    "duration": 10,
    "start_time": "2021-11-13T14:04:44.703Z"
   },
   {
    "duration": 178,
    "start_time": "2021-11-13T14:05:51.048Z"
   },
   {
    "duration": 8,
    "start_time": "2021-11-13T14:06:08.831Z"
   },
   {
    "duration": 336,
    "start_time": "2021-11-13T14:06:21.490Z"
   },
   {
    "duration": 5373,
    "start_time": "2021-11-13T14:06:35.953Z"
   },
   {
    "duration": 8,
    "start_time": "2021-11-13T14:07:24.810Z"
   },
   {
    "duration": 8,
    "start_time": "2021-11-13T14:07:34.258Z"
   },
   {
    "duration": 11,
    "start_time": "2021-11-13T14:08:00.090Z"
   },
   {
    "duration": 165,
    "start_time": "2021-11-13T14:08:08.460Z"
   },
   {
    "duration": 168,
    "start_time": "2021-11-13T14:08:27.957Z"
   },
   {
    "duration": 175,
    "start_time": "2021-11-13T14:08:37.094Z"
   },
   {
    "duration": 7,
    "start_time": "2021-11-13T14:10:46.956Z"
   },
   {
    "duration": 3,
    "start_time": "2021-11-13T14:12:04.199Z"
   },
   {
    "duration": 20,
    "start_time": "2021-11-13T14:12:27.098Z"
   },
   {
    "duration": 778,
    "start_time": "2021-11-13T14:13:00.731Z"
   },
   {
    "duration": 195,
    "start_time": "2021-11-13T14:13:39.302Z"
   },
   {
    "duration": 198,
    "start_time": "2021-11-13T14:13:51.443Z"
   },
   {
    "duration": 159,
    "start_time": "2021-11-13T14:13:55.768Z"
   },
   {
    "duration": 163,
    "start_time": "2021-11-13T14:14:03.861Z"
   },
   {
    "duration": 259,
    "start_time": "2021-11-13T14:14:16.680Z"
   },
   {
    "duration": 179,
    "start_time": "2021-11-13T14:14:19.853Z"
   },
   {
    "duration": 181,
    "start_time": "2021-11-13T14:14:23.685Z"
   },
   {
    "duration": 258,
    "start_time": "2021-11-13T14:14:29.049Z"
   },
   {
    "duration": 248,
    "start_time": "2021-11-13T14:14:34.847Z"
   },
   {
    "duration": 174,
    "start_time": "2021-11-13T14:14:39.793Z"
   },
   {
    "duration": 181,
    "start_time": "2021-11-13T14:14:54.474Z"
   },
   {
    "duration": 193,
    "start_time": "2021-11-13T14:14:57.337Z"
   },
   {
    "duration": 295,
    "start_time": "2021-11-13T14:15:04.393Z"
   },
   {
    "duration": 178,
    "start_time": "2021-11-13T14:15:07.095Z"
   },
   {
    "duration": 186,
    "start_time": "2021-11-13T14:15:25.716Z"
   },
   {
    "duration": 10,
    "start_time": "2021-11-13T14:20:30.284Z"
   },
   {
    "duration": 85,
    "start_time": "2021-11-13T14:20:48.156Z"
   },
   {
    "duration": 683,
    "start_time": "2021-11-13T14:23:54.614Z"
   },
   {
    "duration": 91,
    "start_time": "2021-11-13T14:23:55.300Z"
   },
   {
    "duration": 4,
    "start_time": "2021-11-13T14:23:55.393Z"
   },
   {
    "duration": 21,
    "start_time": "2021-11-13T14:23:55.399Z"
   },
   {
    "duration": 20,
    "start_time": "2021-11-13T14:23:55.422Z"
   },
   {
    "duration": 18,
    "start_time": "2021-11-13T14:23:55.444Z"
   },
   {
    "duration": 8,
    "start_time": "2021-11-13T14:23:55.464Z"
   },
   {
    "duration": 116,
    "start_time": "2021-11-13T14:23:55.475Z"
   },
   {
    "duration": 6,
    "start_time": "2021-11-13T14:23:55.594Z"
   },
   {
    "duration": 6,
    "start_time": "2021-11-13T14:23:55.601Z"
   },
   {
    "duration": 15,
    "start_time": "2021-11-13T14:23:55.609Z"
   },
   {
    "duration": 42,
    "start_time": "2021-11-13T14:23:55.626Z"
   },
   {
    "duration": 5,
    "start_time": "2021-11-13T14:23:55.670Z"
   },
   {
    "duration": 8,
    "start_time": "2021-11-13T14:23:55.678Z"
   },
   {
    "duration": 18,
    "start_time": "2021-11-13T14:23:55.688Z"
   },
   {
    "duration": 8,
    "start_time": "2021-11-13T14:23:55.708Z"
   },
   {
    "duration": 34,
    "start_time": "2021-11-13T14:23:55.719Z"
   },
   {
    "duration": 585,
    "start_time": "2021-11-13T14:23:55.755Z"
   },
   {
    "duration": 10,
    "start_time": "2021-11-13T14:23:56.344Z"
   },
   {
    "duration": 4,
    "start_time": "2021-11-13T14:23:56.356Z"
   },
   {
    "duration": 23,
    "start_time": "2021-11-13T14:23:56.361Z"
   },
   {
    "duration": 863,
    "start_time": "2021-11-13T14:23:56.386Z"
   },
   {
    "duration": 20,
    "start_time": "2021-11-13T14:23:57.254Z"
   },
   {
    "duration": 25,
    "start_time": "2021-11-13T14:23:57.277Z"
   },
   {
    "duration": 41,
    "start_time": "2021-11-13T14:23:57.304Z"
   },
   {
    "duration": 11,
    "start_time": "2021-11-13T14:23:57.347Z"
   },
   {
    "duration": 193,
    "start_time": "2021-11-13T14:23:57.360Z"
   },
   {
    "duration": 178,
    "start_time": "2021-11-13T14:23:57.555Z"
   },
   {
    "duration": 186,
    "start_time": "2021-11-13T14:23:57.734Z"
   },
   {
    "duration": 188,
    "start_time": "2021-11-13T14:23:57.922Z"
   },
   {
    "duration": 8,
    "start_time": "2021-11-13T14:23:58.111Z"
   },
   {
    "duration": 29,
    "start_time": "2021-11-13T14:23:58.121Z"
   },
   {
    "duration": 194,
    "start_time": "2021-11-13T14:23:58.152Z"
   },
   {
    "duration": 17,
    "start_time": "2021-11-13T14:23:58.347Z"
   },
   {
    "duration": 18,
    "start_time": "2021-11-13T14:23:58.366Z"
   },
   {
    "duration": 11,
    "start_time": "2021-11-13T14:23:58.386Z"
   },
   {
    "duration": 11,
    "start_time": "2021-11-13T14:23:58.399Z"
   },
   {
    "duration": 8,
    "start_time": "2021-11-13T14:23:58.412Z"
   },
   {
    "duration": 37,
    "start_time": "2021-11-13T14:23:58.422Z"
   },
   {
    "duration": 7,
    "start_time": "2021-11-13T14:23:58.461Z"
   },
   {
    "duration": 21,
    "start_time": "2021-11-13T14:23:58.470Z"
   },
   {
    "duration": 193,
    "start_time": "2021-11-13T14:23:58.493Z"
   },
   {
    "duration": 8,
    "start_time": "2021-11-13T14:23:58.688Z"
   },
   {
    "duration": 19,
    "start_time": "2021-11-13T14:23:58.698Z"
   },
   {
    "duration": 216,
    "start_time": "2021-11-13T14:23:58.719Z"
   },
   {
    "duration": 164,
    "start_time": "2021-11-13T14:23:58.936Z"
   },
   {
    "duration": 242,
    "start_time": "2021-11-13T14:23:59.102Z"
   },
   {
    "duration": 185,
    "start_time": "2021-11-13T14:23:59.346Z"
   },
   {
    "duration": 17,
    "start_time": "2021-11-13T14:23:59.532Z"
   },
   {
    "duration": 710,
    "start_time": "2021-11-14T06:17:39.855Z"
   },
   {
    "duration": 115,
    "start_time": "2021-11-14T06:17:40.567Z"
   },
   {
    "duration": 5,
    "start_time": "2021-11-14T06:17:40.685Z"
   },
   {
    "duration": 31,
    "start_time": "2021-11-14T06:17:40.693Z"
   },
   {
    "duration": 11,
    "start_time": "2021-11-14T06:17:40.727Z"
   },
   {
    "duration": 18,
    "start_time": "2021-11-14T06:17:40.740Z"
   },
   {
    "duration": 7,
    "start_time": "2021-11-14T06:17:40.760Z"
   },
   {
    "duration": 176,
    "start_time": "2021-11-14T06:17:40.770Z"
   },
   {
    "duration": 9,
    "start_time": "2021-11-14T06:17:40.951Z"
   },
   {
    "duration": 4,
    "start_time": "2021-11-14T06:17:40.963Z"
   },
   {
    "duration": 17,
    "start_time": "2021-11-14T06:17:40.970Z"
   },
   {
    "duration": 38,
    "start_time": "2021-11-14T06:17:41.024Z"
   },
   {
    "duration": 6,
    "start_time": "2021-11-14T06:17:41.065Z"
   },
   {
    "duration": 9,
    "start_time": "2021-11-14T06:17:41.073Z"
   },
   {
    "duration": 52,
    "start_time": "2021-11-14T06:17:41.085Z"
   },
   {
    "duration": 13,
    "start_time": "2021-11-14T06:17:41.140Z"
   },
   {
    "duration": 19,
    "start_time": "2021-11-14T06:17:41.156Z"
   },
   {
    "duration": 975,
    "start_time": "2021-11-14T06:17:41.177Z"
   },
   {
    "duration": 14,
    "start_time": "2021-11-14T06:17:42.155Z"
   },
   {
    "duration": 4,
    "start_time": "2021-11-14T06:17:42.171Z"
   },
   {
    "duration": 65,
    "start_time": "2021-11-14T06:17:42.177Z"
   },
   {
    "duration": 1340,
    "start_time": "2021-11-14T06:17:42.245Z"
   },
   {
    "duration": 40,
    "start_time": "2021-11-14T06:17:43.588Z"
   },
   {
    "duration": 29,
    "start_time": "2021-11-14T06:17:43.630Z"
   },
   {
    "duration": 29,
    "start_time": "2021-11-14T06:17:43.662Z"
   },
   {
    "duration": 16,
    "start_time": "2021-11-14T06:17:43.722Z"
   },
   {
    "duration": 297,
    "start_time": "2021-11-14T06:17:43.746Z"
   },
   {
    "duration": 313,
    "start_time": "2021-11-14T06:17:44.047Z"
   },
   {
    "duration": 309,
    "start_time": "2021-11-14T06:17:44.363Z"
   },
   {
    "duration": 307,
    "start_time": "2021-11-14T06:17:44.675Z"
   },
   {
    "duration": 11,
    "start_time": "2021-11-14T06:17:44.984Z"
   },
   {
    "duration": 40,
    "start_time": "2021-11-14T06:17:44.998Z"
   },
   {
    "duration": 335,
    "start_time": "2021-11-14T06:17:45.041Z"
   },
   {
    "duration": 26,
    "start_time": "2021-11-14T06:17:45.378Z"
   },
   {
    "duration": 3,
    "start_time": "2021-11-14T06:17:45.423Z"
   },
   {
    "duration": 12,
    "start_time": "2021-11-14T06:17:45.429Z"
   },
   {
    "duration": 15,
    "start_time": "2021-11-14T06:17:45.444Z"
   },
   {
    "duration": 11,
    "start_time": "2021-11-14T06:17:45.461Z"
   },
   {
    "duration": 68,
    "start_time": "2021-11-14T06:17:45.475Z"
   },
   {
    "duration": 12,
    "start_time": "2021-11-14T06:17:45.546Z"
   },
   {
    "duration": 32,
    "start_time": "2021-11-14T06:17:45.560Z"
   },
   {
    "duration": 314,
    "start_time": "2021-11-14T06:17:45.595Z"
   },
   {
    "duration": 14,
    "start_time": "2021-11-14T06:17:45.912Z"
   },
   {
    "duration": 27,
    "start_time": "2021-11-14T06:17:45.929Z"
   },
   {
    "duration": 329,
    "start_time": "2021-11-14T06:17:45.958Z"
   },
   {
    "duration": 288,
    "start_time": "2021-11-14T06:17:46.289Z"
   },
   {
    "duration": 368,
    "start_time": "2021-11-14T06:17:46.579Z"
   },
   {
    "duration": 306,
    "start_time": "2021-11-14T06:17:46.950Z"
   },
   {
    "duration": 15,
    "start_time": "2021-11-14T06:17:47.258Z"
   }
  ],
  "kernelspec": {
   "display_name": "Python 3",
   "language": "python",
   "name": "python3"
  },
  "language_info": {
   "codemirror_mode": {
    "name": "ipython",
    "version": 3
   },
   "file_extension": ".py",
   "mimetype": "text/x-python",
   "name": "python",
   "nbconvert_exporter": "python",
   "pygments_lexer": "ipython3",
   "version": "3.7.4"
  },
  "toc": {
   "base_numbering": 1,
   "nav_menu": {},
   "number_sections": true,
   "sideBar": true,
   "skip_h1_title": true,
   "title_cell": "Содержание",
   "title_sidebar": "Contents",
   "toc_cell": true,
   "toc_position": {
    "height": "calc(100% - 180px)",
    "left": "10px",
    "top": "150px",
    "width": "214.390625px"
   },
   "toc_section_display": true,
   "toc_window_display": false
  }
 },
 "nbformat": 4,
 "nbformat_minor": 2
}
