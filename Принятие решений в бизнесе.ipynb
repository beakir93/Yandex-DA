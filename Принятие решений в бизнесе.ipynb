{
 "cells": [
  {
   "cell_type": "markdown",
   "metadata": {},
   "source": [
    "# Описание проекта\n",
    "\n",
    "Отделом маркетинга и аналитики был подготовлен список гипотез для увеличения выручки.\n",
    "\n",
    "В рамках проекта требуется приоритизировать гипотезы, запустить A/B-тест и проанализировать результаты."
   ]
  },
  {
   "cell_type": "code",
   "execution_count": 1,
   "metadata": {},
   "outputs": [],
   "source": [
    "import pandas as pd\n",
    "import seaborn as sns\n",
    "import numpy as np\n",
    "from datetime import datetime, timedelta\n",
    "from matplotlib import pyplot as plt\n",
    "from scipy import stats\n",
    "\n",
    "pd.options.display.float_format = '{:,.2f}'.format\n",
    "pd.options.display.max_colwidth = 1000"
   ]
  },
  {
   "cell_type": "code",
   "execution_count": 2,
   "metadata": {},
   "outputs": [],
   "source": [
    "try:\n",
    "    hypothesis = pd.read_csv('/datasets/hypothesis.csv')\n",
    "    orders = pd.read_csv('/datasets/orders.csv')\n",
    "    visitors = pd.read_csv('/datasets/visitors.csv')\n",
    "except:\n",
    "    hypothesis = pd.read_csv('hypothesis.csv')\n",
    "    orders = pd.read_csv('orders.csv')\n",
    "    visitors = pd.read_csv('visitors.csv')"
   ]
  },
  {
   "cell_type": "markdown",
   "metadata": {},
   "source": [
    "# Анализ входных данных"
   ]
  },
  {
   "cell_type": "code",
   "execution_count": 4,
   "metadata": {},
   "outputs": [
    {
     "name": "stdout",
     "output_type": "stream",
     "text": [
      "<class 'pandas.core.frame.DataFrame'>\n",
      "RangeIndex: 9 entries, 0 to 8\n",
      "Data columns (total 5 columns):\n",
      "hypothesis    9 non-null object\n",
      "reach         9 non-null int64\n",
      "impact        9 non-null int64\n",
      "confidence    9 non-null int64\n",
      "efforts       9 non-null int64\n",
      "dtypes: int64(4), object(1)\n",
      "memory usage: 488.0+ bytes\n"
     ]
    }
   ],
   "source": [
    "hypothesis.columns = hypothesis.columns.str.lower()\n",
    "hypothesis.info()"
   ]
  },
  {
   "cell_type": "code",
   "execution_count": 5,
   "metadata": {},
   "outputs": [
    {
     "data": {
      "text/plain": [
       "0"
      ]
     },
     "execution_count": 5,
     "metadata": {},
     "output_type": "execute_result"
    }
   ],
   "source": [
    "hypothesis.duplicated().sum()"
   ]
  },
  {
   "cell_type": "code",
   "execution_count": null,
   "metadata": {},
   "outputs": [],
   "source": []
  },
  {
   "cell_type": "code",
   "execution_count": 6,
   "metadata": {},
   "outputs": [
    {
     "data": {
      "text/html": [
       "<div>\n",
       "<style scoped>\n",
       "    .dataframe tbody tr th:only-of-type {\n",
       "        vertical-align: middle;\n",
       "    }\n",
       "\n",
       "    .dataframe tbody tr th {\n",
       "        vertical-align: top;\n",
       "    }\n",
       "\n",
       "    .dataframe thead th {\n",
       "        text-align: right;\n",
       "    }\n",
       "</style>\n",
       "<table border=\"1\" class=\"dataframe\">\n",
       "  <thead>\n",
       "    <tr style=\"text-align: right;\">\n",
       "      <th></th>\n",
       "      <th>transactionId</th>\n",
       "      <th>visitorId</th>\n",
       "      <th>date</th>\n",
       "      <th>revenue</th>\n",
       "      <th>group</th>\n",
       "    </tr>\n",
       "  </thead>\n",
       "  <tbody>\n",
       "    <tr>\n",
       "      <td>0</td>\n",
       "      <td>3667963787</td>\n",
       "      <td>3312258926</td>\n",
       "      <td>2019-08-15</td>\n",
       "      <td>1650</td>\n",
       "      <td>B</td>\n",
       "    </tr>\n",
       "  </tbody>\n",
       "</table>\n",
       "</div>"
      ],
      "text/plain": [
       "   transactionId   visitorId        date  revenue group\n",
       "0     3667963787  3312258926  2019-08-15     1650     B"
      ]
     },
     "execution_count": 6,
     "metadata": {},
     "output_type": "execute_result"
    }
   ],
   "source": [
    "orders.head(1)"
   ]
  },
  {
   "cell_type": "code",
   "execution_count": 7,
   "metadata": {},
   "outputs": [
    {
     "name": "stdout",
     "output_type": "stream",
     "text": [
      "<class 'pandas.core.frame.DataFrame'>\n",
      "RangeIndex: 1197 entries, 0 to 1196\n",
      "Data columns (total 5 columns):\n",
      "transactionid    1197 non-null int64\n",
      "visitorid        1197 non-null int64\n",
      "date             1197 non-null object\n",
      "revenue          1197 non-null int64\n",
      "group            1197 non-null object\n",
      "dtypes: int64(3), object(2)\n",
      "memory usage: 46.9+ KB\n"
     ]
    }
   ],
   "source": [
    "orders.columns = orders.columns.str.lower()\n",
    "orders.info()"
   ]
  },
  {
   "cell_type": "code",
   "execution_count": 8,
   "metadata": {},
   "outputs": [
    {
     "name": "stdout",
     "output_type": "stream",
     "text": [
      "<class 'pandas.core.frame.DataFrame'>\n",
      "RangeIndex: 1197 entries, 0 to 1196\n",
      "Data columns (total 5 columns):\n",
      "transactionid    1197 non-null int64\n",
      "visitorid        1197 non-null int64\n",
      "date             1197 non-null datetime64[ns]\n",
      "revenue          1197 non-null int64\n",
      "group            1197 non-null object\n",
      "dtypes: datetime64[ns](1), int64(3), object(1)\n",
      "memory usage: 46.9+ KB\n"
     ]
    }
   ],
   "source": [
    "orders['date'] = pd.to_datetime(orders['date'])\n",
    "orders.info()"
   ]
  },
  {
   "cell_type": "code",
   "execution_count": 9,
   "metadata": {},
   "outputs": [
    {
     "data": {
      "text/plain": [
       "0"
      ]
     },
     "execution_count": 9,
     "metadata": {},
     "output_type": "execute_result"
    }
   ],
   "source": [
    "orders.duplicated().sum()"
   ]
  },
  {
   "cell_type": "code",
   "execution_count": null,
   "metadata": {},
   "outputs": [],
   "source": []
  },
  {
   "cell_type": "code",
   "execution_count": 10,
   "metadata": {},
   "outputs": [
    {
     "data": {
      "text/html": [
       "<div>\n",
       "<style scoped>\n",
       "    .dataframe tbody tr th:only-of-type {\n",
       "        vertical-align: middle;\n",
       "    }\n",
       "\n",
       "    .dataframe tbody tr th {\n",
       "        vertical-align: top;\n",
       "    }\n",
       "\n",
       "    .dataframe thead th {\n",
       "        text-align: right;\n",
       "    }\n",
       "</style>\n",
       "<table border=\"1\" class=\"dataframe\">\n",
       "  <thead>\n",
       "    <tr style=\"text-align: right;\">\n",
       "      <th></th>\n",
       "      <th>date</th>\n",
       "      <th>group</th>\n",
       "      <th>visitors</th>\n",
       "    </tr>\n",
       "  </thead>\n",
       "  <tbody>\n",
       "    <tr>\n",
       "      <td>0</td>\n",
       "      <td>2019-08-01</td>\n",
       "      <td>A</td>\n",
       "      <td>719</td>\n",
       "    </tr>\n",
       "  </tbody>\n",
       "</table>\n",
       "</div>"
      ],
      "text/plain": [
       "         date group  visitors\n",
       "0  2019-08-01     A       719"
      ]
     },
     "execution_count": 10,
     "metadata": {},
     "output_type": "execute_result"
    }
   ],
   "source": [
    "visitors.head(1)"
   ]
  },
  {
   "cell_type": "code",
   "execution_count": 11,
   "metadata": {},
   "outputs": [
    {
     "name": "stdout",
     "output_type": "stream",
     "text": [
      "<class 'pandas.core.frame.DataFrame'>\n",
      "RangeIndex: 62 entries, 0 to 61\n",
      "Data columns (total 3 columns):\n",
      "date        62 non-null object\n",
      "group       62 non-null object\n",
      "visitors    62 non-null int64\n",
      "dtypes: int64(1), object(2)\n",
      "memory usage: 1.6+ KB\n"
     ]
    }
   ],
   "source": [
    "visitors.columns = visitors.columns.str.lower()\n",
    "visitors.info()"
   ]
  },
  {
   "cell_type": "code",
   "execution_count": 12,
   "metadata": {},
   "outputs": [
    {
     "name": "stdout",
     "output_type": "stream",
     "text": [
      "<class 'pandas.core.frame.DataFrame'>\n",
      "RangeIndex: 62 entries, 0 to 61\n",
      "Data columns (total 3 columns):\n",
      "date        62 non-null datetime64[ns]\n",
      "group       62 non-null object\n",
      "visitors    62 non-null int64\n",
      "dtypes: datetime64[ns](1), int64(1), object(1)\n",
      "memory usage: 1.6+ KB\n"
     ]
    }
   ],
   "source": [
    "visitors['date'] = pd.to_datetime(visitors['date'])\n",
    "visitors.info()"
   ]
  },
  {
   "cell_type": "code",
   "execution_count": 13,
   "metadata": {},
   "outputs": [
    {
     "data": {
      "text/plain": [
       "0"
      ]
     },
     "execution_count": 13,
     "metadata": {},
     "output_type": "execute_result"
    }
   ],
   "source": [
    "visitors.duplicated().sum()"
   ]
  },
  {
   "cell_type": "markdown",
   "metadata": {},
   "source": [
    "### вывод\n",
    "\n",
    "проанализировали входные датасеты\n",
    "\n",
    "привели к правильному формату наименования колонок, тип колонки \"date\"\n",
    "\n",
    "во входных данных дублей не обнаружено"
   ]
  },
  {
   "cell_type": "markdown",
   "metadata": {},
   "source": [
    "# Часть 1. Приоритизация гипотез"
   ]
  },
  {
   "cell_type": "code",
   "execution_count": 14,
   "metadata": {},
   "outputs": [
    {
     "name": "stdout",
     "output_type": "stream",
     "text": [
      "                                                                                                     hypothesis  \\\n",
      "8                                                       Запустить акцию, дающую скидку на товар в день рождения   \n",
      "0            Добавить два новых канала привлечения трафика, что позволит привлекать на 30% больше пользователей   \n",
      "7              Добавить форму подписки на все основные страницы, чтобы собрать базу клиентов для email-рассылок   \n",
      "6          Показать на главной странице баннеры с актуальными акциями и распродажами, чтобы увеличить конверсию   \n",
      "2  Добавить блоки рекомендаций товаров на сайт интернет магазина, чтобы повысить конверсию и средний чек заказа   \n",
      "1                                     Запустить собственную службу доставки, что сократит срок доставки заказов   \n",
      "5                      Добавить страницу отзывов клиентов о магазине, что позволит увеличить количество заказов   \n",
      "3           Изменить структура категорий, что увеличит конверсию, т.к. пользователи быстрее найдут нужный товар   \n",
      "4                              Изменить цвет фона главной страницы, чтобы увеличить вовлеченность пользователей   \n",
      "\n",
      "    ICE  \n",
      "8 16.20  \n",
      "0 13.33  \n",
      "7 11.20  \n",
      "6  8.00  \n",
      "2  7.00  \n",
      "1  2.00  \n",
      "5  1.33  \n",
      "3  1.12  \n",
      "4  1.00  \n"
     ]
    }
   ],
   "source": [
    "# Примените фреймворк ICE для приоритизации гипотез. Отсортируйте их по убыванию приоритета.\n",
    "\n",
    "hypothesis['ICE'] = (hypothesis['impact'] * hypothesis['confidence']) / hypothesis['efforts']\n",
    "print(hypothesis[['hypothesis', 'ICE']].sort_values(by='ICE', ascending=False))"
   ]
  },
  {
   "cell_type": "code",
   "execution_count": 15,
   "metadata": {},
   "outputs": [
    {
     "name": "stdout",
     "output_type": "stream",
     "text": [
      "                                                                                                     hypothesis  \\\n",
      "7              Добавить форму подписки на все основные страницы, чтобы собрать базу клиентов для email-рассылок   \n",
      "2  Добавить блоки рекомендаций товаров на сайт интернет магазина, чтобы повысить конверсию и средний чек заказа   \n",
      "0            Добавить два новых канала привлечения трафика, что позволит привлекать на 30% больше пользователей   \n",
      "6          Показать на главной странице баннеры с актуальными акциями и распродажами, чтобы увеличить конверсию   \n",
      "8                                                       Запустить акцию, дающую скидку на товар в день рождения   \n",
      "3           Изменить структура категорий, что увеличит конверсию, т.к. пользователи быстрее найдут нужный товар   \n",
      "1                                     Запустить собственную службу доставки, что сократит срок доставки заказов   \n",
      "5                      Добавить страницу отзывов клиентов о магазине, что позволит увеличить количество заказов   \n",
      "4                              Изменить цвет фона главной страницы, чтобы увеличить вовлеченность пользователей   \n",
      "\n",
      "    RICE  \n",
      "7 112.00  \n",
      "2  56.00  \n",
      "0  40.00  \n",
      "6  40.00  \n",
      "8  16.20  \n",
      "3   9.00  \n",
      "1   4.00  \n",
      "5   4.00  \n",
      "4   3.00  \n"
     ]
    }
   ],
   "source": [
    "# Примените фреймворк RICE для приоритизации гипотез. Отсортируйте их по убыванию приоритета.\n",
    "\n",
    "hypothesis['RICE'] = (hypothesis['reach'] * hypothesis['impact'] * hypothesis['confidence']) / hypothesis['efforts']\n",
    "print(hypothesis[['hypothesis', 'RICE']].sort_values(by='RICE', ascending=False))"
   ]
  },
  {
   "cell_type": "code",
   "execution_count": 16,
   "metadata": {},
   "outputs": [],
   "source": [
    "# Укажите, как изменилась приоритизация гипотез при применении RICE вместо ICE. Объясните, почему так произошло."
   ]
  },
  {
   "cell_type": "markdown",
   "metadata": {},
   "source": [
    "### Вывод \n",
    "\n",
    "В фреймворке ICE на первом месте оказалась гипотеза N8\n",
    "При расчете по фреймоворку RICE гипотеза 8 оказалась лишь на 5 месте, а на первом месте с большим отрывом от других оказалась гипотеза N7\n",
    "\n",
    "Отличия обусловлены тем, что RICE, в отличие от ICE, учитывает такой параметра как Reach — скольких пользователей затронет изменение, которое вы хотите внести\n",
    "Гипотеза N7 имеет наибольшее значение Reach (=10) среди всех гипотез.\n",
    "\n",
    "Считаю, что основной упор надо сделать на топ4 гипотез, рассчитанных по RICE (>=40), так как в них учитан показатель Reach, играющий важную роль:\n",
    "- 7              Добавить форму подписки на все основные страницы, чтобы собрать базу клиентов для email-рассылок   \n",
    "- 2  Добавить блоки рекомендаций товаров на сайт интернет магазина, чтобы повысить конверсию и средний чек заказа   \n",
    "- 0            Добавить два новых канала привлечения трафика, что позволит привлекать на 30% больше пользователей   \n",
    "- 6          Показать на главной странице баннеры с актуальными акциями и распродажами, чтобы увеличить конверсию   "
   ]
  },
  {
   "cell_type": "markdown",
   "metadata": {},
   "source": [
    "# Часть 2. Анализ A/B-теста"
   ]
  },
  {
   "cell_type": "markdown",
   "metadata": {},
   "source": [
    "## Анализ стабильности кумулятивных метрик"
   ]
  },
  {
   "cell_type": "code",
   "execution_count": 17,
   "metadata": {},
   "outputs": [
    {
     "name": "stdout",
     "output_type": "stream",
     "text": [
      "        date group  orders  buyers  revenue  visitors\n",
      "0 2019-08-01     A      24      20   148579       719\n",
      "1 2019-08-01     B      21      20   101217       713\n",
      "2 2019-08-02     A      44      38   242401      1338\n",
      "3 2019-08-02     B      45      43   266748      1294\n",
      "4 2019-08-03     A      68      62   354874      1845\n"
     ]
    }
   ],
   "source": [
    "# создаем массив уникальных пар значений дат и групп теста\n",
    "datesGroups = orders[['date','group']].drop_duplicates()\n",
    "\n",
    "# получаем агрегированные кумулятивные по дням данные о заказах \n",
    "ordersAggregated = datesGroups.apply(lambda x: orders[np.logical_and(orders['date'] <= x['date'], orders['group'] == x['group'])].agg({'date' : 'max', 'group' : 'max', 'transactionid' : 'nunique', 'visitorid' : 'nunique', 'revenue' : 'sum'}), axis=1).sort_values(by=['date','group'])\n",
    "\n",
    "# получаем агрегированные кумулятивные по дням данные о посетителях интернет-магазина \n",
    "visitorsAggregated = datesGroups.apply(lambda x: visitors[np.logical_and(visitors['date'] <= x['date'], visitors['group'] == x['group'])].agg({'date' : 'max', 'group' : 'max', 'visitors' : 'sum'}), axis=1).sort_values(by=['date','group'])\n",
    "\n",
    "# объединяем кумулятивные данные в одной таблице и присваиваем ее столбцам понятные названия\n",
    "cumulativeData = ordersAggregated.merge(visitorsAggregated, left_on=['date', 'group'], right_on=['date', 'group'])\n",
    "cumulativeData.columns = ['date', 'group', 'orders', 'buyers', 'revenue', 'visitors']\n",
    "\n",
    "print(cumulativeData.head(5))"
   ]
  },
  {
   "cell_type": "code",
   "execution_count": 18,
   "metadata": {},
   "outputs": [
    {
     "name": "stderr",
     "output_type": "stream",
     "text": [
      "/opt/conda/lib/python3.7/site-packages/pandas/plotting/_matplotlib/converter.py:103: FutureWarning: Using an implicitly registered datetime converter for a matplotlib plotting method. The converter was registered by pandas on import. Future versions of pandas will require you to explicitly register matplotlib converters.\n",
      "\n",
      "To register the converters:\n",
      "\t>>> from pandas.plotting import register_matplotlib_converters\n",
      "\t>>> register_matplotlib_converters()\n",
      "  warnings.warn(msg, FutureWarning)\n"
     ]
    },
    {
     "data": {
      "text/plain": [
       "<matplotlib.legend.Legend at 0x7f586e12f590>"
      ]
     },
     "execution_count": 18,
     "metadata": {},
     "output_type": "execute_result"
    },
    {
     "data": {
      "image/png": "[encoded data removed]",
      "text/plain": [
       "<Figure size 432x288 with 1 Axes>"
      ]
     },
     "metadata": {
      "needs_background": "light"
     },
     "output_type": "display_data"
    }
   ],
   "source": [
    "# Постройте график кумулятивной выручки по группам. Сделайте выводы и предположения.\n",
    "\n",
    "# plt.figure(figsize=(30,15))\n",
    "\n",
    "# датафрейм с кумулятивным количеством заказов и кумулятивной выручкой по дням в группе А\n",
    "cumulativeRevenueA = cumulativeData[cumulativeData['group']=='A'][['date','revenue', 'orders']]\n",
    "\n",
    "# датафрейм с кумулятивным количеством заказов и кумулятивной выручкой по дням в группе B\n",
    "cumulativeRevenueB = cumulativeData[cumulativeData['group']=='B'][['date','revenue', 'orders']]\n",
    "\n",
    "# Строим график выручки группы А\n",
    "plt.plot(cumulativeRevenueA['date'], cumulativeRevenueA['revenue'], label='A')\n",
    "\n",
    "# Строим график выручки группы B\n",
    "plt.plot(cumulativeRevenueB['date'], cumulativeRevenueB['revenue'], label='B')\n",
    "\n",
    "plt.xticks(rotation=70)\n",
    "\n",
    "plt.legend()"
   ]
  },
  {
   "cell_type": "markdown",
   "metadata": {},
   "source": [
    "Выручка почти равномерно увеличивается в течение всего теста.\n",
    "\n",
    "Однако графики выручки группы B имеет резкий рост в начале второй половины теста. \n",
    "Это может сигнализировать о всплесках числа заказов, либо о появлении очень дорогих заказов в выборке. "
   ]
  },
  {
   "cell_type": "code",
   "execution_count": 19,
   "metadata": {},
   "outputs": [
    {
     "data": {
      "text/plain": [
       "<matplotlib.legend.Legend at 0x7f586e0d4650>"
      ]
     },
     "execution_count": 19,
     "metadata": {},
     "output_type": "execute_result"
    },
    {
     "data": {
      "image/png": "[encoded data removed]",
      "text/plain": [
       "<Figure size 432x288 with 1 Axes>"
      ]
     },
     "metadata": {
      "needs_background": "light"
     },
     "output_type": "display_data"
    }
   ],
   "source": [
    "# Постройте график кумулятивного среднего чека по группам. Сделайте выводы и предположения.\n",
    "# plt.figure(figsize=(30,15))\n",
    "\n",
    "plt.plot(cumulativeRevenueA['date'], cumulativeRevenueA['revenue']/cumulativeRevenueA['orders'], label='A')\n",
    "plt.plot(cumulativeRevenueB['date'], cumulativeRevenueB['revenue']/cumulativeRevenueB['orders'], label='B')\n",
    "\n",
    "plt.xticks(rotation=70)\n",
    "plt.legend()"
   ]
  },
  {
   "cell_type": "markdown",
   "metadata": {},
   "source": [
    "Средний чек тоже становится равномерным ближе к концу теста: установился для группы A и продолжает падать для группы B. \n",
    "\n",
    "Возможно, в группу B в начале второй половине теста попали крупные заказы (резкий всплеск на графике).\n",
    "Тогда ей нужно больше данных, чтобы прийти к реальному среднему чеку и установиться на его уровне."
   ]
  },
  {
   "cell_type": "code",
   "execution_count": 20,
   "metadata": {},
   "outputs": [
    {
     "data": {
      "text/plain": [
       "<matplotlib.lines.Line2D at 0x7f586d980a10>"
      ]
     },
     "execution_count": 20,
     "metadata": {},
     "output_type": "execute_result"
    },
    {
     "data": {
      "image/png": "[encoded data removed]",
      "text/plain": [
       "<Figure size 432x288 with 1 Axes>"
      ]
     },
     "metadata": {
      "needs_background": "light"
     },
     "output_type": "display_data"
    }
   ],
   "source": [
    "# Постройте график относительного изменения кумулятивного среднего чека группы B к группе A. Сделайте выводы и предположения.\n",
    "\n",
    "# собираем данные в одном датафрейме\n",
    "mergedCumulativeRevenue = cumulativeRevenueA.merge(cumulativeRevenueB, left_on='date', right_on='date', how='left', suffixes=['A', 'B'])\n",
    "\n",
    "# cтроим отношение средних чеков\n",
    "plt.plot(mergedCumulativeRevenue['date'], (mergedCumulativeRevenue['revenueB']/mergedCumulativeRevenue['ordersB'])/(mergedCumulativeRevenue['revenueA']/mergedCumulativeRevenue['ordersA'])-1)\n",
    "\n",
    "# добавляем ось X\n",
    "plt.xticks(rotation=70)\n",
    "\n",
    "plt.axhline(y=0, color='black', linestyle='--')"
   ]
  },
  {
   "cell_type": "markdown",
   "metadata": {},
   "source": [
    "В нескольких точках график различия между сегментами резко «скачет».\n",
    "В целом группа B превосходит над группой А, во второй половине теста относительно изменение начало снижаться"
   ]
  },
  {
   "cell_type": "code",
   "execution_count": 21,
   "metadata": {},
   "outputs": [
    {
     "data": {
      "text/plain": [
       "(array([737272., 737276., 737280., 737284., 737288., 737292., 737296.,\n",
       "        737300., 737303.]),\n",
       " <a list of 9 Text xticklabel objects>)"
      ]
     },
     "execution_count": 21,
     "metadata": {},
     "output_type": "execute_result"
    },
    {
     "data": {
      "image/png": "[encoded data removed]",
      "text/plain": [
       "<Figure size 432x288 with 1 Axes>"
      ]
     },
     "metadata": {
      "needs_background": "light"
     },
     "output_type": "display_data"
    }
   ],
   "source": [
    "# Постройте график кумулятивной конверсии по группам. Сделайте выводы и предположения.\n",
    "\n",
    "# считаем кумулятивную конверсию\n",
    "cumulativeData['conversion'] = cumulativeData['orders']/cumulativeData['visitors']\n",
    "\n",
    "# отделяем данные по группе A\n",
    "cumulativeDataA = cumulativeData[cumulativeData['group']=='A']\n",
    "\n",
    "# отделяем данные по группе B\n",
    "cumulativeDataB = cumulativeData[cumulativeData['group']=='B']\n",
    "\n",
    "# строим графики\n",
    "plt.plot(cumulativeDataA['date'], cumulativeDataA['conversion'], label='A')\n",
    "plt.plot(cumulativeDataB['date'], cumulativeDataB['conversion'], label='B')\n",
    "plt.legend()\n",
    "\n",
    "# задаем масштаб осей\n",
    "plt.xticks(rotation=70)"
   ]
  },
  {
   "cell_type": "markdown",
   "metadata": {},
   "source": [
    "Конверсия группы B значительно больше конверсии группы А, хоть и в самом начале теста ситуация была обратная"
   ]
  },
  {
   "cell_type": "code",
   "execution_count": 22,
   "metadata": {},
   "outputs": [
    {
     "name": "stderr",
     "output_type": "stream",
     "text": [
      "No handles with labels found to put in legend.\n"
     ]
    },
    {
     "data": {
      "text/plain": [
       "(array([737272., 737276., 737280., 737284., 737288., 737292., 737296.,\n",
       "        737300., 737303.]),\n",
       " <a list of 9 Text xticklabel objects>)"
      ]
     },
     "execution_count": 22,
     "metadata": {},
     "output_type": "execute_result"
    },
    {
     "data": {
      "image/png": "[encoded data removed]",
      "text/plain": [
       "<Figure size 432x288 with 1 Axes>"
      ]
     },
     "metadata": {
      "needs_background": "light"
     },
     "output_type": "display_data"
    }
   ],
   "source": [
    "# Постройте график относительного изменения кумулятивной конверсии группы B к группе A. Сделайте выводы и предположения.\n",
    "\n",
    "mergedCumulativeConversions = cumulativeDataA[['date','conversion']].merge(cumulativeDataB[['date','conversion']], left_on='date', right_on='date', how='left', suffixes=['A', 'B'])\n",
    "\n",
    "plt.plot(mergedCumulativeConversions['date'], mergedCumulativeConversions['conversionB']/mergedCumulativeConversions['conversionA']-1)\n",
    "plt.legend()\n",
    "\n",
    "plt.axhline(y=0, color='black', linestyle='--')\n",
    "plt.axhline(y=-0.1, color='grey', linestyle='--')\n",
    "plt.title(\"Относительный прирост конверсии группы B относительно группы A\")\n",
    "plt.xticks(rotation=70)"
   ]
  },
  {
   "cell_type": "markdown",
   "metadata": {},
   "source": [
    "## Анализ выбросов и всплесков"
   ]
  },
  {
   "cell_type": "code",
   "execution_count": 23,
   "metadata": {},
   "outputs": [
    {
     "data": {
      "text/plain": [
       "(array([1.195e+03, 1.000e+00, 0.000e+00, 0.000e+00, 0.000e+00, 0.000e+00,\n",
       "        0.000e+00, 0.000e+00, 0.000e+00, 1.000e+00]),\n",
       " array([5.000000e+01, 1.294950e+05, 2.589400e+05, 3.883850e+05,\n",
       "        5.178300e+05, 6.472750e+05, 7.767200e+05, 9.061650e+05,\n",
       "        1.035610e+06, 1.165055e+06, 1.294500e+06]),\n",
       " <a list of 10 Patch objects>)"
      ]
     },
     "execution_count": 23,
     "metadata": {},
     "output_type": "execute_result"
    },
    {
     "data": {
      "image/png": "[encoded data removed]",
      "text/plain": [
       "<Figure size 432x288 with 1 Axes>"
      ]
     },
     "metadata": {
      "needs_background": "light"
     },
     "output_type": "display_data"
    }
   ],
   "source": [
    "# Постройте точечный график стоимостей заказов. Сделайте выводы и предположения.\n",
    "plt.hist(orders['revenue']) "
   ]
  },
  {
   "cell_type": "code",
   "execution_count": 24,
   "metadata": {},
   "outputs": [
    {
     "data": {
      "text/plain": [
       "<matplotlib.collections.PathCollection at 0x7f586d788cd0>"
      ]
     },
     "execution_count": 24,
     "metadata": {},
     "output_type": "execute_result"
    },
    {
     "data": {
      "image/png": "[encoded data removed]",
      "text/plain": [
       "<Figure size 432x288 with 1 Axes>"
      ]
     },
     "metadata": {
      "needs_background": "light"
     },
     "output_type": "display_data"
    }
   ],
   "source": [
    "x_values = pd.Series(range(0,len(orders['revenue'])))\n",
    "plt.scatter(x_values, orders['revenue']) "
   ]
  },
  {
   "cell_type": "code",
   "execution_count": 25,
   "metadata": {
    "scrolled": true
   },
   "outputs": [
    {
     "data": {
      "text/plain": [
       "[0, 1210, 0, 200000]"
      ]
     },
     "execution_count": 25,
     "metadata": {},
     "output_type": "execute_result"
    },
    {
     "data": {
      "image/png": "[encoded data removed]",
      "text/plain": [
       "<Figure size 432x288 with 1 Axes>"
      ]
     },
     "metadata": {
      "needs_background": "light"
     },
     "output_type": "display_data"
    }
   ],
   "source": [
    "plt.scatter(x_values, orders['revenue']) \n",
    "plt.axis([0, 1210, 0, 200000])"
   ]
  },
  {
   "cell_type": "markdown",
   "metadata": {},
   "source": [
    "Есть немного дорогих заказов. По графику можно выбрать границу аномальных заказов больше 100000. \n",
    "\n",
    "Однако принято отсеивать от 1% до 5% наблюдений с крайними значениями."
   ]
  },
  {
   "cell_type": "code",
   "execution_count": 26,
   "metadata": {},
   "outputs": [
    {
     "name": "stdout",
     "output_type": "stream",
     "text": [
      "[18168.  28000.  58233.2]\n"
     ]
    }
   ],
   "source": [
    "# Посчитайте 95-й и 99-й перцентили стоимости заказов. Выберите границу для определения аномальных заказов.\n",
    "percentiles_revenue = np.percentile(orders['revenue'], [90, 95, 99])\n",
    "print(percentiles_revenue) "
   ]
  },
  {
   "cell_type": "code",
   "execution_count": 27,
   "metadata": {},
   "outputs": [
    {
     "data": {
      "text/plain": [
       "28000.000000000004"
      ]
     },
     "execution_count": 27,
     "metadata": {},
     "output_type": "execute_result"
    }
   ],
   "source": [
    "percentiles_95_revenue = percentiles_revenue[1]\n",
    "percentiles_95_revenue"
   ]
  },
  {
   "cell_type": "markdown",
   "metadata": {},
   "source": [
    "Не более 5% заказов дороже 28 000 и не более 1% дороже 58 233.\n",
    "За границу аномальных заказов выбираем 28000.\n",
    "\n"
   ]
  },
  {
   "cell_type": "code",
   "execution_count": 28,
   "metadata": {},
   "outputs": [
    {
     "name": "stdout",
     "output_type": "stream",
     "text": [
      "          userId  orders\n",
      "1023  4256040402      11\n",
      "591   2458001652      11\n",
      "569   2378935119       9\n",
      "487   2038680547       8\n",
      "44     199603092       5\n",
      "744   3062433592       5\n",
      "55     237748145       5\n",
      "917   3803269165       5\n",
      "299   1230306981       5\n",
      "897   3717692402       5\n"
     ]
    }
   ],
   "source": [
    "# Постройте точечный график количества заказов по пользователям. Сделайте выводы и предположения.\n",
    "\n",
    "ordersByUsers = (\n",
    "    orders.groupby('visitorid', as_index=False)\n",
    "    .agg({'transactionid': pd.Series.nunique})\n",
    ")\n",
    "\n",
    "ordersByUsers.columns = ['userId', 'orders']\n",
    "\n",
    "print(ordersByUsers.sort_values(by='orders', ascending=False).head(10)) "
   ]
  },
  {
   "cell_type": "code",
   "execution_count": 29,
   "metadata": {},
   "outputs": [
    {
     "data": {
      "text/plain": [
       "(array([937.,  64.,  17.,   3.,   6.,   0.,   0.,   1.,   1.,   2.]),\n",
       " array([ 1.,  2.,  3.,  4.,  5.,  6.,  7.,  8.,  9., 10., 11.]),\n",
       " <a list of 10 Patch objects>)"
      ]
     },
     "execution_count": 29,
     "metadata": {},
     "output_type": "execute_result"
    },
    {
     "data": {
      "image/png": "[encoded data removed]",
      "text/plain": [
       "<Figure size 432x288 with 1 Axes>"
      ]
     },
     "metadata": {
      "needs_background": "light"
     },
     "output_type": "display_data"
    }
   ],
   "source": [
    "plt.hist(ordersByUsers['orders']) "
   ]
  },
  {
   "cell_type": "code",
   "execution_count": 30,
   "metadata": {},
   "outputs": [
    {
     "data": {
      "text/plain": [
       "<matplotlib.collections.PathCollection at 0x7f586d681690>"
      ]
     },
     "execution_count": 30,
     "metadata": {},
     "output_type": "execute_result"
    },
    {
     "data": {
      "image/png": "[encoded data removed]",
      "text/plain": [
       "<Figure size 432x288 with 1 Axes>"
      ]
     },
     "metadata": {
      "needs_background": "light"
     },
     "output_type": "display_data"
    }
   ],
   "source": [
    "x_values = pd.Series(range(0,len(ordersByUsers)))\n",
    "\n",
    "plt.scatter(x_values, ordersByUsers['orders']) "
   ]
  },
  {
   "cell_type": "markdown",
   "metadata": {},
   "source": [
    "Большинство покупателей заказывали только один раз. \n",
    "\n",
    "Однако доля пользователей с 2-4 заказами тоже значительна."
   ]
  },
  {
   "cell_type": "code",
   "execution_count": 31,
   "metadata": {},
   "outputs": [
    {
     "name": "stdout",
     "output_type": "stream",
     "text": [
      "[1. 2. 4.]\n"
     ]
    }
   ],
   "source": [
    "# Посчитайте 95-й и 99-й перцентили количества заказов на пользователя. Выберите границу для определения аномальных пользователей.\n",
    "percentiles_95_orders = np.percentile(ordersByUsers['orders'], [90, 95, 99])\n",
    "print(percentiles_95_orders)"
   ]
  },
  {
   "cell_type": "code",
   "execution_count": 32,
   "metadata": {},
   "outputs": [
    {
     "data": {
      "text/plain": [
       "2.0"
      ]
     },
     "execution_count": 32,
     "metadata": {},
     "output_type": "execute_result"
    }
   ],
   "source": [
    "percentiles_95_orders = percentiles_95_orders[1]\n",
    "percentiles_95_orders"
   ]
  },
  {
   "cell_type": "markdown",
   "metadata": {},
   "source": [
    "Не более 5% пользователей оформляли больше чем 2 заказов. И 10% пользователей заказывали более 1 раза.\n",
    "\n",
    "Разумно выбрать 2 заказа на одного пользователя за нижнюю границу числа заказов, и отсеять аномальных пользователей по ней."
   ]
  },
  {
   "cell_type": "markdown",
   "metadata": {},
   "source": [
    "## Расчет статистической значимости"
   ]
  },
  {
   "cell_type": "code",
   "execution_count": 33,
   "metadata": {},
   "outputs": [
    {
     "data": {
      "text/html": [
       "<div>\n",
       "<style scoped>\n",
       "    .dataframe tbody tr th:only-of-type {\n",
       "        vertical-align: middle;\n",
       "    }\n",
       "\n",
       "    .dataframe tbody tr th {\n",
       "        vertical-align: top;\n",
       "    }\n",
       "\n",
       "    .dataframe thead th {\n",
       "        text-align: right;\n",
       "    }\n",
       "</style>\n",
       "<table border=\"1\" class=\"dataframe\">\n",
       "  <thead>\n",
       "    <tr style=\"text-align: right;\">\n",
       "      <th></th>\n",
       "      <th>orderId</th>\n",
       "      <th>userId</th>\n",
       "      <th>date</th>\n",
       "      <th>revenue</th>\n",
       "      <th>group</th>\n",
       "    </tr>\n",
       "  </thead>\n",
       "  <tbody>\n",
       "    <tr>\n",
       "      <td>0</td>\n",
       "      <td>3667963787</td>\n",
       "      <td>3312258926</td>\n",
       "      <td>2019-08-15</td>\n",
       "      <td>1650</td>\n",
       "      <td>B</td>\n",
       "    </tr>\n",
       "  </tbody>\n",
       "</table>\n",
       "</div>"
      ],
      "text/plain": [
       "      orderId      userId       date  revenue group\n",
       "0  3667963787  3312258926 2019-08-15     1650     B"
      ]
     },
     "execution_count": 33,
     "metadata": {},
     "output_type": "execute_result"
    }
   ],
   "source": [
    "orders.rename(columns={'transactionid':'orderId', 'visitorid':'userId'}, inplace=True)\n",
    "orders.head(1)"
   ]
  },
  {
   "cell_type": "code",
   "execution_count": 34,
   "metadata": {},
   "outputs": [
    {
     "name": "stdout",
     "output_type": "stream",
     "text": [
      "        date  ordersPerDateA  revenuePerDateA  ordersPerDateB  \\\n",
      "0 2019-08-01              24           148579              21   \n",
      "1 2019-08-02              20            93822              24   \n",
      "2 2019-08-03              24           112473              16   \n",
      "3 2019-08-04              16            70825              17   \n",
      "4 2019-08-05              25           124218              23   \n",
      "\n",
      "   revenuePerDateB  ordersCummulativeA  revenueCummulativeA  \\\n",
      "0           101217                  24               148579   \n",
      "1           165531                  44               242401   \n",
      "2           114248                  68               354874   \n",
      "3           108571                  84               425699   \n",
      "4            92428                 109               549917   \n",
      "\n",
      "   ordersCummulativeB  revenueCummulativeB  visitorsPerDateA  \\\n",
      "0                  21               101217               719   \n",
      "1                  45               266748               619   \n",
      "2                  61               380996               507   \n",
      "3                  78               489567               717   \n",
      "4                 101               581995               756   \n",
      "\n",
      "   visitorsPerDateB  visitorsCummulativeA  visitorsCummulativeB  \n",
      "0               713                   719                   713  \n",
      "1               581                  1338                  1294  \n",
      "2               509                  1845                  1803  \n",
      "3               770                  2562                  2573  \n",
      "4               707                  3318                  3280  \n"
     ]
    }
   ],
   "source": [
    "# orders['date'] = orders['date'].map(\n",
    "#     lambda x: datetime.strptime(x, '%Y-%m-%d')\n",
    "# )\n",
    "\n",
    "# visitors['date'] = visitors['date'].map(\n",
    "#     lambda x: datetime.strptime(x, '%Y-%m-%d')\n",
    "# )\n",
    "\n",
    "visitorsADaily = visitors[visitors['group'] == 'A'][['date', 'visitors']]\n",
    "visitorsADaily.columns = ['date', 'visitorsPerDateA']\n",
    "\n",
    "visitorsACummulative = visitorsADaily.apply(\n",
    "    lambda x: visitorsADaily[visitorsADaily['date'] <= x['date']].agg(\n",
    "        {'date': 'max', 'visitorsPerDateA': 'sum'}\n",
    "    ),\n",
    "    axis=1,\n",
    ")\n",
    "visitorsACummulative.columns = ['date', 'visitorsCummulativeA']\n",
    "\n",
    "visitorsBDaily = visitors[visitors['group'] == 'B'][['date', 'visitors']]\n",
    "visitorsBDaily.columns = ['date', 'visitorsPerDateB']\n",
    "\n",
    "visitorsBCummulative = visitorsBDaily.apply(\n",
    "    lambda x: visitorsBDaily[visitorsBDaily['date'] <= x['date']].agg(\n",
    "        {'date': 'max', 'visitorsPerDateB': 'sum'}\n",
    "    ),\n",
    "    axis=1,\n",
    ")\n",
    "visitorsBCummulative.columns = ['date', 'visitorsCummulativeB']\n",
    "\n",
    "ordersADaily = (\n",
    "    orders[orders['group'] == 'A'][['date', 'orderId', 'userId', 'revenue']]\n",
    "    .groupby('date', as_index=False)\n",
    "    .agg({'orderId': pd.Series.nunique, 'revenue': 'sum'})\n",
    ")\n",
    "ordersADaily.columns = ['date', 'ordersPerDateA', 'revenuePerDateA']\n",
    "\n",
    "ordersACummulative = ordersADaily.apply(\n",
    "    lambda x: ordersADaily[ordersADaily['date'] <= x['date']].agg(\n",
    "        {'date': 'max', 'ordersPerDateA': 'sum', 'revenuePerDateA': 'sum'}\n",
    "    ),\n",
    "    axis=1,\n",
    ").sort_values(by=['date'])\n",
    "ordersACummulative.columns = [\n",
    "    'date',\n",
    "    'ordersCummulativeA',\n",
    "    'revenueCummulativeA',\n",
    "]\n",
    "\n",
    "ordersBDaily = (\n",
    "    orders[orders['group'] == 'B'][['date', 'orderId', 'userId', 'revenue']]\n",
    "    .groupby('date', as_index=False)\n",
    "    .agg({'orderId': pd.Series.nunique, 'revenue': 'sum'})\n",
    ")\n",
    "ordersBDaily.columns = ['date', 'ordersPerDateB', 'revenuePerDateB']\n",
    "\n",
    "ordersBCummulative = ordersBDaily.apply(\n",
    "    lambda x: ordersBDaily[ordersBDaily['date'] <= x['date']].agg(\n",
    "        {'date': 'max', 'ordersPerDateB': 'sum', 'revenuePerDateB': 'sum'}\n",
    "    ),\n",
    "    axis=1,\n",
    ").sort_values(by=['date'])\n",
    "ordersBCummulative.columns = [\n",
    "    'date',\n",
    "    'ordersCummulativeB',\n",
    "    'revenueCummulativeB',\n",
    "]\n",
    "\n",
    "data = (\n",
    "    ordersADaily.merge(\n",
    "        ordersBDaily, left_on='date', right_on='date', how='left'\n",
    "    )\n",
    "    .merge(ordersACummulative, left_on='date', right_on='date', how='left')\n",
    "    .merge(ordersBCummulative, left_on='date', right_on='date', how='left')\n",
    "    .merge(visitorsADaily, left_on='date', right_on='date', how='left')\n",
    "    .merge(visitorsBDaily, left_on='date', right_on='date', how='left')\n",
    "    .merge(visitorsACummulative, left_on='date', right_on='date', how='left')\n",
    "    .merge(visitorsBCummulative, left_on='date', right_on='date', how='left')\n",
    ")\n",
    "\n",
    "print(data.head(5))"
   ]
  },
  {
   "cell_type": "code",
   "execution_count": 35,
   "metadata": {},
   "outputs": [],
   "source": [
    "ordersByUsersA = (\n",
    "    orders[orders['group'] == 'A']\n",
    "    .groupby('userId', as_index=False)\n",
    "    .agg({'orderId': pd.Series.nunique})\n",
    ")\n",
    "ordersByUsersA.columns = ['userId', 'orders']\n",
    "\n",
    "ordersByUsersB = (\n",
    "    orders[orders['group'] == 'B']\n",
    "    .groupby('userId', as_index=False)\n",
    "    .agg({'orderId': pd.Series.nunique})\n",
    ")\n",
    "ordersByUsersB.columns = ['userId', 'orders']\n",
    "\n",
    "sampleA = pd.concat(\n",
    "    [\n",
    "        ordersByUsersA['orders'],\n",
    "        pd.Series(\n",
    "            0,\n",
    "            index=np.arange(\n",
    "                data['visitorsPerDateA'].sum() - len(ordersByUsersA['orders'])\n",
    "            ),\n",
    "            name='orders',\n",
    "        ),\n",
    "    ],\n",
    "    axis=0,\n",
    ")\n",
    "\n",
    "sampleB = pd.concat(\n",
    "    [\n",
    "        ordersByUsersB['orders'],\n",
    "        pd.Series(\n",
    "            0,\n",
    "            index=np.arange(\n",
    "                data['visitorsPerDateB'].sum() - len(ordersByUsersB['orders'])\n",
    "            ),\n",
    "            name='orders',\n",
    "        ),\n",
    "    ],\n",
    "    axis=0,\n",
    ")"
   ]
  },
  {
   "cell_type": "code",
   "execution_count": 36,
   "metadata": {},
   "outputs": [
    {
     "name": "stdout",
     "output_type": "stream",
     "text": [
      "Описание Гипотезы:\n",
      "    Рабочая: Есть различия в конверсии между группами по «сырым» данным.\n",
      "    Стат. гипотезы:\n",
      "        H0 - нет значимых различий между средними значениями в конверсии двух выборок.\n",
      "        H1 - есть значимые различия между средними значениями в конверсии двух выборок.\n",
      "\n",
      "Статистическая значимость различий в конверсии между группами по «сырым» данным= 0.008\n",
      "Относительное различие = 0.138\n"
     ]
    }
   ],
   "source": [
    "# Посчитайте статистическую значимость различий в конверсии между группами по «сырым» данным. Сделайте выводы и предположения.\n",
    "print(\"\"\"Описание Гипотезы:\n",
    "    Рабочая: Есть различия в конверсии между группами по «сырым» данным.\n",
    "    Стат. гипотезы:\n",
    "        H0 - нет значимых различий между средними значениями в конверсии двух выборок.\n",
    "        H1 - есть значимые различия между средними значениями в конверсии двух выборок.\n",
    "\"\"\")\n",
    "\n",
    "print(\"Статистическая значимость различий в конверсии между группами по «сырым» данным= {0:.3f}\".format(stats.mannwhitneyu(sampleA, sampleB)[1]))\n",
    "\n",
    "print(\"Относительное различие = {0:.3f}\".format(sampleB.mean() / sampleA.mean() - 1))"
   ]
  },
  {
   "cell_type": "markdown",
   "metadata": {},
   "source": [
    "По «сырым» данным различия в конверсии групп A и B присутствуют.\n",
    "\n",
    "Первое число — p-value = 0.008 меньше 0.05. \n",
    "Значит, нулевую гипотезу о том, что статистически значимых различий в конверсии между группами нет, отвергаем. \n",
    "\n",
    "Относительный выигрыш группы B равен 13.8% — второе число в выводе."
   ]
  },
  {
   "cell_type": "code",
   "execution_count": 37,
   "metadata": {},
   "outputs": [
    {
     "name": "stdout",
     "output_type": "stream",
     "text": [
      "Описание Гипотезы:\n",
      "    Рабочая: Есть различия в среднем чеке между группами по «сырым» данным.\n",
      "    Стат. гипотезы:\n",
      "        H0 - нет значимых различий между средними значениями среднего чека двух выборок.\n",
      "        H1 - есть значимые различия между средними значениями среднего чека двух выборок.\n",
      "\n",
      "Статистическая значимость различий в среднем чеке заказа между группами по «сырым» данным= 0.365\n",
      "Относительное различие = 0.259\n"
     ]
    }
   ],
   "source": [
    "# Посчитайте статистическую значимость различий в среднем чеке заказа между группами по «сырым» данным. Сделайте выводы и предположения.\n",
    "print(\"\"\"Описание Гипотезы:\n",
    "    Рабочая: Есть различия в среднем чеке между группами по «сырым» данным.\n",
    "    Стат. гипотезы:\n",
    "        H0 - нет значимых различий между средними значениями среднего чека двух выборок.\n",
    "        H1 - есть значимые различия между средними значениями среднего чека двух выборок.\n",
    "\"\"\")\n",
    "\n",
    "\n",
    "print('Статистическая значимость различий в среднем чеке заказа между группами по «сырым» данным= {0:.3f}'.format(stats.mannwhitneyu(orders[orders['group']=='A']['revenue'], orders[orders['group']=='B']['revenue'])[1]))\n",
    "print('Относительное различие = {0:.3f}'.format(orders[orders['group']=='B']['revenue'].mean()/orders[orders['group']=='A']['revenue'].mean()-1))"
   ]
  },
  {
   "cell_type": "markdown",
   "metadata": {},
   "source": [
    "P-value значительно больше 0.05. \n",
    "Значит, причин отвергать нулевую гипотезу и считать, что в среднем чеке есть различия, нет. \n",
    "\n",
    "Впрочем, средний чек группы B значительно выше среднего чека группы A."
   ]
  },
  {
   "cell_type": "markdown",
   "metadata": {},
   "source": [
    "## Производим чистку данных"
   ]
  },
  {
   "cell_type": "code",
   "execution_count": 38,
   "metadata": {},
   "outputs": [
    {
     "name": "stdout",
     "output_type": "stream",
     "text": [
      "1099    148427295\n",
      "18      199603092\n",
      "928     204675465\n",
      "23      237748145\n",
      "37      249864742\n",
      "Name: userId, dtype: int64\n",
      "(74,)\n"
     ]
    }
   ],
   "source": [
    "# Узнаем, сколько всего аномальных пользователей\n",
    "usersWithManyOrders = pd.concat(\n",
    "    [\n",
    "        ordersByUsersA[ordersByUsersA['orders'] > percentiles_95_orders]['userId'],\n",
    "        ordersByUsersB[ordersByUsersB['orders'] > percentiles_95_orders]['userId'],\n",
    "    ],\n",
    "    axis=0,\n",
    ")\n",
    "usersWithExpensiveOrders = orders[orders['revenue'] > percentiles_95_revenue]['userId']\n",
    "abnormalUsers = (\n",
    "    pd.concat([usersWithManyOrders, usersWithExpensiveOrders], axis=0)\n",
    "    .drop_duplicates()\n",
    "    .sort_values()\n",
    ")\n",
    "print(abnormalUsers.head(5))\n",
    "print(abnormalUsers.shape)"
   ]
  },
  {
   "cell_type": "markdown",
   "metadata": {},
   "source": [
    "Всего 37 аномальных пользователей"
   ]
  },
  {
   "cell_type": "markdown",
   "metadata": {},
   "source": [
    "Узнаем, как их действия повлияли на результаты теста. \n",
    "\n",
    "Посчитаем статистическую значимость различий в конверсии между группами теста по очищенным данным. \n",
    "\n",
    "Сначала подготовим выборки количества заказов по пользователям по группам теста"
   ]
  },
  {
   "cell_type": "code",
   "execution_count": 39,
   "metadata": {},
   "outputs": [],
   "source": [
    "sampleAFiltered = pd.concat(\n",
    "    [\n",
    "        ordersByUsersA[\n",
    "            np.logical_not(ordersByUsersA['userId'].isin(abnormalUsers))\n",
    "        ]['orders'],\n",
    "        pd.Series(\n",
    "            0,\n",
    "            index=np.arange(\n",
    "                data['visitorsPerDateA'].sum() - len(ordersByUsersA['orders'])\n",
    "            ),\n",
    "            name='orders',\n",
    "        ),\n",
    "    ],\n",
    "    axis=0,\n",
    ")\n",
    "\n",
    "sampleBFiltered = pd.concat(\n",
    "    [\n",
    "        ordersByUsersB[\n",
    "            np.logical_not(ordersByUsersB['userId'].isin(abnormalUsers))\n",
    "        ]['orders'],\n",
    "        pd.Series(\n",
    "            0,\n",
    "            index=np.arange(\n",
    "                data['visitorsPerDateB'].sum() - len(ordersByUsersB['orders'])\n",
    "            ),\n",
    "            name='orders',\n",
    "        ),\n",
    "    ],\n",
    "    axis=0,\n",
    ")"
   ]
  },
  {
   "cell_type": "code",
   "execution_count": 40,
   "metadata": {},
   "outputs": [
    {
     "name": "stdout",
     "output_type": "stream",
     "text": [
      "Описание Гипотезы:\n",
      "    Рабочая: Есть различия в конверсии между группами по «очищенным» данным.\n",
      "    Стат. гипотезы:\n",
      "        H0 - нет значимых различий между средними значениями в конверсии двух выборок.\n",
      "        H1 - есть значимые различия между средними значениями в конверсии двух выборок.\n",
      "\n",
      "Статистическая значимость различий в конверсии между группами по «очищенным» данным = 0.007\n",
      "Относительное различие = 0.173\n"
     ]
    }
   ],
   "source": [
    "# Посчитайте статистическую значимость различий в конверсии между группами по «очищенным» данным. Сделайте выводы и предположения.\n",
    "print(\"\"\"Описание Гипотезы:\n",
    "    Рабочая: Есть различия в конверсии между группами по «очищенным» данным.\n",
    "    Стат. гипотезы:\n",
    "        H0 - нет значимых различий между средними значениями в конверсии двух выборок.\n",
    "        H1 - есть значимые различия между средними значениями в конверсии двух выборок.\n",
    "\"\"\")\n",
    "\n",
    "print('Статистическая значимость различий в конверсии между группами по «очищенным» данным = {0:.3f}'.format(stats.mannwhitneyu(sampleAFiltered, sampleBFiltered)[1]))\n",
    "print('Относительное различие = {0:.3f}'.format(sampleBFiltered.mean()/sampleAFiltered.mean()-1))"
   ]
  },
  {
   "cell_type": "markdown",
   "metadata": {},
   "source": [
    "p-value уменьшился, различие увеличилось, но в целом ситуация сильно не поменялась, отвергаем нулевую гипотезу"
   ]
  },
  {
   "cell_type": "code",
   "execution_count": 41,
   "metadata": {},
   "outputs": [
    {
     "name": "stdout",
     "output_type": "stream",
     "text": [
      "Описание Гипотезы:\n",
      "    Рабочая: Есть различия в среднем чеке между группами по «очищенным» данным.\n",
      "    Стат. гипотезы:\n",
      "        H0 - нет значимых различий между средними значениями среднего чека двух выборок.\n",
      "        H1 - есть значимые различия между средними значениями среднего чека двух выборок.\n",
      "\n",
      "Статистическая значимость различий в среднем чеке заказа между группами по «очищенным» данным = 0.369\n",
      "Относительное различие = -0.020\n"
     ]
    }
   ],
   "source": [
    "# Посчитайте статистическую значимость различий в среднем чеке заказа между группами по «очищенным» данным. Сделайте выводы и предположения.\n",
    "print(\"\"\"Описание Гипотезы:\n",
    "    Рабочая: Есть различия в среднем чеке между группами по «очищенным» данным.\n",
    "    Стат. гипотезы:\n",
    "        H0 - нет значимых различий между средними значениями среднего чека двух выборок.\n",
    "        H1 - есть значимые различия между средними значениями среднего чека двух выборок.\n",
    "\"\"\")\n",
    "\n",
    "\n",
    "print(\n",
    "    'Статистическая значимость различий в среднем чеке заказа между группами по «очищенным» данным = {0:.3f}'.format(\n",
    "        stats.mannwhitneyu(\n",
    "            orders[\n",
    "                np.logical_and(\n",
    "                    orders['group'] == 'A',\n",
    "                    np.logical_not(orders['userId'].isin(abnormalUsers)),\n",
    "                )\n",
    "            ]['revenue'],\n",
    "            orders[\n",
    "                np.logical_and(\n",
    "                    orders['group'] == 'B',\n",
    "                    np.logical_not(orders['userId'].isin(abnormalUsers)),\n",
    "                )\n",
    "            ]['revenue'],\n",
    "        )[1]\n",
    "    )\n",
    ")\n",
    "\n",
    "print(\n",
    "    \"Относительное различие = {0:.3f}\".format(\n",
    "        orders[\n",
    "            np.logical_and(\n",
    "                orders['group'] == 'B',\n",
    "                np.logical_not(orders['userId'].isin(abnormalUsers)),\n",
    "            )\n",
    "        ]['revenue'].mean()\n",
    "        / orders[\n",
    "            np.logical_and(\n",
    "                orders['group'] == 'A',\n",
    "                np.logical_not(orders['userId'].isin(abnormalUsers)),\n",
    "            )\n",
    "        ]['revenue'].mean()\n",
    "        - 1\n",
    "    )\n",
    ")"
   ]
  },
  {
   "cell_type": "markdown",
   "metadata": {},
   "source": [
    "p-value сильно увеличился, относительное различие же наоборот, упало практически до нуля и незначительно перевесило в пользу группы А\n",
    "причин отвергать нулевую гипотезу и считать, что в среднем чеке есть различия, по-прежнему нет."
   ]
  },
  {
   "cell_type": "code",
   "execution_count": 42,
   "metadata": {},
   "outputs": [],
   "source": [
    "# Примите решение по результатам теста и объясните его. Варианты решений: 1. Остановить тест, зафиксировать победу одной из групп. 2. Остановить тест, зафиксировать отсутствие различий между группами. 3. Продолжить тест."
   ]
  },
  {
   "cell_type": "markdown",
   "metadata": {},
   "source": [
    "# Вывод"
   ]
  },
  {
   "cell_type": "markdown",
   "metadata": {},
   "source": [
    "- Имеется статистически значимое различия по конверсии между группами как по «сырым», так и по данным после фильтрации аномалий;\n",
    "- Нет статистически значимого различия по среднему чеку между группами ни по «сырым», ни по данным после фильтрации аномалий;\n",
    "- График различия конверсии между группами сообщает, что результаты группы B лучше группы A и имеется тенденция к улучшению\n",
    "- График различия среднего чека говорит о том, что результаты группы B лучше группы А, но во второй половине теста имеется тенденция к уменьшению \n",
    "\n",
    "Исходя из обнаруженных фактов, можно сделать вывод что группа B победила, то есть тест следует остановить и признать его успешным. Можно принимать нововведения."
   ]
  }
 ],
 "metadata": {
  "ExecuteTimeLog": [
   {
    "duration": 1115,
    "start_time": "2022-01-30T11:59:27.094Z"
   },
   {
    "duration": 51,
    "start_time": "2022-01-30T12:00:34.112Z"
   },
   {
    "duration": 11,
    "start_time": "2022-01-30T12:00:59.878Z"
   },
   {
    "duration": 7,
    "start_time": "2022-01-30T12:01:30.080Z"
   },
   {
    "duration": 9,
    "start_time": "2022-01-30T12:01:32.757Z"
   },
   {
    "duration": 8,
    "start_time": "2022-01-30T12:01:38.372Z"
   },
   {
    "duration": 7,
    "start_time": "2022-01-30T12:02:06.083Z"
   },
   {
    "duration": 10,
    "start_time": "2022-01-30T12:02:26.690Z"
   },
   {
    "duration": 8,
    "start_time": "2022-01-30T12:02:30.868Z"
   },
   {
    "duration": 7,
    "start_time": "2022-01-30T12:02:49.549Z"
   },
   {
    "duration": 9,
    "start_time": "2022-01-30T12:03:15.167Z"
   },
   {
    "duration": 6,
    "start_time": "2022-01-30T12:03:18.922Z"
   },
   {
    "duration": 6,
    "start_time": "2022-01-30T12:03:27.490Z"
   },
   {
    "duration": 10,
    "start_time": "2022-01-30T12:14:31.021Z"
   },
   {
    "duration": 8,
    "start_time": "2022-01-30T12:14:51.408Z"
   },
   {
    "duration": 85,
    "start_time": "2022-01-30T12:15:41.490Z"
   },
   {
    "duration": 7,
    "start_time": "2022-01-30T13:09:29.737Z"
   },
   {
    "duration": 6793,
    "start_time": "2022-01-30T13:09:45.457Z"
   },
   {
    "duration": 294,
    "start_time": "2022-01-30T13:10:37.520Z"
   },
   {
    "duration": 277,
    "start_time": "2022-01-30T13:10:44.722Z"
   },
   {
    "duration": 246,
    "start_time": "2022-01-30T13:11:45.244Z"
   },
   {
    "duration": 363,
    "start_time": "2022-01-30T13:12:24.566Z"
   },
   {
    "duration": 186,
    "start_time": "2022-01-30T13:13:35.017Z"
   },
   {
    "duration": 278,
    "start_time": "2022-01-30T13:13:39.156Z"
   },
   {
    "duration": 380,
    "start_time": "2022-01-30T13:14:02.955Z"
   },
   {
    "duration": 233,
    "start_time": "2022-01-30T13:14:13.554Z"
   },
   {
    "duration": 293,
    "start_time": "2022-01-30T13:14:17.082Z"
   },
   {
    "duration": 170,
    "start_time": "2022-01-30T13:21:51.739Z"
   },
   {
    "duration": 297,
    "start_time": "2022-01-30T13:22:20.430Z"
   },
   {
    "duration": 278,
    "start_time": "2022-01-30T13:22:44.917Z"
   },
   {
    "duration": 4,
    "start_time": "2022-01-30T13:23:01.551Z"
   },
   {
    "duration": 96,
    "start_time": "2022-01-30T13:23:53.501Z"
   },
   {
    "duration": 272,
    "start_time": "2022-01-30T13:24:17.755Z"
   },
   {
    "duration": 4,
    "start_time": "2022-01-30T13:24:37.849Z"
   },
   {
    "duration": 8,
    "start_time": "2022-01-30T13:27:54.990Z"
   },
   {
    "duration": 6,
    "start_time": "2022-01-30T13:28:19.848Z"
   },
   {
    "duration": 13,
    "start_time": "2022-01-30T13:29:41.509Z"
   },
   {
    "duration": 4,
    "start_time": "2022-01-30T13:30:05.485Z"
   },
   {
    "duration": 7,
    "start_time": "2022-01-30T13:30:06.930Z"
   },
   {
    "duration": 1184,
    "start_time": "2022-01-30T13:30:10.338Z"
   },
   {
    "duration": 1799,
    "start_time": "2022-01-30T13:30:38.141Z"
   },
   {
    "duration": 1111,
    "start_time": "2022-01-30T13:30:47.137Z"
   },
   {
    "duration": 470,
    "start_time": "2022-01-30T13:31:01.833Z"
   },
   {
    "duration": 10,
    "start_time": "2022-01-30T13:31:30.058Z"
   },
   {
    "duration": 246,
    "start_time": "2022-01-30T13:31:37.089Z"
   },
   {
    "duration": 72,
    "start_time": "2022-01-30T13:31:41.895Z"
   },
   {
    "duration": 6,
    "start_time": "2022-01-30T13:31:47.348Z"
   },
   {
    "duration": 5,
    "start_time": "2022-01-30T13:31:55.685Z"
   },
   {
    "duration": 5,
    "start_time": "2022-01-30T13:32:16.568Z"
   },
   {
    "duration": 6,
    "start_time": "2022-01-30T13:32:24.277Z"
   },
   {
    "duration": 1052,
    "start_time": "2022-01-30T13:32:47.116Z"
   },
   {
    "duration": 1113,
    "start_time": "2022-01-30T13:32:52.655Z"
   },
   {
    "duration": 1395,
    "start_time": "2022-01-30T13:33:03.832Z"
   },
   {
    "duration": 5,
    "start_time": "2022-01-30T13:33:14.103Z"
   },
   {
    "duration": 259,
    "start_time": "2022-01-30T13:33:19.320Z"
   },
   {
    "duration": 1076,
    "start_time": "2022-01-30T13:33:46.739Z"
   },
   {
    "duration": 1181,
    "start_time": "2022-01-30T13:33:53.392Z"
   },
   {
    "duration": 1257,
    "start_time": "2022-01-30T13:34:16.902Z"
   },
   {
    "duration": 1150,
    "start_time": "2022-01-30T13:34:29.883Z"
   },
   {
    "duration": 248,
    "start_time": "2022-01-30T13:34:44.237Z"
   },
   {
    "duration": 273,
    "start_time": "2022-01-30T13:35:06.204Z"
   },
   {
    "duration": 106,
    "start_time": "2022-01-30T13:35:50.883Z"
   },
   {
    "duration": 218,
    "start_time": "2022-01-30T13:36:03.370Z"
   },
   {
    "duration": 3,
    "start_time": "2022-01-30T13:36:16.743Z"
   },
   {
    "duration": 7,
    "start_time": "2022-01-30T13:36:20.229Z"
   },
   {
    "duration": 6,
    "start_time": "2022-01-30T13:36:44.722Z"
   },
   {
    "duration": 10,
    "start_time": "2022-01-30T13:36:45.104Z"
   },
   {
    "duration": 9,
    "start_time": "2022-01-30T13:38:45.841Z"
   },
   {
    "duration": 10,
    "start_time": "2022-01-30T13:39:07.849Z"
   },
   {
    "duration": 8,
    "start_time": "2022-01-30T13:40:28.204Z"
   },
   {
    "duration": 8,
    "start_time": "2022-01-30T13:40:54.150Z"
   },
   {
    "duration": 15,
    "start_time": "2022-01-30T13:41:16.060Z"
   },
   {
    "duration": 1211,
    "start_time": "2022-01-30T15:27:27.839Z"
   },
   {
    "duration": 67,
    "start_time": "2022-01-30T15:27:29.053Z"
   },
   {
    "duration": 3,
    "start_time": "2022-01-30T15:27:45.742Z"
   },
   {
    "duration": 14,
    "start_time": "2022-01-30T15:27:54.494Z"
   },
   {
    "duration": 8,
    "start_time": "2022-01-30T15:27:55.671Z"
   },
   {
    "duration": 10,
    "start_time": "2022-01-30T15:28:01.361Z"
   },
   {
    "duration": 11,
    "start_time": "2022-01-30T15:28:01.671Z"
   },
   {
    "duration": 10,
    "start_time": "2022-01-30T15:28:03.027Z"
   },
   {
    "duration": 10,
    "start_time": "2022-01-30T15:28:03.435Z"
   },
   {
    "duration": 15,
    "start_time": "2022-01-30T15:29:01.035Z"
   },
   {
    "duration": 9,
    "start_time": "2022-01-30T15:29:04.415Z"
   },
   {
    "duration": 79,
    "start_time": "2022-01-30T15:31:58.458Z"
   },
   {
    "duration": 336,
    "start_time": "2022-01-30T15:36:43.658Z"
   },
   {
    "duration": 334,
    "start_time": "2022-01-30T15:36:45.813Z"
   },
   {
    "duration": 6,
    "start_time": "2022-01-30T15:37:32.718Z"
   },
   {
    "duration": 5,
    "start_time": "2022-01-30T15:38:25.097Z"
   },
   {
    "duration": 320,
    "start_time": "2022-01-30T15:39:18.281Z"
   },
   {
    "duration": 218,
    "start_time": "2022-01-30T15:39:31.069Z"
   },
   {
    "duration": 216,
    "start_time": "2022-01-30T15:39:37.177Z"
   },
   {
    "duration": 337,
    "start_time": "2022-01-30T15:39:58.266Z"
   },
   {
    "duration": 275,
    "start_time": "2022-01-30T15:40:46.352Z"
   },
   {
    "duration": 466,
    "start_time": "2022-01-30T15:40:53.044Z"
   },
   {
    "duration": 1404,
    "start_time": "2022-01-30T15:40:57.346Z"
   },
   {
    "duration": 847,
    "start_time": "2022-01-30T15:41:05.070Z"
   },
   {
    "duration": 614,
    "start_time": "2022-01-30T15:41:12.842Z"
   },
   {
    "duration": 524,
    "start_time": "2022-01-30T15:41:32.452Z"
   },
   {
    "duration": 796,
    "start_time": "2022-01-30T15:41:43.241Z"
   },
   {
    "duration": 768,
    "start_time": "2022-01-30T15:45:35.090Z"
   },
   {
    "duration": 354,
    "start_time": "2022-01-30T15:47:31.048Z"
   },
   {
    "duration": 79,
    "start_time": "2022-01-30T15:48:38.339Z"
   },
   {
    "duration": 467,
    "start_time": "2022-01-30T15:48:53.073Z"
   },
   {
    "duration": 3,
    "start_time": "2022-01-30T15:50:55.638Z"
   },
   {
    "duration": 209,
    "start_time": "2022-01-30T15:52:55.877Z"
   },
   {
    "duration": 325,
    "start_time": "2022-01-30T15:52:56.883Z"
   },
   {
    "duration": 4,
    "start_time": "2022-01-30T15:54:35.087Z"
   },
   {
    "duration": 325,
    "start_time": "2022-01-30T15:56:29.374Z"
   },
   {
    "duration": 124,
    "start_time": "2022-01-30T15:56:32.611Z"
   },
   {
    "duration": 272,
    "start_time": "2022-01-30T15:56:33.296Z"
   },
   {
    "duration": 278,
    "start_time": "2022-01-30T15:56:33.733Z"
   },
   {
    "duration": 71,
    "start_time": "2022-01-30T15:58:01.924Z"
   },
   {
    "duration": 10,
    "start_time": "2022-01-30T15:58:56.169Z"
   },
   {
    "duration": 316,
    "start_time": "2022-01-30T15:58:56.622Z"
   },
   {
    "duration": 120,
    "start_time": "2022-01-30T15:58:58.416Z"
   },
   {
    "duration": 8,
    "start_time": "2022-01-30T16:02:46.597Z"
   },
   {
    "duration": 8,
    "start_time": "2022-01-30T16:03:09.150Z"
   },
   {
    "duration": 11,
    "start_time": "2022-01-30T16:04:03.709Z"
   },
   {
    "duration": 7,
    "start_time": "2022-01-30T16:04:13.958Z"
   },
   {
    "duration": 11,
    "start_time": "2022-01-30T16:04:14.267Z"
   },
   {
    "duration": 70,
    "start_time": "2022-01-30T16:09:31.881Z"
   },
   {
    "duration": 16,
    "start_time": "2022-01-30T16:10:59.772Z"
   },
   {
    "duration": 9,
    "start_time": "2022-01-30T16:11:29.869Z"
   },
   {
    "duration": 7,
    "start_time": "2022-01-30T16:12:47.598Z"
   },
   {
    "duration": 15,
    "start_time": "2022-01-30T16:12:51.766Z"
   },
   {
    "duration": 16,
    "start_time": "2022-01-30T16:14:38.594Z"
   },
   {
    "duration": 74,
    "start_time": "2022-01-30T16:15:36.100Z"
   },
   {
    "duration": 71,
    "start_time": "2022-01-30T16:16:26.785Z"
   },
   {
    "duration": 3,
    "start_time": "2022-01-30T16:18:13.406Z"
   },
   {
    "duration": 1191,
    "start_time": "2022-01-30T16:25:09.509Z"
   },
   {
    "duration": 86,
    "start_time": "2022-01-30T16:25:10.702Z"
   },
   {
    "duration": 14,
    "start_time": "2022-01-30T16:25:10.791Z"
   },
   {
    "duration": 13,
    "start_time": "2022-01-30T16:25:10.807Z"
   },
   {
    "duration": 9,
    "start_time": "2022-01-30T16:25:10.823Z"
   },
   {
    "duration": 8,
    "start_time": "2022-01-30T16:25:10.834Z"
   },
   {
    "duration": 9,
    "start_time": "2022-01-30T16:25:10.844Z"
   },
   {
    "duration": 7,
    "start_time": "2022-01-30T16:25:10.856Z"
   },
   {
    "duration": 11,
    "start_time": "2022-01-30T16:25:10.900Z"
   },
   {
    "duration": 10,
    "start_time": "2022-01-30T16:25:10.913Z"
   },
   {
    "duration": 4,
    "start_time": "2022-01-30T16:25:10.925Z"
   },
   {
    "duration": 371,
    "start_time": "2022-01-30T16:25:10.931Z"
   },
   {
    "duration": 822,
    "start_time": "2022-01-30T16:25:11.303Z"
   },
   {
    "duration": 806,
    "start_time": "2022-01-30T16:25:12.127Z"
   },
   {
    "duration": 419,
    "start_time": "2022-01-30T16:25:12.934Z"
   },
   {
    "duration": 368,
    "start_time": "2022-01-30T16:25:13.356Z"
   },
   {
    "duration": 453,
    "start_time": "2022-01-30T16:25:13.727Z"
   },
   {
    "duration": 219,
    "start_time": "2022-01-30T16:25:14.181Z"
   },
   {
    "duration": 396,
    "start_time": "2022-01-30T16:25:14.402Z"
   },
   {
    "duration": 4,
    "start_time": "2022-01-30T16:25:14.801Z"
   },
   {
    "duration": 139,
    "start_time": "2022-01-30T16:25:14.807Z"
   },
   {
    "duration": 216,
    "start_time": "2022-01-30T16:25:14.948Z"
   },
   {
    "duration": 345,
    "start_time": "2022-01-30T16:25:15.167Z"
   },
   {
    "duration": 4,
    "start_time": "2022-01-30T16:25:15.514Z"
   },
   {
    "duration": 14,
    "start_time": "2022-01-30T16:25:15.520Z"
   },
   {
    "duration": 335,
    "start_time": "2022-01-30T16:25:15.537Z"
   },
   {
    "duration": 154,
    "start_time": "2022-01-30T16:25:15.874Z"
   },
   {
    "duration": 7,
    "start_time": "2022-01-30T16:25:16.030Z"
   },
   {
    "duration": 15,
    "start_time": "2022-01-30T16:25:16.039Z"
   },
   {
    "duration": 12,
    "start_time": "2022-01-30T16:25:16.056Z"
   },
   {
    "duration": 34,
    "start_time": "2022-01-30T16:25:16.071Z"
   },
   {
    "duration": 11,
    "start_time": "2022-01-30T16:25:16.107Z"
   },
   {
    "duration": 21,
    "start_time": "2022-01-30T16:25:16.120Z"
   },
   {
    "duration": 3,
    "start_time": "2022-01-30T16:25:16.144Z"
   },
   {
    "duration": 126,
    "start_time": "2022-01-31T05:11:27.154Z"
   },
   {
    "duration": 115,
    "start_time": "2022-01-31T05:11:32.235Z"
   },
   {
    "duration": 1494,
    "start_time": "2022-01-31T05:11:45.669Z"
   },
   {
    "duration": 94,
    "start_time": "2022-01-31T05:11:47.166Z"
   },
   {
    "duration": 16,
    "start_time": "2022-01-31T05:11:47.263Z"
   },
   {
    "duration": 10,
    "start_time": "2022-01-31T05:11:47.282Z"
   },
   {
    "duration": 11,
    "start_time": "2022-01-31T05:11:47.294Z"
   },
   {
    "duration": 8,
    "start_time": "2022-01-31T05:11:47.308Z"
   },
   {
    "duration": 10,
    "start_time": "2022-01-31T05:11:47.318Z"
   },
   {
    "duration": 9,
    "start_time": "2022-01-31T05:11:47.370Z"
   },
   {
    "duration": 12,
    "start_time": "2022-01-31T05:11:47.383Z"
   },
   {
    "duration": 11,
    "start_time": "2022-01-31T05:11:47.398Z"
   },
   {
    "duration": 4,
    "start_time": "2022-01-31T05:11:47.412Z"
   },
   {
    "duration": 577,
    "start_time": "2022-01-31T05:11:47.418Z"
   },
   {
    "duration": 1175,
    "start_time": "2022-01-31T05:11:47.997Z"
   },
   {
    "duration": 1126,
    "start_time": "2022-01-31T05:11:49.174Z"
   },
   {
    "duration": 526,
    "start_time": "2022-01-31T05:11:50.303Z"
   },
   {
    "duration": 483,
    "start_time": "2022-01-31T05:11:50.832Z"
   },
   {
    "duration": 592,
    "start_time": "2022-01-31T05:11:51.318Z"
   },
   {
    "duration": 303,
    "start_time": "2022-01-31T05:11:51.912Z"
   },
   {
    "duration": 463,
    "start_time": "2022-01-31T05:11:52.217Z"
   },
   {
    "duration": 6,
    "start_time": "2022-01-31T05:11:52.683Z"
   },
   {
    "duration": 258,
    "start_time": "2022-01-31T05:11:52.692Z"
   },
   {
    "duration": 290,
    "start_time": "2022-01-31T05:11:52.952Z"
   },
   {
    "duration": 401,
    "start_time": "2022-01-31T05:11:53.245Z"
   },
   {
    "duration": 5,
    "start_time": "2022-01-31T05:11:53.649Z"
   },
   {
    "duration": 26,
    "start_time": "2022-01-31T05:11:53.657Z"
   },
   {
    "duration": 485,
    "start_time": "2022-01-31T05:11:53.686Z"
   },
   {
    "duration": 250,
    "start_time": "2022-01-31T05:11:54.175Z"
   },
   {
    "duration": 9,
    "start_time": "2022-01-31T05:11:54.428Z"
   },
   {
    "duration": 37,
    "start_time": "2022-01-31T05:11:54.440Z"
   },
   {
    "duration": 14,
    "start_time": "2022-01-31T05:11:54.479Z"
   },
   {
    "duration": 29,
    "start_time": "2022-01-31T05:11:54.495Z"
   },
   {
    "duration": 26,
    "start_time": "2022-01-31T05:11:54.526Z"
   },
   {
    "duration": 26,
    "start_time": "2022-01-31T05:11:54.554Z"
   },
   {
    "duration": 3,
    "start_time": "2022-01-31T05:11:54.583Z"
   },
   {
    "duration": 111,
    "start_time": "2022-01-31T05:13:44.291Z"
   },
   {
    "duration": 1472,
    "start_time": "2022-01-31T05:23:31.968Z"
   },
   {
    "duration": 73,
    "start_time": "2022-01-31T05:23:33.443Z"
   },
   {
    "duration": 16,
    "start_time": "2022-01-31T05:23:33.519Z"
   },
   {
    "duration": 10,
    "start_time": "2022-01-31T05:23:33.537Z"
   },
   {
    "duration": 12,
    "start_time": "2022-01-31T05:23:33.550Z"
   },
   {
    "duration": 10,
    "start_time": "2022-01-31T05:23:33.564Z"
   },
   {
    "duration": 9,
    "start_time": "2022-01-31T05:23:33.576Z"
   },
   {
    "duration": 8,
    "start_time": "2022-01-31T05:23:33.589Z"
   },
   {
    "duration": 12,
    "start_time": "2022-01-31T05:23:33.600Z"
   },
   {
    "duration": 12,
    "start_time": "2022-01-31T05:23:33.614Z"
   },
   {
    "duration": 40,
    "start_time": "2022-01-31T05:23:33.629Z"
   },
   {
    "duration": 546,
    "start_time": "2022-01-31T05:23:33.672Z"
   },
   {
    "duration": 1205,
    "start_time": "2022-01-31T05:23:34.220Z"
   },
   {
    "duration": 1125,
    "start_time": "2022-01-31T05:23:35.427Z"
   },
   {
    "duration": 552,
    "start_time": "2022-01-31T05:23:36.555Z"
   },
   {
    "duration": 477,
    "start_time": "2022-01-31T05:23:37.109Z"
   },
   {
    "duration": 565,
    "start_time": "2022-01-31T05:23:37.589Z"
   },
   {
    "duration": 317,
    "start_time": "2022-01-31T05:23:38.156Z"
   },
   {
    "duration": 495,
    "start_time": "2022-01-31T05:23:38.476Z"
   },
   {
    "duration": 5,
    "start_time": "2022-01-31T05:23:38.974Z"
   },
   {
    "duration": 264,
    "start_time": "2022-01-31T05:23:38.982Z"
   },
   {
    "duration": 290,
    "start_time": "2022-01-31T05:23:39.248Z"
   },
   {
    "duration": 422,
    "start_time": "2022-01-31T05:23:39.545Z"
   },
   {
    "duration": 6,
    "start_time": "2022-01-31T05:23:39.970Z"
   },
   {
    "duration": 18,
    "start_time": "2022-01-31T05:23:39.978Z"
   },
   {
    "duration": 507,
    "start_time": "2022-01-31T05:23:39.998Z"
   },
   {
    "duration": 227,
    "start_time": "2022-01-31T05:23:40.507Z"
   },
   {
    "duration": 9,
    "start_time": "2022-01-31T05:23:40.737Z"
   },
   {
    "duration": 31,
    "start_time": "2022-01-31T05:23:40.748Z"
   },
   {
    "duration": 14,
    "start_time": "2022-01-31T05:23:40.782Z"
   },
   {
    "duration": 10,
    "start_time": "2022-01-31T05:23:40.798Z"
   },
   {
    "duration": 10,
    "start_time": "2022-01-31T05:23:40.811Z"
   },
   {
    "duration": 65,
    "start_time": "2022-01-31T05:23:40.824Z"
   },
   {
    "duration": 3,
    "start_time": "2022-01-31T05:23:40.891Z"
   },
   {
    "duration": 1030,
    "start_time": "2022-01-31T10:05:03.580Z"
   },
   {
    "duration": 75,
    "start_time": "2022-01-31T10:05:04.611Z"
   },
   {
    "duration": 3,
    "start_time": "2022-01-31T10:05:20.701Z"
   },
   {
    "duration": 407,
    "start_time": "2022-01-31T10:05:25.760Z"
   },
   {
    "duration": 60,
    "start_time": "2022-01-31T10:05:26.436Z"
   },
   {
    "duration": 3,
    "start_time": "2022-01-31T10:05:30.735Z"
   },
   {
    "duration": 60,
    "start_time": "2022-01-31T10:05:31.481Z"
   },
   {
    "duration": 11,
    "start_time": "2022-01-31T10:05:32.550Z"
   },
   {
    "duration": 8,
    "start_time": "2022-01-31T10:05:49.946Z"
   },
   {
    "duration": 6,
    "start_time": "2022-01-31T10:05:50.143Z"
   },
   {
    "duration": 8,
    "start_time": "2022-01-31T10:05:51.801Z"
   },
   {
    "duration": 6,
    "start_time": "2022-01-31T10:05:51.941Z"
   },
   {
    "duration": 6,
    "start_time": "2022-01-31T10:05:53.372Z"
   },
   {
    "duration": 6,
    "start_time": "2022-01-31T10:05:55.054Z"
   },
   {
    "duration": 5,
    "start_time": "2022-01-31T10:11:26.922Z"
   },
   {
    "duration": 8,
    "start_time": "2022-01-31T10:11:32.249Z"
   },
   {
    "duration": 6,
    "start_time": "2022-01-31T10:11:40.538Z"
   },
   {
    "duration": 6,
    "start_time": "2022-01-31T10:11:42.122Z"
   },
   {
    "duration": 7,
    "start_time": "2022-01-31T10:11:54.585Z"
   },
   {
    "duration": 433,
    "start_time": "2022-01-31T10:12:15.650Z"
   },
   {
    "duration": 5,
    "start_time": "2022-01-31T10:12:19.291Z"
   },
   {
    "duration": 6,
    "start_time": "2022-01-31T10:12:36.385Z"
   },
   {
    "duration": 6,
    "start_time": "2022-01-31T10:12:46.080Z"
   },
   {
    "duration": 11,
    "start_time": "2022-01-31T10:13:55.383Z"
   },
   {
    "duration": 8,
    "start_time": "2022-01-31T10:13:58.453Z"
   },
   {
    "duration": 7,
    "start_time": "2022-01-31T10:14:35.123Z"
   },
   {
    "duration": 3,
    "start_time": "2022-01-31T10:14:37.131Z"
   },
   {
    "duration": 298,
    "start_time": "2022-01-31T10:17:44.407Z"
   },
   {
    "duration": 570,
    "start_time": "2022-01-31T10:17:46.113Z"
   },
   {
    "duration": 168,
    "start_time": "2022-01-31T10:18:06.649Z"
   },
   {
    "duration": 174,
    "start_time": "2022-01-31T10:19:44.278Z"
   },
   {
    "duration": 163,
    "start_time": "2022-01-31T10:21:14.675Z"
   },
   {
    "duration": 174,
    "start_time": "2022-01-31T10:21:23.910Z"
   },
   {
    "duration": 302,
    "start_time": "2022-01-31T10:21:42.703Z"
   },
   {
    "duration": 267,
    "start_time": "2022-01-31T10:21:55.497Z"
   },
   {
    "duration": 309,
    "start_time": "2022-01-31T10:22:02.899Z"
   },
   {
    "duration": 317,
    "start_time": "2022-01-31T10:23:11.726Z"
   },
   {
    "duration": 152,
    "start_time": "2022-01-31T10:23:29.982Z"
   },
   {
    "duration": 291,
    "start_time": "2022-01-31T10:23:32.337Z"
   },
   {
    "duration": 254,
    "start_time": "2022-01-31T10:24:16.265Z"
   },
   {
    "duration": 5,
    "start_time": "2022-01-31T10:24:22.805Z"
   },
   {
    "duration": 99,
    "start_time": "2022-01-31T10:24:24.711Z"
   },
   {
    "duration": 143,
    "start_time": "2022-01-31T10:24:27.469Z"
   },
   {
    "duration": 285,
    "start_time": "2022-01-31T10:24:30.503Z"
   },
   {
    "duration": 3,
    "start_time": "2022-01-31T10:24:32.501Z"
   },
   {
    "duration": 9,
    "start_time": "2022-01-31T10:24:34.883Z"
   },
   {
    "duration": 1408,
    "start_time": "2022-01-31T10:24:35.899Z"
   },
   {
    "duration": -72,
    "start_time": "2022-01-31T10:24:37.380Z"
   },
   {
    "duration": 300,
    "start_time": "2022-01-31T10:24:38.270Z"
   },
   {
    "duration": 245,
    "start_time": "2022-01-31T10:24:53.182Z"
   },
   {
    "duration": 140,
    "start_time": "2022-01-31T10:24:54.136Z"
   },
   {
    "duration": 8,
    "start_time": "2022-01-31T10:24:55.143Z"
   },
   {
    "duration": 505,
    "start_time": "2022-01-31T10:26:55.079Z"
   },
   {
    "duration": 282,
    "start_time": "2022-01-31T10:26:58.522Z"
   },
   {
    "duration": 242,
    "start_time": "2022-01-31T10:27:00.567Z"
   },
   {
    "duration": 641,
    "start_time": "2022-01-31T10:27:54.255Z"
   },
   {
    "duration": 4,
    "start_time": "2022-01-31T10:30:24.560Z"
   },
   {
    "duration": 5,
    "start_time": "2022-01-31T10:30:51.516Z"
   },
   {
    "duration": 4,
    "start_time": "2022-01-31T10:31:18.937Z"
   },
   {
    "duration": 4,
    "start_time": "2022-01-31T10:32:46.714Z"
   },
   {
    "duration": 3,
    "start_time": "2022-01-31T10:32:46.868Z"
   },
   {
    "duration": 3,
    "start_time": "2022-01-31T10:33:06.672Z"
   },
   {
    "duration": 4,
    "start_time": "2022-01-31T10:33:06.856Z"
   },
   {
    "duration": 292,
    "start_time": "2022-01-31T10:33:07.551Z"
   },
   {
    "duration": 137,
    "start_time": "2022-01-31T10:33:07.961Z"
   },
   {
    "duration": 256,
    "start_time": "2022-01-31T10:33:08.131Z"
   },
   {
    "duration": 1058,
    "start_time": "2022-01-31T10:33:31.550Z"
   },
   {
    "duration": 109,
    "start_time": "2022-01-31T10:33:32.988Z"
   },
   {
    "duration": 12,
    "start_time": "2022-01-31T10:33:33.853Z"
   },
   {
    "duration": 6,
    "start_time": "2022-01-31T10:33:34.031Z"
   },
   {
    "duration": 5,
    "start_time": "2022-01-31T10:33:34.621Z"
   },
   {
    "duration": 6,
    "start_time": "2022-01-31T10:33:35.232Z"
   },
   {
    "duration": 6,
    "start_time": "2022-01-31T10:33:35.792Z"
   },
   {
    "duration": 9,
    "start_time": "2022-01-31T10:33:35.956Z"
   },
   {
    "duration": 6,
    "start_time": "2022-01-31T10:33:36.136Z"
   },
   {
    "duration": 6,
    "start_time": "2022-01-31T10:33:36.493Z"
   },
   {
    "duration": 5,
    "start_time": "2022-01-31T10:33:36.664Z"
   },
   {
    "duration": 7,
    "start_time": "2022-01-31T10:33:36.843Z"
   },
   {
    "duration": 5,
    "start_time": "2022-01-31T10:33:37.028Z"
   },
   {
    "duration": 11,
    "start_time": "2022-01-31T10:33:38.548Z"
   },
   {
    "duration": 8,
    "start_time": "2022-01-31T10:33:38.947Z"
   },
   {
    "duration": 2,
    "start_time": "2022-01-31T10:33:39.136Z"
   },
   {
    "duration": 295,
    "start_time": "2022-01-31T10:33:41.621Z"
   },
   {
    "duration": 177,
    "start_time": "2022-01-31T10:33:42.169Z"
   },
   {
    "duration": 166,
    "start_time": "2022-01-31T10:33:44.630Z"
   },
   {
    "duration": 270,
    "start_time": "2022-01-31T10:33:45.331Z"
   },
   {
    "duration": 182,
    "start_time": "2022-01-31T10:33:46.187Z"
   },
   {
    "duration": 326,
    "start_time": "2022-01-31T10:33:47.915Z"
   },
   {
    "duration": 147,
    "start_time": "2022-01-31T10:33:50.784Z"
   },
   {
    "duration": 314,
    "start_time": "2022-01-31T10:33:51.299Z"
   },
   {
    "duration": 223,
    "start_time": "2022-01-31T10:33:51.679Z"
   },
   {
    "duration": 5,
    "start_time": "2022-01-31T10:33:57.286Z"
   },
   {
    "duration": 4,
    "start_time": "2022-01-31T10:33:57.650Z"
   },
   {
    "duration": 135,
    "start_time": "2022-01-31T10:33:58.206Z"
   },
   {
    "duration": 142,
    "start_time": "2022-01-31T10:33:58.393Z"
   },
   {
    "duration": 207,
    "start_time": "2022-01-31T10:33:58.987Z"
   },
   {
    "duration": 4,
    "start_time": "2022-01-31T10:33:59.374Z"
   },
   {
    "duration": 3,
    "start_time": "2022-01-31T10:33:59.919Z"
   },
   {
    "duration": 11,
    "start_time": "2022-01-31T10:34:01.148Z"
   },
   {
    "duration": 250,
    "start_time": "2022-01-31T10:34:01.570Z"
   },
   {
    "duration": 98,
    "start_time": "2022-01-31T10:34:02.345Z"
   },
   {
    "duration": 8,
    "start_time": "2022-01-31T10:34:02.887Z"
   },
   {
    "duration": 9,
    "start_time": "2022-01-31T10:34:05.132Z"
   },
   {
    "duration": 9,
    "start_time": "2022-01-31T10:34:07.328Z"
   },
   {
    "duration": 8,
    "start_time": "2022-01-31T10:34:08.403Z"
   },
   {
    "duration": 9,
    "start_time": "2022-01-31T10:34:09.146Z"
   },
   {
    "duration": 12,
    "start_time": "2022-01-31T10:34:16.782Z"
   },
   {
    "duration": 6,
    "start_time": "2022-01-31T10:39:00.726Z"
   },
   {
    "duration": 9,
    "start_time": "2022-01-31T10:40:09.404Z"
   },
   {
    "duration": 14,
    "start_time": "2022-01-31T10:41:04.327Z"
   },
   {
    "duration": 1177,
    "start_time": "2022-01-31T10:43:02.540Z"
   },
   {
    "duration": 110,
    "start_time": "2022-01-31T10:43:03.719Z"
   },
   {
    "duration": 11,
    "start_time": "2022-01-31T10:43:03.831Z"
   },
   {
    "duration": 9,
    "start_time": "2022-01-31T10:43:03.844Z"
   },
   {
    "duration": 9,
    "start_time": "2022-01-31T10:43:03.855Z"
   },
   {
    "duration": 11,
    "start_time": "2022-01-31T10:43:03.866Z"
   },
   {
    "duration": 16,
    "start_time": "2022-01-31T10:43:03.878Z"
   },
   {
    "duration": 8,
    "start_time": "2022-01-31T10:43:03.897Z"
   },
   {
    "duration": 5,
    "start_time": "2022-01-31T10:43:03.907Z"
   },
   {
    "duration": 19,
    "start_time": "2022-01-31T10:43:03.914Z"
   },
   {
    "duration": 7,
    "start_time": "2022-01-31T10:43:03.935Z"
   },
   {
    "duration": 8,
    "start_time": "2022-01-31T10:43:03.943Z"
   },
   {
    "duration": 6,
    "start_time": "2022-01-31T10:43:03.952Z"
   },
   {
    "duration": 21,
    "start_time": "2022-01-31T10:43:03.960Z"
   },
   {
    "duration": 7,
    "start_time": "2022-01-31T10:43:03.982Z"
   },
   {
    "duration": 4,
    "start_time": "2022-01-31T10:43:03.991Z"
   },
   {
    "duration": 331,
    "start_time": "2022-01-31T10:43:03.996Z"
   },
   {
    "duration": 183,
    "start_time": "2022-01-31T10:43:04.329Z"
   },
   {
    "duration": 174,
    "start_time": "2022-01-31T10:43:04.514Z"
   },
   {
    "duration": 314,
    "start_time": "2022-01-31T10:43:04.689Z"
   },
   {
    "duration": 185,
    "start_time": "2022-01-31T10:43:05.004Z"
   },
   {
    "duration": 306,
    "start_time": "2022-01-31T10:43:05.191Z"
   },
   {
    "duration": 158,
    "start_time": "2022-01-31T10:43:05.500Z"
   },
   {
    "duration": 332,
    "start_time": "2022-01-31T10:43:05.661Z"
   },
   {
    "duration": 266,
    "start_time": "2022-01-31T10:43:05.995Z"
   },
   {
    "duration": 4,
    "start_time": "2022-01-31T10:43:06.263Z"
   },
   {
    "duration": 6,
    "start_time": "2022-01-31T10:43:06.269Z"
   },
   {
    "duration": 109,
    "start_time": "2022-01-31T10:43:06.276Z"
   },
   {
    "duration": 147,
    "start_time": "2022-01-31T10:43:06.387Z"
   },
   {
    "duration": 279,
    "start_time": "2022-01-31T10:43:06.535Z"
   },
   {
    "duration": 4,
    "start_time": "2022-01-31T10:43:06.815Z"
   },
   {
    "duration": 3,
    "start_time": "2022-01-31T10:43:06.827Z"
   },
   {
    "duration": 13,
    "start_time": "2022-01-31T10:43:06.832Z"
   },
   {
    "duration": 254,
    "start_time": "2022-01-31T10:43:06.846Z"
   },
   {
    "duration": 109,
    "start_time": "2022-01-31T10:43:07.101Z"
   },
   {
    "duration": 16,
    "start_time": "2022-01-31T10:43:07.212Z"
   },
   {
    "duration": 9,
    "start_time": "2022-01-31T10:43:07.229Z"
   },
   {
    "duration": 7,
    "start_time": "2022-01-31T10:43:07.240Z"
   },
   {
    "duration": 6,
    "start_time": "2022-01-31T10:43:07.249Z"
   },
   {
    "duration": 8,
    "start_time": "2022-01-31T10:43:07.257Z"
   },
   {
    "duration": 11,
    "start_time": "2022-01-31T10:43:07.266Z"
   },
   {
    "duration": 2,
    "start_time": "2022-01-31T10:43:07.279Z"
   },
   {
    "duration": 1457,
    "start_time": "2022-02-15T19:26:59.510Z"
   },
   {
    "duration": 41,
    "start_time": "2022-02-15T19:27:02.057Z"
   },
   {
    "duration": 16,
    "start_time": "2022-02-15T19:27:03.657Z"
   },
   {
    "duration": 10,
    "start_time": "2022-02-15T19:27:03.991Z"
   },
   {
    "duration": 9,
    "start_time": "2022-02-15T19:27:04.280Z"
   },
   {
    "duration": 12,
    "start_time": "2022-02-15T19:27:04.583Z"
   },
   {
    "duration": 10,
    "start_time": "2022-02-15T19:27:04.940Z"
   },
   {
    "duration": 12,
    "start_time": "2022-02-15T19:27:05.148Z"
   },
   {
    "duration": 8,
    "start_time": "2022-02-15T19:27:05.356Z"
   },
   {
    "duration": 9,
    "start_time": "2022-02-15T19:27:05.701Z"
   },
   {
    "duration": 10,
    "start_time": "2022-02-15T19:27:06.044Z"
   },
   {
    "duration": 10,
    "start_time": "2022-02-15T19:27:06.248Z"
   },
   {
    "duration": 8,
    "start_time": "2022-02-15T19:27:06.452Z"
   },
   {
    "duration": 18,
    "start_time": "2022-02-15T19:27:06.961Z"
   },
   {
    "duration": 13,
    "start_time": "2022-02-15T19:27:07.170Z"
   },
   {
    "duration": 4,
    "start_time": "2022-02-15T19:27:07.365Z"
   },
   {
    "duration": 567,
    "start_time": "2022-02-15T19:27:08.724Z"
   },
   {
    "duration": 362,
    "start_time": "2022-02-15T19:27:09.294Z"
   },
   {
    "duration": 309,
    "start_time": "2022-02-15T19:27:10.158Z"
   },
   {
    "duration": 415,
    "start_time": "2022-02-15T19:27:10.576Z"
   },
   {
    "duration": 341,
    "start_time": "2022-02-15T19:27:10.993Z"
   },
   {
    "duration": 412,
    "start_time": "2022-02-15T19:27:11.367Z"
   },
   {
    "duration": 276,
    "start_time": "2022-02-15T19:27:11.985Z"
   },
   {
    "duration": 478,
    "start_time": "2022-02-15T19:27:12.264Z"
   },
   {
    "duration": 422,
    "start_time": "2022-02-15T19:27:12.745Z"
   },
   {
    "duration": 6,
    "start_time": "2022-02-15T19:27:13.231Z"
   },
   {
    "duration": 5,
    "start_time": "2022-02-15T19:27:13.439Z"
   },
   {
    "duration": 201,
    "start_time": "2022-02-15T19:27:13.849Z"
   },
   {
    "duration": 252,
    "start_time": "2022-02-15T19:27:14.080Z"
   },
   {
    "duration": 356,
    "start_time": "2022-02-15T19:27:14.664Z"
   },
   {
    "duration": 6,
    "start_time": "2022-02-15T19:27:15.119Z"
   },
   {
    "duration": 5,
    "start_time": "2022-02-15T19:27:15.320Z"
   },
   {
    "duration": 12,
    "start_time": "2022-02-15T19:27:15.873Z"
   },
   {
    "duration": 456,
    "start_time": "2022-02-15T19:27:16.320Z"
   },
   {
    "duration": 217,
    "start_time": "2022-02-15T19:27:17.002Z"
   },
   {
    "duration": 11,
    "start_time": "2022-02-15T19:27:17.867Z"
   },
   {
    "duration": 6,
    "start_time": "2022-02-15T19:27:25.557Z"
   }
  ],
  "kernelspec": {
   "display_name": "Python 3",
   "language": "python",
   "name": "python3"
  },
  "language_info": {
   "codemirror_mode": {
    "name": "ipython",
    "version": 3
   },
   "file_extension": ".py",
   "mimetype": "text/x-python",
   "name": "python",
   "nbconvert_exporter": "python",
   "pygments_lexer": "ipython3",
   "version": "3.7.4"
  },
  "toc": {
   "base_numbering": 1,
   "nav_menu": {},
   "number_sections": true,
   "sideBar": true,
   "skip_h1_title": true,
   "title_cell": "Table of Contents",
   "title_sidebar": "Contents",
   "toc_cell": false,
   "toc_position": {},
   "toc_section_display": true,
   "toc_window_display": false
  }
 },
 "nbformat": 4,
 "nbformat_minor": 2
}
