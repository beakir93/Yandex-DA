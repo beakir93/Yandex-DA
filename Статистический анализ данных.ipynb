{
 "cells": [
  {
   "cell_type": "code",
   "execution_count": 1,
   "metadata": {},
   "outputs": [],
   "source": [
    "import pandas as pd\n",
    "import math\n",
    "import numpy as np\n",
    "import matplotlib.pyplot as plt\n",
    "import scipy.stats as stat\n",
    "import seaborn as sns\n",
    "\n",
    "pd.set_option(\"display.max_columns\", None)\n",
    "pd.set_option('display.float_format', '{:,.2f}'.format)"
   ]
  },
  {
   "cell_type": "code",
   "execution_count": 2,
   "metadata": {},
   "outputs": [],
   "source": [
    "try:\n",
    "    calls_pd = pd.read_csv('/datasets/calls.csv')\n",
    "    internet_pd = pd.read_csv('/datasets/internet.csv').drop(columns='Unnamed: 0')\n",
    "    messages_pd = pd.read_csv('/datasets/messages.csv')\n",
    "    tariffs_pd = pd.read_csv('/datasets/tariffs.csv')\n",
    "    users_pd = pd.read_csv('/datasets/users.csv')\n",
    "except:\n",
    "    calls_pd = pd.read_csv('./calls.csv')\n",
    "    internet_pd = pd.read_csv('./internet.csv').drop(columns='Unnamed: 0')\n",
    "    messages_pd = pd.read_csv('./messages.csv')\n",
    "    tariffs_pd = pd.read_csv('./tariffs.csv')\n",
    "    users_pd = pd.read_csv('./users.csv')"
   ]
  },
  {
   "cell_type": "markdown",
   "metadata": {},
   "source": [
    "### Предобработка данных"
   ]
  },
  {
   "cell_type": "markdown",
   "metadata": {},
   "source": [
    "#### Общая информация входных данных"
   ]
  },
  {
   "cell_type": "code",
   "execution_count": 3,
   "metadata": {},
   "outputs": [],
   "source": [
    "def df_info(df, n_head=3):  \n",
    "    print('shape: \\n',df.shape, '\\n')\n",
    "    print('info: \\n', df.info(), '\\n')\n",
    "    print('head: \\n', df.head(n_head))"
   ]
  },
  {
   "cell_type": "code",
   "execution_count": 4,
   "metadata": {},
   "outputs": [
    {
     "name": "stdout",
     "output_type": "stream",
     "text": [
      "shape: \n",
      " (202607, 4) \n",
      "\n",
      "<class 'pandas.core.frame.DataFrame'>\n",
      "RangeIndex: 202607 entries, 0 to 202606\n",
      "Data columns (total 4 columns):\n",
      "id           202607 non-null object\n",
      "call_date    202607 non-null object\n",
      "duration     202607 non-null float64\n",
      "user_id      202607 non-null int64\n",
      "dtypes: float64(1), int64(1), object(2)\n",
      "memory usage: 6.2+ MB\n",
      "info: \n",
      " None \n",
      "\n",
      "head: \n",
      "        id   call_date  duration  user_id\n",
      "0  1000_0  2018-07-25      0.00     1000\n",
      "1  1000_1  2018-08-17      0.00     1000\n",
      "2  1000_2  2018-06-11      2.85     1000\n"
     ]
    }
   ],
   "source": [
    "df_info(calls_pd)"
   ]
  },
  {
   "cell_type": "code",
   "execution_count": 5,
   "metadata": {},
   "outputs": [
    {
     "name": "stdout",
     "output_type": "stream",
     "text": [
      "shape: \n",
      " (149396, 4) \n",
      "\n",
      "<class 'pandas.core.frame.DataFrame'>\n",
      "RangeIndex: 149396 entries, 0 to 149395\n",
      "Data columns (total 4 columns):\n",
      "id              149396 non-null object\n",
      "mb_used         149396 non-null float64\n",
      "session_date    149396 non-null object\n",
      "user_id         149396 non-null int64\n",
      "dtypes: float64(1), int64(1), object(2)\n",
      "memory usage: 4.6+ MB\n",
      "info: \n",
      " None \n",
      "\n",
      "head: \n",
      "        id  mb_used session_date  user_id\n",
      "0  1000_0   112.95   2018-11-25     1000\n",
      "1  1000_1 1,052.81   2018-09-07     1000\n",
      "2  1000_2 1,197.26   2018-06-25     1000\n"
     ]
    }
   ],
   "source": [
    "df_info(internet_pd)"
   ]
  },
  {
   "cell_type": "code",
   "execution_count": 6,
   "metadata": {},
   "outputs": [
    {
     "name": "stdout",
     "output_type": "stream",
     "text": [
      "shape: \n",
      " (123036, 3) \n",
      "\n",
      "<class 'pandas.core.frame.DataFrame'>\n",
      "RangeIndex: 123036 entries, 0 to 123035\n",
      "Data columns (total 3 columns):\n",
      "id              123036 non-null object\n",
      "message_date    123036 non-null object\n",
      "user_id         123036 non-null int64\n",
      "dtypes: int64(1), object(2)\n",
      "memory usage: 2.8+ MB\n",
      "info: \n",
      " None \n",
      "\n",
      "head: \n",
      "        id message_date  user_id\n",
      "0  1000_0   2018-06-27     1000\n",
      "1  1000_1   2018-10-08     1000\n",
      "2  1000_2   2018-08-04     1000\n"
     ]
    }
   ],
   "source": [
    "df_info(messages_pd)"
   ]
  },
  {
   "cell_type": "code",
   "execution_count": 7,
   "metadata": {},
   "outputs": [
    {
     "name": "stdout",
     "output_type": "stream",
     "text": [
      "shape: \n",
      " (2, 8) \n",
      "\n",
      "<class 'pandas.core.frame.DataFrame'>\n",
      "RangeIndex: 2 entries, 0 to 1\n",
      "Data columns (total 8 columns):\n",
      "messages_included        2 non-null int64\n",
      "mb_per_month_included    2 non-null int64\n",
      "minutes_included         2 non-null int64\n",
      "rub_monthly_fee          2 non-null int64\n",
      "rub_per_gb               2 non-null int64\n",
      "rub_per_message          2 non-null int64\n",
      "rub_per_minute           2 non-null int64\n",
      "tariff_name              2 non-null object\n",
      "dtypes: int64(7), object(1)\n",
      "memory usage: 256.0+ bytes\n",
      "info: \n",
      " None \n",
      "\n",
      "head: \n",
      "    messages_included  mb_per_month_included  minutes_included  \\\n",
      "0                 50                  15360               500   \n",
      "1               1000                  30720              3000   \n",
      "\n",
      "   rub_monthly_fee  rub_per_gb  rub_per_message  rub_per_minute tariff_name  \n",
      "0              550         200                3               3       smart  \n",
      "1             1950         150                1               1       ultra  \n"
     ]
    }
   ],
   "source": [
    "df_info(tariffs_pd)"
   ]
  },
  {
   "cell_type": "code",
   "execution_count": 8,
   "metadata": {},
   "outputs": [
    {
     "name": "stdout",
     "output_type": "stream",
     "text": [
      "shape: \n",
      " (500, 8) \n",
      "\n",
      "<class 'pandas.core.frame.DataFrame'>\n",
      "RangeIndex: 500 entries, 0 to 499\n",
      "Data columns (total 8 columns):\n",
      "user_id       500 non-null int64\n",
      "age           500 non-null int64\n",
      "churn_date    38 non-null object\n",
      "city          500 non-null object\n",
      "first_name    500 non-null object\n",
      "last_name     500 non-null object\n",
      "reg_date      500 non-null object\n",
      "tariff        500 non-null object\n",
      "dtypes: int64(2), object(6)\n",
      "memory usage: 31.4+ KB\n",
      "info: \n",
      " None \n",
      "\n",
      "head: \n",
      "    user_id  age churn_date         city first_name  last_name    reg_date  \\\n",
      "0     1000   52        NaN    Краснодар     Рафаил  Верещагин  2018-05-25   \n",
      "1     1001   41        NaN       Москва       Иван       Ежов  2018-11-01   \n",
      "2     1002   59        NaN  Стерлитамак    Евгений  Абрамович  2018-06-17   \n",
      "\n",
      "  tariff  \n",
      "0  ultra  \n",
      "1  smart  \n",
      "2  smart  \n"
     ]
    }
   ],
   "source": [
    "df_info(users_pd)"
   ]
  },
  {
   "cell_type": "markdown",
   "metadata": {},
   "source": [
    "#### Замена типов данных"
   ]
  },
  {
   "cell_type": "code",
   "execution_count": 9,
   "metadata": {},
   "outputs": [],
   "source": [
    "calls_pd['call_date'] = pd.to_datetime(calls_pd['call_date'], format='%Y-%m-%d')"
   ]
  },
  {
   "cell_type": "code",
   "execution_count": 10,
   "metadata": {},
   "outputs": [],
   "source": [
    "internet_pd['session_date'] = pd.to_datetime(internet_pd['session_date'], format='%Y-%m-%d')"
   ]
  },
  {
   "cell_type": "code",
   "execution_count": 11,
   "metadata": {},
   "outputs": [],
   "source": [
    "messages_pd['message_date'] = pd.to_datetime(messages_pd['message_date'], format='%Y-%m-%d')"
   ]
  },
  {
   "cell_type": "code",
   "execution_count": 12,
   "metadata": {},
   "outputs": [],
   "source": [
    "users_pd['churn_date'] = pd.to_datetime(users_pd['churn_date'], format='%Y-%m-%d')\n",
    "users_pd['reg_date'] = pd.to_datetime(users_pd['reg_date'], format='%Y-%m-%d')"
   ]
  },
  {
   "cell_type": "markdown",
   "metadata": {},
   "source": [
    "##### Вывод\n",
    "заменили тип со значением даты с object на datetime\n",
    "остальные колонки датафреймов имеют корректные типы"
   ]
  },
  {
   "cell_type": "markdown",
   "metadata": {},
   "source": [
    "#### Заполнение пропусков"
   ]
  },
  {
   "cell_type": "code",
   "execution_count": 13,
   "metadata": {},
   "outputs": [
    {
     "data": {
      "text/plain": [
       "id           0\n",
       "call_date    0\n",
       "duration     0\n",
       "user_id      0\n",
       "dtype: int64"
      ]
     },
     "execution_count": 13,
     "metadata": {},
     "output_type": "execute_result"
    }
   ],
   "source": [
    "calls_pd.isna().sum()"
   ]
  },
  {
   "cell_type": "code",
   "execution_count": 14,
   "metadata": {},
   "outputs": [
    {
     "data": {
      "text/plain": [
       "id              0\n",
       "mb_used         0\n",
       "session_date    0\n",
       "user_id         0\n",
       "dtype: int64"
      ]
     },
     "execution_count": 14,
     "metadata": {},
     "output_type": "execute_result"
    }
   ],
   "source": [
    "internet_pd.isna().sum()"
   ]
  },
  {
   "cell_type": "code",
   "execution_count": 15,
   "metadata": {},
   "outputs": [
    {
     "data": {
      "text/plain": [
       "id              0\n",
       "message_date    0\n",
       "user_id         0\n",
       "dtype: int64"
      ]
     },
     "execution_count": 15,
     "metadata": {},
     "output_type": "execute_result"
    }
   ],
   "source": [
    "messages_pd.isna().sum()"
   ]
  },
  {
   "cell_type": "code",
   "execution_count": 16,
   "metadata": {},
   "outputs": [
    {
     "data": {
      "text/plain": [
       "messages_included        0\n",
       "mb_per_month_included    0\n",
       "minutes_included         0\n",
       "rub_monthly_fee          0\n",
       "rub_per_gb               0\n",
       "rub_per_message          0\n",
       "rub_per_minute           0\n",
       "tariff_name              0\n",
       "dtype: int64"
      ]
     },
     "execution_count": 16,
     "metadata": {},
     "output_type": "execute_result"
    }
   ],
   "source": [
    "tariffs_pd.isna().sum()"
   ]
  },
  {
   "cell_type": "code",
   "execution_count": 17,
   "metadata": {},
   "outputs": [
    {
     "data": {
      "text/plain": [
       "user_id         0\n",
       "age             0\n",
       "churn_date    462\n",
       "city            0\n",
       "first_name      0\n",
       "last_name       0\n",
       "reg_date        0\n",
       "tariff          0\n",
       "dtype: int64"
      ]
     },
     "execution_count": 17,
     "metadata": {},
     "output_type": "execute_result"
    }
   ],
   "source": [
    "users_pd.isna().sum()"
   ]
  },
  {
   "cell_type": "markdown",
   "metadata": {},
   "source": [
    "##### Вывод\n",
    "Пропусков не обнаружено, пустоты в churn_date означают действие тарифа на текущий момент времени"
   ]
  },
  {
   "cell_type": "markdown",
   "metadata": {},
   "source": [
    "#### Распределения входных данных"
   ]
  },
  {
   "cell_type": "code",
   "execution_count": 18,
   "metadata": {},
   "outputs": [
    {
     "data": {
      "text/plain": [
       "count   202,607.00\n",
       "mean          6.76\n",
       "std           5.84\n",
       "min           0.00\n",
       "25%           1.30\n",
       "50%           6.00\n",
       "75%          10.70\n",
       "max          38.00\n",
       "Name: duration, dtype: float64"
      ]
     },
     "execution_count": 18,
     "metadata": {},
     "output_type": "execute_result"
    }
   ],
   "source": [
    "calls_pd.duration.describe()"
   ]
  },
  {
   "cell_type": "code",
   "execution_count": 19,
   "metadata": {},
   "outputs": [
    {
     "data": {
      "text/plain": [
       "count   149,396.00\n",
       "mean        370.19\n",
       "std         278.30\n",
       "min           0.00\n",
       "25%         138.19\n",
       "50%         348.01\n",
       "75%         559.55\n",
       "max       1,724.83\n",
       "Name: mb_used, dtype: float64"
      ]
     },
     "execution_count": 19,
     "metadata": {},
     "output_type": "execute_result"
    }
   ],
   "source": [
    "internet_pd.mb_used.describe()"
   ]
  },
  {
   "cell_type": "code",
   "execution_count": 20,
   "metadata": {},
   "outputs": [
    {
     "data": {
      "text/plain": [
       "count   500.00\n",
       "mean     46.59\n",
       "std      16.67\n",
       "min      18.00\n",
       "25%      32.00\n",
       "50%      46.00\n",
       "75%      62.00\n",
       "max      75.00\n",
       "Name: age, dtype: float64"
      ]
     },
     "execution_count": 20,
     "metadata": {},
     "output_type": "execute_result"
    }
   ],
   "source": [
    "users_pd.age.describe()"
   ]
  },
  {
   "cell_type": "markdown",
   "metadata": {},
   "source": [
    "##### Вывод \n",
    "- в среднем, клиенты расходуют по 6 минут за звонок, 348mb траффика.\n",
    "- средний профиль нашего клиента - 46 лет, самому взрослому - 75 лет, молодому - 18, что объяснимо правилами оказания услуг связи"
   ]
  },
  {
   "cell_type": "markdown",
   "metadata": {},
   "source": [
    "#### Базовые метрики по клиентам"
   ]
  },
  {
   "cell_type": "code",
   "execution_count": 21,
   "metadata": {},
   "outputs": [
    {
     "data": {
      "text/html": [
       "<div>\n",
       "<style scoped>\n",
       "    .dataframe tbody tr th:only-of-type {\n",
       "        vertical-align: middle;\n",
       "    }\n",
       "\n",
       "    .dataframe tbody tr th {\n",
       "        vertical-align: top;\n",
       "    }\n",
       "\n",
       "    .dataframe thead th {\n",
       "        text-align: right;\n",
       "    }\n",
       "</style>\n",
       "<table border=\"1\" class=\"dataframe\">\n",
       "  <thead>\n",
       "    <tr style=\"text-align: right;\">\n",
       "      <th></th>\n",
       "      <th>id</th>\n",
       "      <th>call_date</th>\n",
       "      <th>duration</th>\n",
       "      <th>user_id</th>\n",
       "      <th>yearmonth</th>\n",
       "    </tr>\n",
       "  </thead>\n",
       "  <tbody>\n",
       "    <tr>\n",
       "      <td>0</td>\n",
       "      <td>1000_0</td>\n",
       "      <td>2018-07-25</td>\n",
       "      <td>0.00</td>\n",
       "      <td>1000</td>\n",
       "      <td>201807</td>\n",
       "    </tr>\n",
       "  </tbody>\n",
       "</table>\n",
       "</div>"
      ],
      "text/plain": [
       "       id  call_date  duration  user_id  yearmonth\n",
       "0  1000_0 2018-07-25      0.00     1000     201807"
      ]
     },
     "execution_count": 21,
     "metadata": {},
     "output_type": "execute_result"
    }
   ],
   "source": [
    "# формируем новое поле - годмесяц\n",
    "calls_pd['yearmonth'] = pd.DatetimeIndex(calls_pd['call_date']).year * 100 + pd.DatetimeIndex(calls_pd['call_date']).month\n",
    "messages_pd['yearmonth'] = pd.DatetimeIndex(messages_pd['message_date']).year * 100 + pd.DatetimeIndex(messages_pd['message_date']).month\n",
    "internet_pd['yearmonth'] = pd.DatetimeIndex(internet_pd['session_date']).year * 100 + pd.DatetimeIndex(internet_pd['session_date']).month\n",
    "\n",
    "calls_pd.head(1)"
   ]
  },
  {
   "cell_type": "code",
   "execution_count": 22,
   "metadata": {},
   "outputs": [
    {
     "data": {
      "text/html": [
       "<div>\n",
       "<style scoped>\n",
       "    .dataframe tbody tr th:only-of-type {\n",
       "        vertical-align: middle;\n",
       "    }\n",
       "\n",
       "    .dataframe tbody tr th {\n",
       "        vertical-align: top;\n",
       "    }\n",
       "\n",
       "    .dataframe thead th {\n",
       "        text-align: right;\n",
       "    }\n",
       "</style>\n",
       "<table border=\"1\" class=\"dataframe\">\n",
       "  <thead>\n",
       "    <tr style=\"text-align: right;\">\n",
       "      <th></th>\n",
       "      <th>id</th>\n",
       "      <th>call_date</th>\n",
       "      <th>duration</th>\n",
       "      <th>user_id</th>\n",
       "      <th>yearmonth</th>\n",
       "      <th>duration_ceil</th>\n",
       "    </tr>\n",
       "  </thead>\n",
       "  <tbody>\n",
       "    <tr>\n",
       "      <td>0</td>\n",
       "      <td>1000_0</td>\n",
       "      <td>2018-07-25</td>\n",
       "      <td>0.00</td>\n",
       "      <td>1000</td>\n",
       "      <td>201807</td>\n",
       "      <td>0</td>\n",
       "    </tr>\n",
       "  </tbody>\n",
       "</table>\n",
       "</div>"
      ],
      "text/plain": [
       "       id  call_date  duration  user_id  yearmonth  duration_ceil\n",
       "0  1000_0 2018-07-25      0.00     1000     201807              0"
      ]
     },
     "execution_count": 22,
     "metadata": {},
     "output_type": "execute_result"
    }
   ],
   "source": [
    "# т.к. оператор округляет все звонки до минут, формируем новое поле\n",
    "calls_pd['duration_ceil'] = calls_pd['duration'].apply(math.ceil)\n",
    "calls_pd.head(1)"
   ]
  },
  {
   "cell_type": "code",
   "execution_count": 23,
   "metadata": {},
   "outputs": [
    {
     "name": "stderr",
     "output_type": "stream",
     "text": [
      "/Users/mandarinka/opt/anaconda3/lib/python3.7/site-packages/ipykernel_launcher.py:1: FutureWarning: using a dict on a Series for aggregation\n",
      "is deprecated and will be removed in a future version. Use                 named aggregation instead.\n",
      "\n",
      "    >>> grouper.agg(name_1=func_1, name_2=func_2)\n",
      "\n",
      "  \"\"\"Entry point for launching an IPython kernel.\n"
     ]
    },
    {
     "data": {
      "text/html": [
       "<div>\n",
       "<style scoped>\n",
       "    .dataframe tbody tr th:only-of-type {\n",
       "        vertical-align: middle;\n",
       "    }\n",
       "\n",
       "    .dataframe tbody tr th {\n",
       "        vertical-align: top;\n",
       "    }\n",
       "\n",
       "    .dataframe thead th {\n",
       "        text-align: right;\n",
       "    }\n",
       "</style>\n",
       "<table border=\"1\" class=\"dataframe\">\n",
       "  <thead>\n",
       "    <tr style=\"text-align: right;\">\n",
       "      <th></th>\n",
       "      <th>user_id</th>\n",
       "      <th>yearmonth</th>\n",
       "      <th>cnt_call</th>\n",
       "      <th>sum_call</th>\n",
       "    </tr>\n",
       "  </thead>\n",
       "  <tbody>\n",
       "    <tr>\n",
       "      <td>0</td>\n",
       "      <td>1000</td>\n",
       "      <td>201805</td>\n",
       "      <td>22</td>\n",
       "      <td>159</td>\n",
       "    </tr>\n",
       "  </tbody>\n",
       "</table>\n",
       "</div>"
      ],
      "text/plain": [
       "   user_id  yearmonth  cnt_call  sum_call\n",
       "0     1000     201805        22       159"
      ]
     },
     "execution_count": 23,
     "metadata": {},
     "output_type": "execute_result"
    }
   ],
   "source": [
    "calls_user_agg = calls_pd.groupby([\"user_id\", \"yearmonth\"])['duration_ceil'].agg({'cnt_call':'count', 'sum_call':'sum'})\n",
    "calls_user_agg = calls_user_agg.reset_index()\n",
    "calls_user_agg.head(1)"
   ]
  },
  {
   "cell_type": "code",
   "execution_count": 24,
   "metadata": {},
   "outputs": [
    {
     "name": "stderr",
     "output_type": "stream",
     "text": [
      "/Users/mandarinka/opt/anaconda3/lib/python3.7/site-packages/ipykernel_launcher.py:1: FutureWarning: using a dict on a Series for aggregation\n",
      "is deprecated and will be removed in a future version. Use                 named aggregation instead.\n",
      "\n",
      "    >>> grouper.agg(name_1=func_1, name_2=func_2)\n",
      "\n",
      "  \"\"\"Entry point for launching an IPython kernel.\n"
     ]
    },
    {
     "data": {
      "text/html": [
       "<div>\n",
       "<style scoped>\n",
       "    .dataframe tbody tr th:only-of-type {\n",
       "        vertical-align: middle;\n",
       "    }\n",
       "\n",
       "    .dataframe tbody tr th {\n",
       "        vertical-align: top;\n",
       "    }\n",
       "\n",
       "    .dataframe thead th {\n",
       "        text-align: right;\n",
       "    }\n",
       "</style>\n",
       "<table border=\"1\" class=\"dataframe\">\n",
       "  <thead>\n",
       "    <tr style=\"text-align: right;\">\n",
       "      <th></th>\n",
       "      <th></th>\n",
       "      <th>cnt_mes</th>\n",
       "    </tr>\n",
       "    <tr>\n",
       "      <th>user_id</th>\n",
       "      <th>yearmonth</th>\n",
       "      <th></th>\n",
       "    </tr>\n",
       "  </thead>\n",
       "  <tbody>\n",
       "    <tr>\n",
       "      <td>1000</td>\n",
       "      <td>201805</td>\n",
       "      <td>22</td>\n",
       "    </tr>\n",
       "  </tbody>\n",
       "</table>\n",
       "</div>"
      ],
      "text/plain": [
       "                   cnt_mes\n",
       "user_id yearmonth         \n",
       "1000    201805          22"
      ]
     },
     "execution_count": 24,
     "metadata": {},
     "output_type": "execute_result"
    }
   ],
   "source": [
    "messages_user_agg = messages_pd.groupby([\"user_id\", \"yearmonth\"])['id'].agg({'cnt_mes':'count'})\n",
    "messages_user_agg.head(1)"
   ]
  },
  {
   "cell_type": "code",
   "execution_count": 25,
   "metadata": {},
   "outputs": [
    {
     "name": "stderr",
     "output_type": "stream",
     "text": [
      "/Users/mandarinka/opt/anaconda3/lib/python3.7/site-packages/ipykernel_launcher.py:1: FutureWarning: using a dict on a Series for aggregation\n",
      "is deprecated and will be removed in a future version. Use                 named aggregation instead.\n",
      "\n",
      "    >>> grouper.agg(name_1=func_1, name_2=func_2)\n",
      "\n",
      "  \"\"\"Entry point for launching an IPython kernel.\n"
     ]
    },
    {
     "data": {
      "text/html": [
       "<div>\n",
       "<style scoped>\n",
       "    .dataframe tbody tr th:only-of-type {\n",
       "        vertical-align: middle;\n",
       "    }\n",
       "\n",
       "    .dataframe tbody tr th {\n",
       "        vertical-align: top;\n",
       "    }\n",
       "\n",
       "    .dataframe thead th {\n",
       "        text-align: right;\n",
       "    }\n",
       "</style>\n",
       "<table border=\"1\" class=\"dataframe\">\n",
       "  <thead>\n",
       "    <tr style=\"text-align: right;\">\n",
       "      <th></th>\n",
       "      <th></th>\n",
       "      <th>sum_mb</th>\n",
       "    </tr>\n",
       "    <tr>\n",
       "      <th>user_id</th>\n",
       "      <th>yearmonth</th>\n",
       "      <th></th>\n",
       "    </tr>\n",
       "  </thead>\n",
       "  <tbody>\n",
       "    <tr>\n",
       "      <td>1000</td>\n",
       "      <td>201805</td>\n",
       "      <td>2,253.49</td>\n",
       "    </tr>\n",
       "  </tbody>\n",
       "</table>\n",
       "</div>"
      ],
      "text/plain": [
       "                    sum_mb\n",
       "user_id yearmonth         \n",
       "1000    201805    2,253.49"
      ]
     },
     "execution_count": 25,
     "metadata": {},
     "output_type": "execute_result"
    }
   ],
   "source": [
    "internet_user_agg = internet_pd.groupby([\"user_id\", \"yearmonth\"])['mb_used'].agg({'sum_mb':'sum'})\n",
    "internet_user_agg.head(1)"
   ]
  },
  {
   "cell_type": "code",
   "execution_count": 26,
   "metadata": {},
   "outputs": [
    {
     "data": {
      "text/html": [
       "<div>\n",
       "<style scoped>\n",
       "    .dataframe tbody tr th:only-of-type {\n",
       "        vertical-align: middle;\n",
       "    }\n",
       "\n",
       "    .dataframe tbody tr th {\n",
       "        vertical-align: top;\n",
       "    }\n",
       "\n",
       "    .dataframe thead th {\n",
       "        text-align: right;\n",
       "    }\n",
       "</style>\n",
       "<table border=\"1\" class=\"dataframe\">\n",
       "  <thead>\n",
       "    <tr style=\"text-align: right;\">\n",
       "      <th></th>\n",
       "      <th>user_id</th>\n",
       "      <th>age</th>\n",
       "      <th>churn_date</th>\n",
       "      <th>city</th>\n",
       "      <th>first_name</th>\n",
       "      <th>last_name</th>\n",
       "      <th>reg_date</th>\n",
       "      <th>tariff</th>\n",
       "      <th>yearmonth</th>\n",
       "      <th>cnt_call</th>\n",
       "      <th>sum_call</th>\n",
       "    </tr>\n",
       "  </thead>\n",
       "  <tbody>\n",
       "    <tr>\n",
       "      <td>0</td>\n",
       "      <td>1000</td>\n",
       "      <td>52</td>\n",
       "      <td>NaT</td>\n",
       "      <td>Краснодар</td>\n",
       "      <td>Рафаил</td>\n",
       "      <td>Верещагин</td>\n",
       "      <td>2018-05-25</td>\n",
       "      <td>ultra</td>\n",
       "      <td>201,805.00</td>\n",
       "      <td>22.00</td>\n",
       "      <td>159.00</td>\n",
       "    </tr>\n",
       "  </tbody>\n",
       "</table>\n",
       "</div>"
      ],
      "text/plain": [
       "   user_id  age churn_date       city first_name  last_name   reg_date tariff  \\\n",
       "0     1000   52        NaT  Краснодар     Рафаил  Верещагин 2018-05-25  ultra   \n",
       "\n",
       "   yearmonth  cnt_call  sum_call  \n",
       "0 201,805.00     22.00    159.00  "
      ]
     },
     "execution_count": 26,
     "metadata": {},
     "output_type": "execute_result"
    }
   ],
   "source": [
    "users_call = users_pd.merge(calls_user_agg, on='user_id', how='left')\n",
    "users_call.head(1)"
   ]
  },
  {
   "cell_type": "code",
   "execution_count": 27,
   "metadata": {},
   "outputs": [
    {
     "data": {
      "text/html": [
       "<div>\n",
       "<style scoped>\n",
       "    .dataframe tbody tr th:only-of-type {\n",
       "        vertical-align: middle;\n",
       "    }\n",
       "\n",
       "    .dataframe tbody tr th {\n",
       "        vertical-align: top;\n",
       "    }\n",
       "\n",
       "    .dataframe thead th {\n",
       "        text-align: right;\n",
       "    }\n",
       "</style>\n",
       "<table border=\"1\" class=\"dataframe\">\n",
       "  <thead>\n",
       "    <tr style=\"text-align: right;\">\n",
       "      <th></th>\n",
       "      <th>user_id</th>\n",
       "      <th>age</th>\n",
       "      <th>churn_date</th>\n",
       "      <th>city</th>\n",
       "      <th>first_name</th>\n",
       "      <th>last_name</th>\n",
       "      <th>reg_date</th>\n",
       "      <th>tariff</th>\n",
       "      <th>yearmonth</th>\n",
       "      <th>cnt_call</th>\n",
       "      <th>sum_call</th>\n",
       "      <th>cnt_mes</th>\n",
       "      <th>sum_mb</th>\n",
       "      <th>messages_included</th>\n",
       "      <th>mb_per_month_included</th>\n",
       "      <th>minutes_included</th>\n",
       "      <th>rub_monthly_fee</th>\n",
       "      <th>rub_per_gb</th>\n",
       "      <th>rub_per_message</th>\n",
       "      <th>rub_per_minute</th>\n",
       "      <th>tariff_name</th>\n",
       "    </tr>\n",
       "  </thead>\n",
       "  <tbody>\n",
       "    <tr>\n",
       "      <td>0</td>\n",
       "      <td>1000</td>\n",
       "      <td>52</td>\n",
       "      <td>NaT</td>\n",
       "      <td>Краснодар</td>\n",
       "      <td>Рафаил</td>\n",
       "      <td>Верещагин</td>\n",
       "      <td>2018-05-25</td>\n",
       "      <td>ultra</td>\n",
       "      <td>201,805.00</td>\n",
       "      <td>22.00</td>\n",
       "      <td>159.00</td>\n",
       "      <td>22.00</td>\n",
       "      <td>2,253.49</td>\n",
       "      <td>1000</td>\n",
       "      <td>30720</td>\n",
       "      <td>3000</td>\n",
       "      <td>1950</td>\n",
       "      <td>150</td>\n",
       "      <td>1</td>\n",
       "      <td>1</td>\n",
       "      <td>ultra</td>\n",
       "    </tr>\n",
       "    <tr>\n",
       "      <td>1</td>\n",
       "      <td>1000</td>\n",
       "      <td>52</td>\n",
       "      <td>NaT</td>\n",
       "      <td>Краснодар</td>\n",
       "      <td>Рафаил</td>\n",
       "      <td>Верещагин</td>\n",
       "      <td>2018-05-25</td>\n",
       "      <td>ultra</td>\n",
       "      <td>201,806.00</td>\n",
       "      <td>43.00</td>\n",
       "      <td>172.00</td>\n",
       "      <td>60.00</td>\n",
       "      <td>23,233.77</td>\n",
       "      <td>1000</td>\n",
       "      <td>30720</td>\n",
       "      <td>3000</td>\n",
       "      <td>1950</td>\n",
       "      <td>150</td>\n",
       "      <td>1</td>\n",
       "      <td>1</td>\n",
       "      <td>ultra</td>\n",
       "    </tr>\n",
       "    <tr>\n",
       "      <td>2</td>\n",
       "      <td>1000</td>\n",
       "      <td>52</td>\n",
       "      <td>NaT</td>\n",
       "      <td>Краснодар</td>\n",
       "      <td>Рафаил</td>\n",
       "      <td>Верещагин</td>\n",
       "      <td>2018-05-25</td>\n",
       "      <td>ultra</td>\n",
       "      <td>201,807.00</td>\n",
       "      <td>47.00</td>\n",
       "      <td>340.00</td>\n",
       "      <td>75.00</td>\n",
       "      <td>14,003.64</td>\n",
       "      <td>1000</td>\n",
       "      <td>30720</td>\n",
       "      <td>3000</td>\n",
       "      <td>1950</td>\n",
       "      <td>150</td>\n",
       "      <td>1</td>\n",
       "      <td>1</td>\n",
       "      <td>ultra</td>\n",
       "    </tr>\n",
       "  </tbody>\n",
       "</table>\n",
       "</div>"
      ],
      "text/plain": [
       "   user_id  age churn_date       city first_name  last_name   reg_date tariff  \\\n",
       "0     1000   52        NaT  Краснодар     Рафаил  Верещагин 2018-05-25  ultra   \n",
       "1     1000   52        NaT  Краснодар     Рафаил  Верещагин 2018-05-25  ultra   \n",
       "2     1000   52        NaT  Краснодар     Рафаил  Верещагин 2018-05-25  ultra   \n",
       "\n",
       "   yearmonth  cnt_call  sum_call  cnt_mes    sum_mb  messages_included  \\\n",
       "0 201,805.00     22.00    159.00    22.00  2,253.49               1000   \n",
       "1 201,806.00     43.00    172.00    60.00 23,233.77               1000   \n",
       "2 201,807.00     47.00    340.00    75.00 14,003.64               1000   \n",
       "\n",
       "   mb_per_month_included  minutes_included  rub_monthly_fee  rub_per_gb  \\\n",
       "0                  30720              3000             1950         150   \n",
       "1                  30720              3000             1950         150   \n",
       "2                  30720              3000             1950         150   \n",
       "\n",
       "   rub_per_message  rub_per_minute tariff_name  \n",
       "0                1               1       ultra  \n",
       "1                1               1       ultra  \n",
       "2                1               1       ultra  "
      ]
     },
     "execution_count": 27,
     "metadata": {},
     "output_type": "execute_result"
    }
   ],
   "source": [
    "users_data = (\n",
    "    users_call.merge(messages_user_agg, on=['user_id', 'yearmonth'], how='left')\n",
    "                .merge(internet_user_agg, on=['user_id', 'yearmonth'], how='left')\n",
    "                .merge(tariffs_pd, left_on='tariff', right_on='tariff_name', how='inner')\n",
    ")\n",
    "\n",
    "users_data.head(3)"
   ]
  },
  {
   "cell_type": "code",
   "execution_count": 28,
   "metadata": {},
   "outputs": [],
   "source": [
    "users_data['balance_call'] = users_data['minutes_included'] - users_data['sum_call']\n",
    "users_data['balance_mess'] = users_data['messages_included'] - users_data['cnt_mes']\n",
    "users_data['balance_intr'] = users_data['mb_per_month_included'] - users_data['sum_mb']"
   ]
  },
  {
   "cell_type": "code",
   "execution_count": 29,
   "metadata": {},
   "outputs": [],
   "source": [
    "def calc_revenue(rub_monthly_fee, bal_call, bal_intr, bal_mess, rub_per_minute, rub_per_gb, rub_per_message):\n",
    "    rev = rub_monthly_fee\n",
    "    if bal_call < 0:\n",
    "        rev += math.ceil(abs(bal_call)) * rub_per_minute\n",
    "    if bal_intr < 0:\n",
    "        rev += math.ceil(abs(bal_intr) / 1000) * rub_per_gb\n",
    "    if bal_mess < 0:\n",
    "        rev += math.ceil(abs(bal_mess)) * rub_per_message\n",
    "    return rev"
   ]
  },
  {
   "cell_type": "code",
   "execution_count": 30,
   "metadata": {},
   "outputs": [
    {
     "data": {
      "text/html": [
       "<div>\n",
       "<style scoped>\n",
       "    .dataframe tbody tr th:only-of-type {\n",
       "        vertical-align: middle;\n",
       "    }\n",
       "\n",
       "    .dataframe tbody tr th {\n",
       "        vertical-align: top;\n",
       "    }\n",
       "\n",
       "    .dataframe thead th {\n",
       "        text-align: right;\n",
       "    }\n",
       "</style>\n",
       "<table border=\"1\" class=\"dataframe\">\n",
       "  <thead>\n",
       "    <tr style=\"text-align: right;\">\n",
       "      <th></th>\n",
       "      <th>user_id</th>\n",
       "      <th>age</th>\n",
       "      <th>churn_date</th>\n",
       "      <th>city</th>\n",
       "      <th>first_name</th>\n",
       "      <th>last_name</th>\n",
       "      <th>reg_date</th>\n",
       "      <th>tariff</th>\n",
       "      <th>yearmonth</th>\n",
       "      <th>cnt_call</th>\n",
       "      <th>sum_call</th>\n",
       "      <th>cnt_mes</th>\n",
       "      <th>sum_mb</th>\n",
       "      <th>messages_included</th>\n",
       "      <th>mb_per_month_included</th>\n",
       "      <th>minutes_included</th>\n",
       "      <th>rub_monthly_fee</th>\n",
       "      <th>rub_per_gb</th>\n",
       "      <th>rub_per_message</th>\n",
       "      <th>rub_per_minute</th>\n",
       "      <th>tariff_name</th>\n",
       "      <th>balance_call</th>\n",
       "      <th>balance_mess</th>\n",
       "      <th>balance_intr</th>\n",
       "      <th>revenue</th>\n",
       "    </tr>\n",
       "  </thead>\n",
       "  <tbody>\n",
       "    <tr>\n",
       "      <td>0</td>\n",
       "      <td>1000</td>\n",
       "      <td>52</td>\n",
       "      <td>NaT</td>\n",
       "      <td>Краснодар</td>\n",
       "      <td>Рафаил</td>\n",
       "      <td>Верещагин</td>\n",
       "      <td>2018-05-25</td>\n",
       "      <td>ultra</td>\n",
       "      <td>201,805.00</td>\n",
       "      <td>22.00</td>\n",
       "      <td>159.00</td>\n",
       "      <td>22.00</td>\n",
       "      <td>2,253.49</td>\n",
       "      <td>1000</td>\n",
       "      <td>30720</td>\n",
       "      <td>3000</td>\n",
       "      <td>1950</td>\n",
       "      <td>150</td>\n",
       "      <td>1</td>\n",
       "      <td>1</td>\n",
       "      <td>ultra</td>\n",
       "      <td>2,841.00</td>\n",
       "      <td>978.00</td>\n",
       "      <td>28,466.51</td>\n",
       "      <td>1950</td>\n",
       "    </tr>\n",
       "    <tr>\n",
       "      <td>1</td>\n",
       "      <td>1000</td>\n",
       "      <td>52</td>\n",
       "      <td>NaT</td>\n",
       "      <td>Краснодар</td>\n",
       "      <td>Рафаил</td>\n",
       "      <td>Верещагин</td>\n",
       "      <td>2018-05-25</td>\n",
       "      <td>ultra</td>\n",
       "      <td>201,806.00</td>\n",
       "      <td>43.00</td>\n",
       "      <td>172.00</td>\n",
       "      <td>60.00</td>\n",
       "      <td>23,233.77</td>\n",
       "      <td>1000</td>\n",
       "      <td>30720</td>\n",
       "      <td>3000</td>\n",
       "      <td>1950</td>\n",
       "      <td>150</td>\n",
       "      <td>1</td>\n",
       "      <td>1</td>\n",
       "      <td>ultra</td>\n",
       "      <td>2,828.00</td>\n",
       "      <td>940.00</td>\n",
       "      <td>7,486.23</td>\n",
       "      <td>1950</td>\n",
       "    </tr>\n",
       "    <tr>\n",
       "      <td>2</td>\n",
       "      <td>1000</td>\n",
       "      <td>52</td>\n",
       "      <td>NaT</td>\n",
       "      <td>Краснодар</td>\n",
       "      <td>Рафаил</td>\n",
       "      <td>Верещагин</td>\n",
       "      <td>2018-05-25</td>\n",
       "      <td>ultra</td>\n",
       "      <td>201,807.00</td>\n",
       "      <td>47.00</td>\n",
       "      <td>340.00</td>\n",
       "      <td>75.00</td>\n",
       "      <td>14,003.64</td>\n",
       "      <td>1000</td>\n",
       "      <td>30720</td>\n",
       "      <td>3000</td>\n",
       "      <td>1950</td>\n",
       "      <td>150</td>\n",
       "      <td>1</td>\n",
       "      <td>1</td>\n",
       "      <td>ultra</td>\n",
       "      <td>2,660.00</td>\n",
       "      <td>925.00</td>\n",
       "      <td>16,716.36</td>\n",
       "      <td>1950</td>\n",
       "    </tr>\n",
       "  </tbody>\n",
       "</table>\n",
       "</div>"
      ],
      "text/plain": [
       "   user_id  age churn_date       city first_name  last_name   reg_date tariff  \\\n",
       "0     1000   52        NaT  Краснодар     Рафаил  Верещагин 2018-05-25  ultra   \n",
       "1     1000   52        NaT  Краснодар     Рафаил  Верещагин 2018-05-25  ultra   \n",
       "2     1000   52        NaT  Краснодар     Рафаил  Верещагин 2018-05-25  ultra   \n",
       "\n",
       "   yearmonth  cnt_call  sum_call  cnt_mes    sum_mb  messages_included  \\\n",
       "0 201,805.00     22.00    159.00    22.00  2,253.49               1000   \n",
       "1 201,806.00     43.00    172.00    60.00 23,233.77               1000   \n",
       "2 201,807.00     47.00    340.00    75.00 14,003.64               1000   \n",
       "\n",
       "   mb_per_month_included  minutes_included  rub_monthly_fee  rub_per_gb  \\\n",
       "0                  30720              3000             1950         150   \n",
       "1                  30720              3000             1950         150   \n",
       "2                  30720              3000             1950         150   \n",
       "\n",
       "   rub_per_message  rub_per_minute tariff_name  balance_call  balance_mess  \\\n",
       "0                1               1       ultra      2,841.00        978.00   \n",
       "1                1               1       ultra      2,828.00        940.00   \n",
       "2                1               1       ultra      2,660.00        925.00   \n",
       "\n",
       "   balance_intr  revenue  \n",
       "0     28,466.51     1950  \n",
       "1      7,486.23     1950  \n",
       "2     16,716.36     1950  "
      ]
     },
     "execution_count": 30,
     "metadata": {},
     "output_type": "execute_result"
    }
   ],
   "source": [
    "users_data['revenue'] = users_data.apply(lambda r: calc_revenue(r['rub_monthly_fee'], r['balance_call'],\n",
    "                                                                r['balance_intr'], r['balance_mess'],\n",
    "                                                               r['rub_per_minute'], r['rub_per_gb'],\n",
    "                                                               r['rub_per_message']), axis=1)\n",
    "\n",
    "users_data.head(3)"
   ]
  },
  {
   "cell_type": "markdown",
   "metadata": {},
   "source": [
    "##### Вывод\n",
    "Для каждого пользователя посчитали:\n",
    "- количество сделанных звонков и израсходованных минут разговора по месяцам (cnt_call и sum_call соответственно);\n",
    "- количество отправленных сообщений по месяцам (cnt_mes);\n",
    "- объем израсходованного интернет-трафика по месяцам (sum_mb);\n",
    "- помесячную выручку с каждого пользователя (revenue)."
   ]
  },
  {
   "cell_type": "markdown",
   "metadata": {},
   "source": [
    "### Анализ данных\n",
    "Требуется описать поведение клиентов оператора, исходя из выборки. Сколько минут разговора, сколько сообщений и какой объём интернет-трафика требуется пользователям каждого тарифа в месяц? Посчитайте среднее количество, дисперсию и стандартное отклонение. Построить гистограммы. Описать распределения."
   ]
  },
  {
   "cell_type": "code",
   "execution_count": 31,
   "metadata": {},
   "outputs": [
    {
     "data": {
      "text/plain": [
       "smart    2225\n",
       "ultra     957\n",
       "Name: tariff_name, dtype: int64"
      ]
     },
     "execution_count": 31,
     "metadata": {},
     "output_type": "execute_result"
    }
   ],
   "source": [
    "users_data.tariff_name.value_counts()"
   ]
  },
  {
   "cell_type": "code",
   "execution_count": 32,
   "metadata": {},
   "outputs": [
    {
     "name": "stdout",
     "output_type": "stream",
     "text": [
      "Тариф smart\n",
      "       sum_call  cnt_mes    sum_mb\n",
      "count  2,223.00 1,916.00  2,222.00\n",
      "mean     419.06    38.75 16,216.66\n",
      "std      189.33    26.82  5,867.50\n",
      "min        0.00     1.00      0.00\n",
      "25%      285.00    17.00 12,655.26\n",
      "50%      423.00    34.00 16,505.47\n",
      "75%      545.50    55.00 20,048.04\n",
      "max    1,435.00   143.00 38,552.45\n",
      "sum_call\n"
     ]
    },
    {
     "data": {
      "image/png": "[encoded data removed]",
      "text/plain": [
       "<Figure size 432x288 with 1 Axes>"
      ]
     },
     "metadata": {
      "needs_background": "light"
     },
     "output_type": "display_data"
    },
    {
     "name": "stdout",
     "output_type": "stream",
     "text": [
      "variance: 35828.06530953038 \n",
      "\n",
      "cnt_mes\n"
     ]
    },
    {
     "data": {
      "image/png": "[encoded data removed]",
      "text/plain": [
       "<Figure size 432x288 with 1 Axes>"
      ]
     },
     "metadata": {
      "needs_background": "light"
     },
     "output_type": "display_data"
    },
    {
     "name": "stdout",
     "output_type": "stream",
     "text": [
      "variance: 718.7973574905893 \n",
      "\n",
      "sum_mb\n"
     ]
    },
    {
     "data": {
      "image/png": "[encoded data removed]",
      "text/plain": [
       "<Figure size 432x288 with 1 Axes>"
      ]
     },
     "metadata": {
      "needs_background": "light"
     },
     "output_type": "display_data"
    },
    {
     "name": "stdout",
     "output_type": "stream",
     "text": [
      "variance: 34412098.45716458 \n",
      "\n"
     ]
    }
   ],
   "source": [
    "print(\"Тариф smart\")\n",
    "users_data_smart = users_data.query(\"tariff_name=='smart'\")\n",
    "print(users_data_smart[['sum_call', 'cnt_mes', 'sum_mb']].describe())\n",
    "\n",
    "for f in ['sum_call', 'cnt_mes', 'sum_mb']:\n",
    "    print(f\"{f}\")\n",
    "    users_data_smart.boxplot(f)\n",
    "    plt.show()\n",
    "    print(f\"variance: {np.var(users_data_smart[{f}])[0]}\", \"\\n\")"
   ]
  },
  {
   "cell_type": "code",
   "execution_count": 33,
   "metadata": {},
   "outputs": [
    {
     "name": "stdout",
     "output_type": "stream",
     "text": [
      "Тариф ultra\n",
      "       sum_call  cnt_mes    sum_mb\n",
      "count    951.00   762.00    941.00\n",
      "mean     545.45    61.20 19,669.28\n",
      "std      306.93    44.72  9,978.53\n",
      "min        0.00     1.00      0.00\n",
      "25%      310.00    25.00 11,873.28\n",
      "50%      528.00    52.00 19,428.21\n",
      "75%      756.50    88.00 26,865.25\n",
      "max    1,673.00   224.00 49,745.69\n",
      "sum_call\n"
     ]
    },
    {
     "data": {
      "image/png": "[encoded data removed]",
      "text/plain": [
       "<Figure size 432x288 with 1 Axes>"
      ]
     },
     "metadata": {
      "needs_background": "light"
     },
     "output_type": "display_data"
    },
    {
     "name": "stdout",
     "output_type": "stream",
     "text": [
      "variance: 94104.36117385981 \n",
      "\n",
      "cnt_mes\n"
     ]
    },
    {
     "data": {
      "image/png": "[encoded data removed]",
      "text/plain": [
       "<Figure size 432x288 with 1 Axes>"
      ]
     },
     "metadata": {
      "needs_background": "light"
     },
     "output_type": "display_data"
    },
    {
     "name": "stdout",
     "output_type": "stream",
     "text": [
      "variance: 1996.9499538443513 \n",
      "\n",
      "sum_mb\n"
     ]
    },
    {
     "data": {
      "image/png": "[encoded data removed]",
      "text/plain": [
       "<Figure size 432x288 with 1 Axes>"
      ]
     },
     "metadata": {
      "needs_background": "light"
     },
     "output_type": "display_data"
    },
    {
     "name": "stdout",
     "output_type": "stream",
     "text": [
      "variance: 99465187.55618367 \n",
      "\n"
     ]
    }
   ],
   "source": [
    "print(\"Тариф ultra\")\n",
    "users_data_ultra = users_data.query(\"tariff_name=='ultra'\")\n",
    "print(users_data_ultra[['sum_call', 'cnt_mes', 'sum_mb']].describe())\n",
    "\n",
    "\n",
    "for f in ['sum_call', 'cnt_mes', 'sum_mb']:\n",
    "    print(f\"{f}\")\n",
    "    users_data_ultra.boxplot(f)\n",
    "    plt.show()\n",
    "    print(f\"variance: {np.var(users_data_ultra[{f}])[0]}\", \"\\n\")"
   ]
  },
  {
   "cell_type": "code",
   "execution_count": 34,
   "metadata": {},
   "outputs": [
    {
     "name": "stdout",
     "output_type": "stream",
     "text": [
      "sum_call\n"
     ]
    },
    {
     "data": {
      "image/png": "[encoded data removed]",
      "text/plain": [
       "<Figure size 432x288 with 1 Axes>"
      ]
     },
     "metadata": {
      "needs_background": "light"
     },
     "output_type": "display_data"
    },
    {
     "name": "stdout",
     "output_type": "stream",
     "text": [
      "cnt_mes\n"
     ]
    },
    {
     "data": {
      "image/png": "[encoded data removed]",
      "text/plain": [
       "<Figure size 432x288 with 1 Axes>"
      ]
     },
     "metadata": {
      "needs_background": "light"
     },
     "output_type": "display_data"
    },
    {
     "name": "stdout",
     "output_type": "stream",
     "text": [
      "sum_mb\n"
     ]
    },
    {
     "data": {
      "image/png": "[encoded data removed]",
      "text/plain": [
       "<Figure size 432x288 with 1 Axes>"
      ]
     },
     "metadata": {
      "needs_background": "light"
     },
     "output_type": "display_data"
    }
   ],
   "source": [
    "for f in ['sum_call', 'cnt_mes', 'sum_mb']:\n",
    "    print(f\"{f}\")\n",
    "    sns.boxplot(y='tariff_name', x=f, data=users_data, linewidth=2)\n",
    "    plt.show()"
   ]
  },
  {
   "cell_type": "markdown",
   "metadata": {},
   "source": [
    "#### Вывод\n",
    "Был произведен анализ на основе таких метрик, как среднее, медиана, дисперсия, стандартное отклонение.\n",
    "По результатам анализа было выявлено:\n",
    "- По тарифу ultra клиенты чаще пользуются услугами оператора \n",
    "- При этом количество клиентов пользующихся тарифом ultra практически в два раза меньше, чем smart\n",
    "- Медиана по <b> количеству расходованных минут </b> на тарифе smart равно 423, на ultra 528, при этом первый квантиль находится примерно на одном уровне, а третий квантиль более разбросан: smart=545, ultra=756. Медиана тарифа ultra практически совпадает с 3 квантилем тарифа smart, т.е. пользователи на тарифе ultra расходуют больше минут. Так же видим больший размах данных (дисперсию) на тарифе ultra\n",
    "- Медиана по <b> количеству расходованных сообщение </b> на тарифе smart равно 34, на ultra 52, при этом первый квантиль равен 17 и 25 соответственно, а третий квантиль более разбросан: smart=55, ultra=88. Медиана тарифа ultra совпадает с 3 квантилем тарифа smart, т.е. пользователи на тарифе ultra расходуют сообщение больше. Так же видим больший размах данных (дисперсию) на тарифе ultra\n",
    "- Медиана по <b> расходованному интернет траффику </b> на тарифе smart равно 16.5, на ultra 19.4, при этом первый квантиль равен 12.7 и 11.9 соответственно, а третий квантиль более разбросан: smart=20, ultra=26.9. Пользователи на тарифе ultra расходуют траффика больше, чем на smart, при этом пользователей, которые пользуются интернет не часто, на тарифе ultra тоже больше (видим по первому квантилю). Так же видим больший размах данных (дисперсию) на тарифе ultra\n",
    "- В данных по тарифу smart много выбросов (>1.5IQR), возможно, этим клиентам (со значениями >1.5IQR) стоит предложить перейти на тариф ultra, так как трафика, пакетно предоставляемого в тарифе smart, им недостаточно"
   ]
  },
  {
   "cell_type": "markdown",
   "metadata": {},
   "source": [
    "### Проверка гипотез"
   ]
  },
  {
   "cell_type": "markdown",
   "metadata": {},
   "source": [
    "#### Гипотеза 1\n",
    "средняя выручка пользователей тарифов «Ультра» и «Смарт» различаются"
   ]
  },
  {
   "cell_type": "code",
   "execution_count": 35,
   "metadata": {},
   "outputs": [
    {
     "name": "stdout",
     "output_type": "stream",
     "text": [
      "p-значение:  1.7500644494217241e-147\n"
     ]
    }
   ],
   "source": [
    "hyp_1_pv = stat.ttest_ind(users_data_ultra['revenue'], users_data_smart['revenue'], equal_var=True)\n",
    "print('p-значение: ', hyp_1_pv.pvalue)"
   ]
  },
  {
   "cell_type": "code",
   "execution_count": 36,
   "metadata": {},
   "outputs": [
    {
     "name": "stdout",
     "output_type": "stream",
     "text": [
      "Отвергаем нулевую гипотезу\n"
     ]
    }
   ],
   "source": [
    "alpha = 0.05\n",
    "\n",
    "if hyp_1_pv.pvalue < alpha:\n",
    "    print('Отвергаем нулевую гипотезу')\n",
    "else:\n",
    "    print('Не получилось отвергнуть нулевую гипотезу') "
   ]
  },
  {
   "cell_type": "markdown",
   "metadata": {},
   "source": [
    "##### Вывод\n",
    "- За нулевую гипотезу (H0) было взято утверждение: средняя выручка пользователей тарифов «Ультра» и «Смарт» равны\n",
    "- Альтернативная гипотеза (H1): средняя выручка пользователей тарифов «Ультра» и «Смарт» не равны\n",
    "- Пороговое значение alpha было задано 0.05\n",
    "\n",
    "Была проведена проверка гипотезы о равенстве среднего двух генеральных совокупностей по взятым из них выборкам, в результате которой мы отвергли нулевую гипотезу"
   ]
  },
  {
   "cell_type": "markdown",
   "metadata": {},
   "source": [
    "#### Гипотеза 2\n",
    "средняя выручка пользователей из Москвы отличается от выручки пользователей из других регионов."
   ]
  },
  {
   "cell_type": "code",
   "execution_count": 37,
   "metadata": {},
   "outputs": [
    {
     "data": {
      "text/plain": [
       "Москва             610\n",
       "Санкт-Петербург    266\n",
       "Новосибирск         98\n",
       "Уфа                 95\n",
       "Краснодар           86\n",
       "                  ... \n",
       "Нижневартовск        6\n",
       "Сургут               6\n",
       "Кемерово             5\n",
       "Химки                5\n",
       "Иваново              2\n",
       "Name: city, Length: 76, dtype: int64"
      ]
     },
     "execution_count": 37,
     "metadata": {},
     "output_type": "execute_result"
    }
   ],
   "source": [
    "users_data.city.value_counts()"
   ]
  },
  {
   "cell_type": "code",
   "execution_count": 38,
   "metadata": {},
   "outputs": [
    {
     "data": {
      "text/plain": [
       "(610, 25)"
      ]
     },
     "execution_count": 38,
     "metadata": {},
     "output_type": "execute_result"
    }
   ],
   "source": [
    "users_data_Moscow = users_data.query(\"city=='Москва'\")\n",
    "users_data_Moscow.shape"
   ]
  },
  {
   "cell_type": "code",
   "execution_count": 39,
   "metadata": {},
   "outputs": [
    {
     "data": {
      "text/plain": [
       "(2572, 25)"
      ]
     },
     "execution_count": 39,
     "metadata": {},
     "output_type": "execute_result"
    }
   ],
   "source": [
    "users_data_not_Moscow = users_data.query(\"not city=='Москва'\")\n",
    "users_data_not_Moscow.shape"
   ]
  },
  {
   "cell_type": "code",
   "execution_count": 40,
   "metadata": {},
   "outputs": [
    {
     "name": "stdout",
     "output_type": "stream",
     "text": [
      "p-значение:  0.5135226575768945\n"
     ]
    }
   ],
   "source": [
    "hyp_2_pv = stat.ttest_ind(users_data_Moscow['revenue'], users_data_not_Moscow['revenue'], equal_var=True)\n",
    "print('p-значение: ', hyp_2_pv.pvalue)"
   ]
  },
  {
   "cell_type": "code",
   "execution_count": 41,
   "metadata": {},
   "outputs": [
    {
     "name": "stdout",
     "output_type": "stream",
     "text": [
      "Не получилось отвергнуть нулевую гипотезу\n"
     ]
    }
   ],
   "source": [
    "alpha = 0.05\n",
    "\n",
    "if hyp_2_pv.pvalue < alpha:\n",
    "    print('Отвергаем нулевую гипотезу')\n",
    "else:\n",
    "    print('Не получилось отвергнуть нулевую гипотезу') "
   ]
  },
  {
   "cell_type": "markdown",
   "metadata": {},
   "source": [
    "##### Вывод\n",
    "\n",
    "- За нулевую гипотезу (H0) было взято утверждение: средняя выручка пользователей из Москвы равна выручке пользователей из других регионов\n",
    "- Альтернативная гипотеза (H1): средняя выручка пользователей из Москвы отличается от выручки пользователей из других регионов\n",
    "- Пороговое значение alpha было задано 0.05\n",
    "\n",
    "Была проведена проверка гипотезы о равенстве среднего двух генеральных совокупностей по взятым из них выборкам, в результате которой мы не смогли отвергнуть нулевую гипотезу"
   ]
  },
  {
   "cell_type": "markdown",
   "metadata": {},
   "source": [
    "### Вывод"
   ]
  },
  {
   "cell_type": "markdown",
   "metadata": {},
   "source": [
    "В ходе проекта была проведены следующие аналитические задачи:\n",
    "- предварительный анализ тарифов на небольшой выборке клиентов\n",
    "- Для каждого пользователя произвели расчет метрик:\n",
    "- - количество сделанных звонков и израсходованных минут разговора по месяцам\n",
    "- - количество отправленных сообщений по месяцам\n",
    "- - объем израсходованного интернет-трафика по месяцам\n",
    "- - помесячную выручку с каждого пользователя\n",
    "- описали поведение клиентов оператора, исходя из выборки: среднее количество, дисперсию и стандартное отклонение\n",
    "- построили графики, описали распределения\n",
    "- проверили две гипотезы\n",
    "\n",
    "Пришли к следующим выводам:\n",
    "- тариф ultra более подходит для клиентов, часто пользующихся услугами связи, что объясняется большим количеством доступного в рамках тарифа трафика\n",
    "- большая стоимость тарифного плана не оказывает не означает что и выручка компании от пользователей с таким тарифом будет больше:\n",
    "- - расход в основном в рамках предоставляемого пакета услуг\n",
    "- - не покупают доп. траффик\n",
    "- - отвергли гипотезу, что выручки по двум тарифам одинаковы\n",
    "- первый квантиль по расходованному интернет трафику тарифа smart находится практически на одном уровне с количеством mb, предоставляемых на этом тарифе. Это означает, что большинству пользователей не хватает количества бесплатных mb, и они вынуждены покупать доп. траффик, что приносит компании больше прибыли\n",
    "\n",
    "Считаю, что для компании более выгодным является тариф smart. Но в то же время не стоит забывать, что пользователям с высоким потреблением услуг объема предоставляемого трафика явно будет недостаточно, и если думать только о прибыли компании и перевести их на smart, то может возникнуть сильное недовольство и отток клиентов.\n",
    "Учитывая, что в объеме предоставляемого трафика двух тарифах сейчас слишком сильный разброс (15гб vs 30гб, 500 vs 3000 минут), могу предложить создать третий тариф, объем предоставляемого трафика которого будет находится между текущими двумя тарифами. Часть клиентов сможет перейти со smart на него, а мы в свою очередь получим больше ожидаемой прибыли от абонентской платы.\n",
    "\n",
    "После каждого этапа проекта были оставлены более детальные выводы"
   ]
  },
  {
   "cell_type": "code",
   "execution_count": null,
   "metadata": {},
   "outputs": [],
   "source": []
  }
 ],
 "metadata": {
  "ExecuteTimeLog": [
   {
    "duration": 770,
    "start_time": "2021-11-25T20:04:51.311Z"
   },
   {
    "duration": 228,
    "start_time": "2021-11-25T20:05:43.601Z"
   },
   {
    "duration": 400,
    "start_time": "2021-11-25T20:06:13.721Z"
   },
   {
    "duration": 729,
    "start_time": "2021-11-25T20:06:36.589Z"
   },
   {
    "duration": 628,
    "start_time": "2021-11-25T20:06:39.926Z"
   },
   {
    "duration": 381,
    "start_time": "2021-11-25T20:06:51.852Z"
   },
   {
    "duration": 499,
    "start_time": "2021-11-25T20:07:13.096Z"
   },
   {
    "duration": 638,
    "start_time": "2021-11-25T20:07:32.003Z"
   },
   {
    "duration": 708,
    "start_time": "2021-11-25T20:07:59.511Z"
   },
   {
    "duration": 558,
    "start_time": "2021-11-25T20:08:56.716Z"
   },
   {
    "duration": 6,
    "start_time": "2021-11-25T20:09:01.363Z"
   },
   {
    "duration": 28,
    "start_time": "2021-11-25T20:09:07.867Z"
   },
   {
    "duration": 12,
    "start_time": "2021-11-25T20:09:25.635Z"
   },
   {
    "duration": 39,
    "start_time": "2021-11-25T20:11:10.632Z"
   },
   {
    "duration": 11,
    "start_time": "2021-11-25T20:11:16.497Z"
   },
   {
    "duration": 19,
    "start_time": "2021-11-25T20:11:26.854Z"
   },
   {
    "duration": 22,
    "start_time": "2021-11-25T20:11:34.247Z"
   },
   {
    "duration": 18,
    "start_time": "2021-11-25T20:11:45.551Z"
   },
   {
    "duration": 23,
    "start_time": "2021-11-25T20:11:55.438Z"
   },
   {
    "duration": 31,
    "start_time": "2021-11-25T20:12:19.653Z"
   },
   {
    "duration": 16,
    "start_time": "2021-11-25T20:12:21.388Z"
   },
   {
    "duration": 11,
    "start_time": "2021-11-25T20:12:39.716Z"
   },
   {
    "duration": 9,
    "start_time": "2021-11-25T20:13:38.349Z"
   },
   {
    "duration": 20,
    "start_time": "2021-11-25T20:13:42.293Z"
   },
   {
    "duration": 25,
    "start_time": "2021-11-25T20:13:57.168Z"
   },
   {
    "duration": 18,
    "start_time": "2021-11-25T20:13:58.408Z"
   },
   {
    "duration": 12,
    "start_time": "2021-11-25T20:14:10.354Z"
   },
   {
    "duration": 9,
    "start_time": "2021-11-25T20:14:16.047Z"
   },
   {
    "duration": 15,
    "start_time": "2021-11-25T20:14:26.119Z"
   },
   {
    "duration": 9,
    "start_time": "2021-11-25T20:14:29.301Z"
   },
   {
    "duration": 8,
    "start_time": "2021-11-25T20:14:56.825Z"
   },
   {
    "duration": 9,
    "start_time": "2021-11-25T20:15:31.551Z"
   },
   {
    "duration": 9,
    "start_time": "2021-11-25T20:15:32.892Z"
   },
   {
    "duration": 16,
    "start_time": "2021-11-25T20:16:06.131Z"
   },
   {
    "duration": 30,
    "start_time": "2021-11-25T20:16:18.427Z"
   },
   {
    "duration": 20,
    "start_time": "2021-11-25T20:16:21.724Z"
   },
   {
    "duration": 17,
    "start_time": "2021-11-25T20:16:33.151Z"
   },
   {
    "duration": 276,
    "start_time": "2021-11-25T20:16:47.429Z"
   },
   {
    "duration": 14,
    "start_time": "2021-11-25T20:16:54.611Z"
   },
   {
    "duration": 8,
    "start_time": "2021-11-25T20:17:02.925Z"
   },
   {
    "duration": 7,
    "start_time": "2021-11-25T20:17:11.663Z"
   },
   {
    "duration": 16,
    "start_time": "2021-11-25T20:17:31.711Z"
   },
   {
    "duration": 7,
    "start_time": "2021-11-25T20:18:37.437Z"
   },
   {
    "duration": 7,
    "start_time": "2021-11-25T20:18:43.962Z"
   },
   {
    "duration": 37,
    "start_time": "2021-11-25T20:18:59.643Z"
   },
   {
    "duration": 252,
    "start_time": "2021-11-25T20:19:08.033Z"
   },
   {
    "duration": 36,
    "start_time": "2021-11-25T20:19:11.523Z"
   },
   {
    "duration": 23,
    "start_time": "2021-11-25T20:19:54.692Z"
   },
   {
    "duration": 10,
    "start_time": "2021-11-25T20:20:04.999Z"
   },
   {
    "duration": 42,
    "start_time": "2021-11-25T20:20:17.310Z"
   },
   {
    "duration": 748,
    "start_time": "2021-11-27T07:11:23.847Z"
   },
   {
    "duration": 535,
    "start_time": "2021-11-27T07:11:27.327Z"
   },
   {
    "duration": 436,
    "start_time": "2021-11-27T07:12:37.333Z"
   },
   {
    "duration": 356,
    "start_time": "2021-11-27T07:14:16.863Z"
   },
   {
    "duration": 354,
    "start_time": "2021-11-27T07:14:26.001Z"
   },
   {
    "duration": 13,
    "start_time": "2021-11-27T07:14:56.718Z"
   },
   {
    "duration": 16,
    "start_time": "2021-11-27T07:15:00.628Z"
   },
   {
    "duration": 10,
    "start_time": "2021-11-27T07:16:16.825Z"
   },
   {
    "duration": 559,
    "start_time": "2021-11-27T07:16:26.090Z"
   },
   {
    "duration": 6,
    "start_time": "2021-11-27T07:17:40.915Z"
   },
   {
    "duration": 392,
    "start_time": "2021-11-27T07:17:48.965Z"
   },
   {
    "duration": 31,
    "start_time": "2021-11-27T07:17:51.326Z"
   },
   {
    "duration": 3,
    "start_time": "2021-11-27T07:17:58.761Z"
   },
   {
    "duration": 31,
    "start_time": "2021-11-27T07:17:59.851Z"
   },
   {
    "duration": 5,
    "start_time": "2021-11-27T07:18:09.952Z"
   },
   {
    "duration": 31,
    "start_time": "2021-11-27T07:18:11.341Z"
   },
   {
    "duration": 5,
    "start_time": "2021-11-27T07:19:02.766Z"
   },
   {
    "duration": 33,
    "start_time": "2021-11-27T07:19:03.522Z"
   },
   {
    "duration": 4,
    "start_time": "2021-11-27T07:19:09.204Z"
   },
   {
    "duration": 34,
    "start_time": "2021-11-27T07:19:10.300Z"
   },
   {
    "duration": 5,
    "start_time": "2021-11-27T07:19:21.801Z"
   },
   {
    "duration": 33,
    "start_time": "2021-11-27T07:19:22.540Z"
   },
   {
    "duration": 6,
    "start_time": "2021-11-27T07:19:23.008Z"
   },
   {
    "duration": 5,
    "start_time": "2021-11-27T07:19:33.291Z"
   },
   {
    "duration": 44,
    "start_time": "2021-11-27T07:19:33.490Z"
   },
   {
    "duration": 4,
    "start_time": "2021-11-27T07:19:51.896Z"
   },
   {
    "duration": 32,
    "start_time": "2021-11-27T07:19:53.126Z"
   },
   {
    "duration": 33,
    "start_time": "2021-11-27T07:20:27.609Z"
   },
   {
    "duration": 4,
    "start_time": "2021-11-27T07:20:34.319Z"
   },
   {
    "duration": 33,
    "start_time": "2021-11-27T07:20:36.816Z"
   },
   {
    "duration": 29,
    "start_time": "2021-11-27T07:21:00.080Z"
   },
   {
    "duration": 25,
    "start_time": "2021-11-27T07:21:15.052Z"
   },
   {
    "duration": 14,
    "start_time": "2021-11-27T07:21:28.895Z"
   },
   {
    "duration": 15,
    "start_time": "2021-11-27T07:21:44.335Z"
   },
   {
    "duration": 4,
    "start_time": "2021-11-27T07:22:12.323Z"
   },
   {
    "duration": 32,
    "start_time": "2021-11-27T07:22:13.809Z"
   },
   {
    "duration": 28,
    "start_time": "2021-11-27T07:22:14.412Z"
   },
   {
    "duration": 26,
    "start_time": "2021-11-27T07:22:14.697Z"
   },
   {
    "duration": 15,
    "start_time": "2021-11-27T07:22:14.904Z"
   },
   {
    "duration": 16,
    "start_time": "2021-11-27T07:22:15.081Z"
   },
   {
    "duration": 750,
    "start_time": "2021-11-27T07:50:53.023Z"
   },
   {
    "duration": 530,
    "start_time": "2021-11-27T07:50:53.776Z"
   },
   {
    "duration": 4,
    "start_time": "2021-11-27T07:50:54.309Z"
   },
   {
    "duration": 36,
    "start_time": "2021-11-27T07:50:54.316Z"
   },
   {
    "duration": 45,
    "start_time": "2021-11-27T07:50:54.355Z"
   },
   {
    "duration": 24,
    "start_time": "2021-11-27T07:50:54.402Z"
   },
   {
    "duration": 14,
    "start_time": "2021-11-27T07:50:54.547Z"
   },
   {
    "duration": 15,
    "start_time": "2021-11-27T07:50:55.040Z"
   },
   {
    "duration": 46,
    "start_time": "2021-11-27T07:51:44.990Z"
   },
   {
    "duration": 36,
    "start_time": "2021-11-27T07:52:02.690Z"
   },
   {
    "duration": 26,
    "start_time": "2021-11-27T07:52:32.255Z"
   },
   {
    "duration": 9,
    "start_time": "2021-11-27T07:52:58.640Z"
   },
   {
    "duration": 26,
    "start_time": "2021-11-27T07:53:41.561Z"
   },
   {
    "duration": 16,
    "start_time": "2021-11-27T07:53:42.028Z"
   },
   {
    "duration": 15,
    "start_time": "2021-11-27T07:53:42.453Z"
   },
   {
    "duration": 8,
    "start_time": "2021-11-27T07:53:43.133Z"
   },
   {
    "duration": 9,
    "start_time": "2021-11-27T07:53:44.145Z"
   },
   {
    "duration": 498,
    "start_time": "2021-11-27T07:55:47.178Z"
   },
   {
    "duration": 348,
    "start_time": "2021-11-27T07:55:54.079Z"
   },
   {
    "duration": 34,
    "start_time": "2021-11-27T07:55:59.578Z"
   },
   {
    "duration": 22,
    "start_time": "2021-11-27T07:58:16.592Z"
   },
   {
    "duration": 10,
    "start_time": "2021-11-27T07:58:22.514Z"
   },
   {
    "duration": 396,
    "start_time": "2021-11-27T07:59:15.486Z"
   },
   {
    "duration": 18,
    "start_time": "2021-11-27T07:59:19.345Z"
   },
   {
    "duration": 19,
    "start_time": "2021-11-27T07:59:25.700Z"
   },
   {
    "duration": 3,
    "start_time": "2021-11-27T08:01:56.232Z"
   },
   {
    "duration": 16,
    "start_time": "2021-11-27T08:06:58.188Z"
   },
   {
    "duration": 7,
    "start_time": "2021-11-27T08:07:16.539Z"
   },
   {
    "duration": 354,
    "start_time": "2021-11-27T08:07:22.063Z"
   },
   {
    "duration": 32,
    "start_time": "2021-11-27T08:08:21.906Z"
   },
   {
    "duration": 371,
    "start_time": "2021-11-27T08:08:40.458Z"
   },
   {
    "duration": 46,
    "start_time": "2021-11-27T08:08:46.659Z"
   },
   {
    "duration": 75,
    "start_time": "2021-11-27T08:09:17.408Z"
   },
   {
    "duration": 46,
    "start_time": "2021-11-27T08:09:55.356Z"
   },
   {
    "duration": 45,
    "start_time": "2021-11-27T08:10:04.771Z"
   },
   {
    "duration": 77,
    "start_time": "2021-11-27T08:10:16.066Z"
   },
   {
    "duration": 540,
    "start_time": "2021-11-27T08:10:23.331Z"
   },
   {
    "duration": 41,
    "start_time": "2021-11-27T08:10:28.563Z"
   },
   {
    "duration": 19,
    "start_time": "2021-11-27T08:10:30.387Z"
   },
   {
    "duration": 20,
    "start_time": "2021-11-27T08:10:33.559Z"
   },
   {
    "duration": 77,
    "start_time": "2021-11-27T08:10:36.335Z"
   },
   {
    "duration": 68,
    "start_time": "2021-11-27T08:11:08.445Z"
   },
   {
    "duration": 6305,
    "start_time": "2021-11-27T08:11:41.908Z"
   },
   {
    "duration": 1934,
    "start_time": "2021-11-27T08:11:58.212Z"
   },
   {
    "duration": 103,
    "start_time": "2021-11-27T08:12:25.932Z"
   },
   {
    "duration": 100,
    "start_time": "2021-11-27T08:12:33.735Z"
   },
   {
    "duration": 71,
    "start_time": "2021-11-27T08:12:43.089Z"
   },
   {
    "duration": 13,
    "start_time": "2021-11-27T08:13:13.115Z"
   },
   {
    "duration": 478,
    "start_time": "2021-11-27T08:13:39.529Z"
   },
   {
    "duration": 31,
    "start_time": "2021-11-27T08:13:48.147Z"
   },
   {
    "duration": 37,
    "start_time": "2021-11-27T08:14:04.800Z"
   },
   {
    "duration": 29,
    "start_time": "2021-11-27T08:14:39.344Z"
   },
   {
    "duration": 741,
    "start_time": "2021-11-27T08:26:24.044Z"
   },
   {
    "duration": 559,
    "start_time": "2021-11-27T08:26:24.788Z"
   },
   {
    "duration": 4,
    "start_time": "2021-11-27T08:26:25.356Z"
   },
   {
    "duration": 65,
    "start_time": "2021-11-27T08:26:25.363Z"
   },
   {
    "duration": 35,
    "start_time": "2021-11-27T08:26:25.431Z"
   },
   {
    "duration": 46,
    "start_time": "2021-11-27T08:26:25.469Z"
   },
   {
    "duration": 23,
    "start_time": "2021-11-27T08:26:25.519Z"
   },
   {
    "duration": 38,
    "start_time": "2021-11-27T08:26:25.545Z"
   },
   {
    "duration": 75,
    "start_time": "2021-11-27T08:26:25.585Z"
   },
   {
    "duration": 34,
    "start_time": "2021-11-27T08:26:25.662Z"
   },
   {
    "duration": 27,
    "start_time": "2021-11-27T08:26:25.699Z"
   },
   {
    "duration": 17,
    "start_time": "2021-11-27T08:26:25.729Z"
   },
   {
    "duration": 41,
    "start_time": "2021-11-27T08:26:25.749Z"
   },
   {
    "duration": 21,
    "start_time": "2021-11-27T08:26:25.793Z"
   },
   {
    "duration": 33,
    "start_time": "2021-11-27T08:26:25.816Z"
   },
   {
    "duration": 24,
    "start_time": "2021-11-27T08:26:25.853Z"
   },
   {
    "duration": 35,
    "start_time": "2021-11-27T08:26:25.880Z"
   },
   {
    "duration": 21,
    "start_time": "2021-11-27T08:26:26.173Z"
   },
   {
    "duration": 17,
    "start_time": "2021-11-27T08:26:26.356Z"
   },
   {
    "duration": 11,
    "start_time": "2021-11-27T08:26:26.560Z"
   },
   {
    "duration": 79,
    "start_time": "2021-11-27T08:26:27.728Z"
   },
   {
    "duration": 37,
    "start_time": "2021-11-27T08:26:28.028Z"
   },
   {
    "duration": 516,
    "start_time": "2021-11-27T08:28:20.354Z"
   },
   {
    "duration": 106,
    "start_time": "2021-11-27T08:28:39.208Z"
   },
   {
    "duration": 491,
    "start_time": "2021-11-27T08:29:04.340Z"
   },
   {
    "duration": 26,
    "start_time": "2021-11-27T08:29:42.558Z"
   },
   {
    "duration": 4,
    "start_time": "2021-11-27T08:32:41.450Z"
   },
   {
    "duration": 543,
    "start_time": "2021-11-27T08:32:41.837Z"
   },
   {
    "duration": 4,
    "start_time": "2021-11-27T08:34:07.310Z"
   },
   {
    "duration": 31,
    "start_time": "2021-11-27T08:34:07.455Z"
   },
   {
    "duration": 27,
    "start_time": "2021-11-27T08:34:07.599Z"
   },
   {
    "duration": 24,
    "start_time": "2021-11-27T08:34:07.754Z"
   },
   {
    "duration": 15,
    "start_time": "2021-11-27T08:34:07.893Z"
   },
   {
    "duration": 16,
    "start_time": "2021-11-27T08:34:08.069Z"
   },
   {
    "duration": 40,
    "start_time": "2021-11-27T08:34:08.365Z"
   },
   {
    "duration": 32,
    "start_time": "2021-11-27T08:34:08.522Z"
   },
   {
    "duration": 28,
    "start_time": "2021-11-27T08:34:08.686Z"
   },
   {
    "duration": 9,
    "start_time": "2021-11-27T08:34:08.838Z"
   },
   {
    "duration": 19,
    "start_time": "2021-11-27T08:34:09.131Z"
   },
   {
    "duration": 16,
    "start_time": "2021-11-27T08:34:09.275Z"
   },
   {
    "duration": 14,
    "start_time": "2021-11-27T08:34:09.427Z"
   },
   {
    "duration": 7,
    "start_time": "2021-11-27T08:34:09.586Z"
   },
   {
    "duration": 8,
    "start_time": "2021-11-27T08:34:09.723Z"
   },
   {
    "duration": 21,
    "start_time": "2021-11-27T08:34:10.175Z"
   },
   {
    "duration": 19,
    "start_time": "2021-11-27T08:34:10.342Z"
   },
   {
    "duration": 11,
    "start_time": "2021-11-27T08:34:10.530Z"
   },
   {
    "duration": 109,
    "start_time": "2021-11-27T08:34:11.397Z"
   },
   {
    "duration": 36,
    "start_time": "2021-11-27T08:34:12.844Z"
   },
   {
    "duration": 38,
    "start_time": "2021-11-27T08:34:13.789Z"
   },
   {
    "duration": 1000,
    "start_time": "2021-11-27T08:34:44.099Z"
   },
   {
    "duration": 29,
    "start_time": "2021-11-27T08:35:11.077Z"
   },
   {
    "duration": 26,
    "start_time": "2021-11-27T08:35:11.877Z"
   },
   {
    "duration": 10215,
    "start_time": "2021-11-27T08:36:13.127Z"
   },
   {
    "duration": -24,
    "start_time": "2021-11-27T08:36:23.368Z"
   },
   {
    "duration": -30,
    "start_time": "2021-11-27T08:36:23.376Z"
   },
   {
    "duration": 591,
    "start_time": "2021-11-27T08:36:40.424Z"
   },
   {
    "duration": 151,
    "start_time": "2021-11-27T08:36:49.917Z"
   },
   {
    "duration": 31,
    "start_time": "2021-11-27T08:36:54.922Z"
   },
   {
    "duration": 27,
    "start_time": "2021-11-27T08:36:55.094Z"
   },
   {
    "duration": 370,
    "start_time": "2021-11-27T08:37:28.678Z"
   },
   {
    "duration": 356,
    "start_time": "2021-11-27T08:37:40.320Z"
   },
   {
    "duration": 24,
    "start_time": "2021-11-27T08:37:43.230Z"
   },
   {
    "duration": 29,
    "start_time": "2021-11-27T08:39:07.693Z"
   },
   {
    "duration": 28,
    "start_time": "2021-11-27T08:39:07.852Z"
   },
   {
    "duration": 25,
    "start_time": "2021-11-27T08:39:08.017Z"
   },
   {
    "duration": 28,
    "start_time": "2021-11-27T08:40:12.420Z"
   },
   {
    "duration": 35,
    "start_time": "2021-11-27T08:40:33.970Z"
   },
   {
    "duration": 30,
    "start_time": "2021-11-27T08:41:01.258Z"
   },
   {
    "duration": 34,
    "start_time": "2021-11-27T08:41:14.568Z"
   },
   {
    "duration": 52,
    "start_time": "2021-11-27T08:41:18.853Z"
   },
   {
    "duration": 26,
    "start_time": "2021-11-27T08:41:48.331Z"
   },
   {
    "duration": 13,
    "start_time": "2021-11-27T08:42:32.174Z"
   },
   {
    "duration": 42,
    "start_time": "2021-11-27T08:42:41.050Z"
   },
   {
    "duration": 42,
    "start_time": "2021-11-27T08:42:49.339Z"
   },
   {
    "duration": 40,
    "start_time": "2021-11-27T08:44:03.907Z"
   },
   {
    "duration": 47,
    "start_time": "2021-11-27T08:44:33.530Z"
   },
   {
    "duration": 87,
    "start_time": "2021-11-27T08:49:33.317Z"
   },
   {
    "duration": 4,
    "start_time": "2021-11-27T08:51:22.789Z"
   },
   {
    "duration": 39,
    "start_time": "2021-11-27T08:51:23.958Z"
   },
   {
    "duration": 4,
    "start_time": "2021-11-27T08:51:28.256Z"
   },
   {
    "duration": 61,
    "start_time": "2021-11-27T08:51:28.515Z"
   },
   {
    "duration": 62,
    "start_time": "2021-11-27T08:51:41.488Z"
   },
   {
    "duration": 4,
    "start_time": "2021-11-27T08:51:50.991Z"
   },
   {
    "duration": 46,
    "start_time": "2021-11-27T08:51:59.981Z"
   },
   {
    "duration": 48,
    "start_time": "2021-11-27T08:54:22.023Z"
   },
   {
    "duration": 54,
    "start_time": "2021-11-27T08:56:58.656Z"
   },
   {
    "duration": 7,
    "start_time": "2021-11-27T08:59:30.265Z"
   },
   {
    "duration": 7,
    "start_time": "2021-11-27T09:06:03.330Z"
   },
   {
    "duration": 7,
    "start_time": "2021-11-27T09:06:05.209Z"
   },
   {
    "duration": 5,
    "start_time": "2021-11-27T09:07:55.880Z"
   },
   {
    "duration": 5,
    "start_time": "2021-11-27T09:08:01.308Z"
   },
   {
    "duration": 349,
    "start_time": "2021-11-27T09:08:04.362Z"
   },
   {
    "duration": 6,
    "start_time": "2021-11-27T09:08:07.741Z"
   },
   {
    "duration": 5,
    "start_time": "2021-11-27T09:08:10.285Z"
   },
   {
    "duration": 7,
    "start_time": "2021-11-27T09:09:00.434Z"
   },
   {
    "duration": 5,
    "start_time": "2021-11-27T09:09:21.351Z"
   },
   {
    "duration": 9,
    "start_time": "2021-11-27T09:11:54.767Z"
   },
   {
    "duration": 4989,
    "start_time": "2021-11-27T09:14:56.329Z"
   },
   {
    "duration": 1219,
    "start_time": "2021-11-27T09:15:30.628Z"
   },
   {
    "duration": 5,
    "start_time": "2021-11-27T09:15:49.918Z"
   },
   {
    "duration": 968,
    "start_time": "2021-11-27T09:15:50.081Z"
   },
   {
    "duration": 5,
    "start_time": "2021-11-27T09:16:08.963Z"
   },
   {
    "duration": 328,
    "start_time": "2021-11-27T09:16:09.134Z"
   },
   {
    "duration": 339,
    "start_time": "2021-11-27T09:16:21.220Z"
   },
   {
    "duration": 8,
    "start_time": "2021-11-27T09:17:17.102Z"
   },
   {
    "duration": 6,
    "start_time": "2021-11-27T09:17:17.270Z"
   },
   {
    "duration": 348,
    "start_time": "2021-11-27T09:17:17.409Z"
   },
   {
    "duration": 28,
    "start_time": "2021-11-27T09:26:03.612Z"
   },
   {
    "duration": 131,
    "start_time": "2021-11-27T09:26:29.716Z"
   },
   {
    "duration": 9,
    "start_time": "2021-11-27T09:26:32.980Z"
   },
   {
    "duration": 373,
    "start_time": "2021-11-27T09:27:00.296Z"
   },
   {
    "duration": 31,
    "start_time": "2021-11-27T09:27:11.132Z"
   },
   {
    "duration": 33,
    "start_time": "2021-11-27T09:27:32.597Z"
   },
   {
    "duration": 33,
    "start_time": "2021-11-27T09:27:42.717Z"
   },
   {
    "duration": 4,
    "start_time": "2021-11-27T09:30:17.155Z"
   },
   {
    "duration": 326,
    "start_time": "2021-11-27T09:30:31.775Z"
   },
   {
    "duration": 7,
    "start_time": "2021-11-27T09:30:35.962Z"
   },
   {
    "duration": 6,
    "start_time": "2021-11-27T09:31:28.492Z"
   },
   {
    "duration": 10,
    "start_time": "2021-11-27T09:31:36.747Z"
   },
   {
    "duration": 31,
    "start_time": "2021-11-27T09:32:16.638Z"
   },
   {
    "duration": 31,
    "start_time": "2021-11-27T09:32:31.774Z"
   },
   {
    "duration": 5,
    "start_time": "2021-11-27T09:34:15.853Z"
   },
   {
    "duration": 14,
    "start_time": "2021-11-27T09:34:28.599Z"
   },
   {
    "duration": 14,
    "start_time": "2021-11-27T09:34:47.128Z"
   },
   {
    "duration": 13,
    "start_time": "2021-11-27T09:35:28.131Z"
   },
   {
    "duration": 113,
    "start_time": "2021-11-27T09:38:42.190Z"
   },
   {
    "duration": 52,
    "start_time": "2021-11-27T09:38:52.764Z"
   },
   {
    "duration": 881,
    "start_time": "2021-11-27T09:38:57.590Z"
   },
   {
    "duration": 232,
    "start_time": "2021-11-27T09:39:13.865Z"
   },
   {
    "duration": 14,
    "start_time": "2021-11-27T09:41:24.640Z"
   },
   {
    "duration": 12,
    "start_time": "2021-11-27T09:41:33.025Z"
   },
   {
    "duration": 124,
    "start_time": "2021-11-27T09:41:36.245Z"
   },
   {
    "duration": 13,
    "start_time": "2021-11-27T09:41:42.405Z"
   },
   {
    "duration": 12,
    "start_time": "2021-11-27T09:42:02.157Z"
   },
   {
    "duration": 12,
    "start_time": "2021-11-27T09:42:08.692Z"
   },
   {
    "duration": 305,
    "start_time": "2021-11-27T09:42:37.297Z"
   },
   {
    "duration": 666,
    "start_time": "2021-11-27T09:43:04.609Z"
   },
   {
    "duration": 685,
    "start_time": "2021-11-27T09:43:49.611Z"
   },
   {
    "duration": 678,
    "start_time": "2021-11-27T09:43:55.611Z"
   },
   {
    "duration": 707,
    "start_time": "2021-11-27T09:44:38.817Z"
   },
   {
    "duration": 177,
    "start_time": "2021-11-27T09:49:31.545Z"
   },
   {
    "duration": 759,
    "start_time": "2021-11-27T09:52:05.807Z"
   },
   {
    "duration": 9343,
    "start_time": "2021-11-27T09:52:45.793Z"
   },
   {
    "duration": 8,
    "start_time": "2021-11-27T09:53:09.936Z"
   },
   {
    "duration": 8,
    "start_time": "2021-11-27T09:53:21.363Z"
   },
   {
    "duration": 7,
    "start_time": "2021-11-27T09:53:47.957Z"
   },
   {
    "duration": 6,
    "start_time": "2021-11-27T09:55:49.600Z"
   },
   {
    "duration": 4,
    "start_time": "2021-11-27T09:56:53.516Z"
   },
   {
    "duration": 54,
    "start_time": "2021-11-27T09:58:24.301Z"
   },
   {
    "duration": 10,
    "start_time": "2021-11-27T09:58:51.774Z"
   },
   {
    "duration": 10,
    "start_time": "2021-11-27T09:59:16.324Z"
   },
   {
    "duration": 374,
    "start_time": "2021-11-27T09:59:33.261Z"
   },
   {
    "duration": 10,
    "start_time": "2021-11-27T09:59:39.796Z"
   },
   {
    "duration": 6,
    "start_time": "2021-11-27T10:00:01.811Z"
   },
   {
    "duration": 5,
    "start_time": "2021-11-27T10:00:14.073Z"
   },
   {
    "duration": 6,
    "start_time": "2021-11-27T10:00:30.033Z"
   },
   {
    "duration": 1013,
    "start_time": "2021-11-27T13:14:37.906Z"
   },
   {
    "duration": 382,
    "start_time": "2021-11-27T13:14:40.695Z"
   },
   {
    "duration": 3,
    "start_time": "2021-11-27T13:15:01.425Z"
   },
   {
    "duration": 25,
    "start_time": "2021-11-27T13:15:01.917Z"
   },
   {
    "duration": 20,
    "start_time": "2021-11-27T13:15:02.595Z"
   },
   {
    "duration": 16,
    "start_time": "2021-11-27T13:15:03.323Z"
   },
   {
    "duration": 9,
    "start_time": "2021-11-27T13:15:04.155Z"
   },
   {
    "duration": 9,
    "start_time": "2021-11-27T13:15:05.820Z"
   },
   {
    "duration": 33,
    "start_time": "2021-11-27T13:15:20.722Z"
   },
   {
    "duration": 26,
    "start_time": "2021-11-27T13:15:21.142Z"
   },
   {
    "duration": 19,
    "start_time": "2021-11-27T13:15:21.573Z"
   },
   {
    "duration": 6,
    "start_time": "2021-11-27T13:15:22.488Z"
   },
   {
    "duration": 18,
    "start_time": "2021-11-27T13:18:38.823Z"
   },
   {
    "duration": 13,
    "start_time": "2021-11-27T13:18:39.083Z"
   },
   {
    "duration": 7,
    "start_time": "2021-11-27T13:18:39.747Z"
   },
   {
    "duration": 111,
    "start_time": "2021-11-27T13:21:08.744Z"
   },
   {
    "duration": 26,
    "start_time": "2021-11-27T13:21:11.181Z"
   },
   {
    "duration": 21,
    "start_time": "2021-11-27T13:21:12.320Z"
   },
   {
    "duration": 17,
    "start_time": "2021-11-27T13:21:12.743Z"
   },
   {
    "duration": 16,
    "start_time": "2021-11-27T13:21:13.781Z"
   },
   {
    "duration": 28,
    "start_time": "2021-11-27T13:21:16.011Z"
   },
   {
    "duration": 6,
    "start_time": "2021-11-27T13:21:17.359Z"
   },
   {
    "duration": 5,
    "start_time": "2021-11-27T13:21:23.325Z"
   },
   {
    "duration": 176,
    "start_time": "2021-11-27T13:21:23.527Z"
   },
   {
    "duration": 11,
    "start_time": "2021-11-27T13:23:30.311Z"
   },
   {
    "duration": 338,
    "start_time": "2021-11-27T13:24:27.496Z"
   },
   {
    "duration": 60,
    "start_time": "2021-11-27T13:24:31.888Z"
   },
   {
    "duration": 72,
    "start_time": "2021-11-27T13:24:37.069Z"
   },
   {
    "duration": 70,
    "start_time": "2021-11-27T13:24:47.231Z"
   },
   {
    "duration": 69,
    "start_time": "2021-11-27T13:26:03.373Z"
   },
   {
    "duration": 25,
    "start_time": "2021-11-27T13:26:11.071Z"
   },
   {
    "duration": 19,
    "start_time": "2021-11-27T13:26:14.919Z"
   },
   {
    "duration": 15,
    "start_time": "2021-11-27T13:26:15.504Z"
   },
   {
    "duration": 14,
    "start_time": "2021-11-27T13:26:17.696Z"
   },
   {
    "duration": 28,
    "start_time": "2021-11-27T13:26:18.887Z"
   },
   {
    "duration": 6,
    "start_time": "2021-11-27T13:26:21.652Z"
   },
   {
    "duration": 4,
    "start_time": "2021-11-27T13:26:21.918Z"
   },
   {
    "duration": 174,
    "start_time": "2021-11-27T13:26:22.333Z"
   },
   {
    "duration": 172,
    "start_time": "2021-11-27T13:26:25.681Z"
   },
   {
    "duration": 275,
    "start_time": "2021-11-27T13:27:19.526Z"
   },
   {
    "duration": 6,
    "start_time": "2021-11-27T13:29:07.340Z"
   },
   {
    "duration": 407,
    "start_time": "2021-11-27T13:29:07.537Z"
   },
   {
    "duration": 365,
    "start_time": "2021-11-27T13:29:08.326Z"
   },
   {
    "duration": 2,
    "start_time": "2021-11-27T13:45:48.038Z"
   },
   {
    "duration": 1038,
    "start_time": "2021-11-27T13:49:43.079Z"
   },
   {
    "duration": 378,
    "start_time": "2021-11-27T13:49:44.119Z"
   },
   {
    "duration": 3,
    "start_time": "2021-11-27T13:49:44.499Z"
   },
   {
    "duration": 34,
    "start_time": "2021-11-27T13:49:44.503Z"
   },
   {
    "duration": 19,
    "start_time": "2021-11-27T13:49:44.539Z"
   },
   {
    "duration": 16,
    "start_time": "2021-11-27T13:49:44.560Z"
   },
   {
    "duration": 9,
    "start_time": "2021-11-27T13:49:44.577Z"
   },
   {
    "duration": 10,
    "start_time": "2021-11-27T13:49:44.588Z"
   },
   {
    "duration": 59,
    "start_time": "2021-11-27T13:49:44.600Z"
   },
   {
    "duration": 24,
    "start_time": "2021-11-27T13:49:44.661Z"
   },
   {
    "duration": 21,
    "start_time": "2021-11-27T13:49:44.686Z"
   },
   {
    "duration": 6,
    "start_time": "2021-11-27T13:49:44.709Z"
   },
   {
    "duration": 38,
    "start_time": "2021-11-27T13:49:44.717Z"
   },
   {
    "duration": 11,
    "start_time": "2021-11-27T13:49:44.757Z"
   },
   {
    "duration": 9,
    "start_time": "2021-11-27T13:49:44.770Z"
   },
   {
    "duration": 6,
    "start_time": "2021-11-27T13:49:44.781Z"
   },
   {
    "duration": 7,
    "start_time": "2021-11-27T13:49:44.789Z"
   },
   {
    "duration": 18,
    "start_time": "2021-11-27T13:49:44.797Z"
   },
   {
    "duration": 14,
    "start_time": "2021-11-27T13:49:44.845Z"
   },
   {
    "duration": 8,
    "start_time": "2021-11-27T13:49:44.861Z"
   },
   {
    "duration": 130,
    "start_time": "2021-11-27T13:49:44.870Z"
   },
   {
    "duration": 79,
    "start_time": "2021-11-27T13:49:45.001Z"
   },
   {
    "duration": 27,
    "start_time": "2021-11-27T13:49:45.082Z"
   },
   {
    "duration": 35,
    "start_time": "2021-11-27T13:49:45.111Z"
   },
   {
    "duration": 16,
    "start_time": "2021-11-27T13:49:45.147Z"
   },
   {
    "duration": 25,
    "start_time": "2021-11-27T13:49:45.165Z"
   },
   {
    "duration": 26,
    "start_time": "2021-11-27T13:49:45.191Z"
   },
   {
    "duration": 5,
    "start_time": "2021-11-27T13:49:45.219Z"
   },
   {
    "duration": 33,
    "start_time": "2021-11-27T13:49:45.225Z"
   },
   {
    "duration": 205,
    "start_time": "2021-11-27T13:49:45.259Z"
   },
   {
    "duration": 5,
    "start_time": "2021-11-27T13:49:45.465Z"
   },
   {
    "duration": 433,
    "start_time": "2021-11-27T13:49:45.472Z"
   },
   {
    "duration": 397,
    "start_time": "2021-11-27T13:49:45.906Z"
   },
   {
    "duration": 5,
    "start_time": "2021-11-27T13:49:46.305Z"
   },
   {
    "duration": 5,
    "start_time": "2021-11-27T13:49:46.312Z"
   },
   {
    "duration": 27,
    "start_time": "2021-11-27T13:49:46.319Z"
   },
   {
    "duration": 8,
    "start_time": "2021-11-27T13:49:46.348Z"
   },
   {
    "duration": 7,
    "start_time": "2021-11-27T13:49:46.357Z"
   },
   {
    "duration": 6,
    "start_time": "2021-11-27T13:49:46.366Z"
   },
   {
    "duration": 4,
    "start_time": "2021-11-27T13:49:46.374Z"
   },
   {
    "duration": 1147,
    "start_time": "2021-11-28T06:24:41.147Z"
   },
   {
    "duration": 421,
    "start_time": "2021-11-28T06:24:42.296Z"
   },
   {
    "duration": 4,
    "start_time": "2021-11-28T06:24:42.719Z"
   },
   {
    "duration": 29,
    "start_time": "2021-11-28T06:24:42.725Z"
   },
   {
    "duration": 19,
    "start_time": "2021-11-28T06:24:42.756Z"
   },
   {
    "duration": 32,
    "start_time": "2021-11-28T06:24:42.777Z"
   },
   {
    "duration": 10,
    "start_time": "2021-11-28T06:24:42.811Z"
   },
   {
    "duration": 11,
    "start_time": "2021-11-28T06:24:42.824Z"
   },
   {
    "duration": 32,
    "start_time": "2021-11-28T06:24:42.838Z"
   },
   {
    "duration": 49,
    "start_time": "2021-11-28T06:24:42.872Z"
   },
   {
    "duration": 18,
    "start_time": "2021-11-28T06:24:42.923Z"
   },
   {
    "duration": 6,
    "start_time": "2021-11-28T06:24:42.943Z"
   },
   {
    "duration": 21,
    "start_time": "2021-11-28T06:24:42.950Z"
   },
   {
    "duration": 11,
    "start_time": "2021-11-28T06:24:42.973Z"
   },
   {
    "duration": 30,
    "start_time": "2021-11-28T06:24:42.985Z"
   },
   {
    "duration": 6,
    "start_time": "2021-11-28T06:24:43.016Z"
   },
   {
    "duration": 7,
    "start_time": "2021-11-28T06:24:43.023Z"
   },
   {
    "duration": 18,
    "start_time": "2021-11-28T06:24:43.032Z"
   },
   {
    "duration": 13,
    "start_time": "2021-11-28T06:24:43.051Z"
   },
   {
    "duration": 43,
    "start_time": "2021-11-28T06:24:43.065Z"
   },
   {
    "duration": 121,
    "start_time": "2021-11-28T06:24:43.109Z"
   },
   {
    "duration": 85,
    "start_time": "2021-11-28T06:24:43.232Z"
   },
   {
    "duration": 30,
    "start_time": "2021-11-28T06:24:43.321Z"
   },
   {
    "duration": 20,
    "start_time": "2021-11-28T06:24:43.353Z"
   },
   {
    "duration": 41,
    "start_time": "2021-11-28T06:24:43.374Z"
   },
   {
    "duration": 16,
    "start_time": "2021-11-28T06:24:43.417Z"
   },
   {
    "duration": 29,
    "start_time": "2021-11-28T06:24:43.435Z"
   },
   {
    "duration": 5,
    "start_time": "2021-11-28T06:24:43.466Z"
   },
   {
    "duration": 6,
    "start_time": "2021-11-28T06:24:43.473Z"
   },
   {
    "duration": 208,
    "start_time": "2021-11-28T06:24:43.481Z"
   },
   {
    "duration": 5,
    "start_time": "2021-11-28T06:24:43.691Z"
   },
   {
    "duration": 453,
    "start_time": "2021-11-28T06:24:43.698Z"
   },
   {
    "duration": 407,
    "start_time": "2021-11-28T06:24:44.153Z"
   },
   {
    "duration": 4,
    "start_time": "2021-11-28T06:24:44.562Z"
   },
   {
    "duration": 12,
    "start_time": "2021-11-28T06:24:44.568Z"
   },
   {
    "duration": 14,
    "start_time": "2021-11-28T06:24:44.582Z"
   },
   {
    "duration": 7,
    "start_time": "2021-11-28T06:24:44.607Z"
   },
   {
    "duration": 9,
    "start_time": "2021-11-28T06:24:44.615Z"
   },
   {
    "duration": 5,
    "start_time": "2021-11-28T06:24:44.625Z"
   },
   {
    "duration": 5,
    "start_time": "2021-11-28T06:24:44.631Z"
   },
   {
    "duration": 4,
    "start_time": "2021-11-28T06:28:27.563Z"
   },
   {
    "duration": 5,
    "start_time": "2021-11-28T06:29:33.397Z"
   }
  ],
  "kernelspec": {
   "display_name": "Python 3",
   "language": "python",
   "name": "python3"
  },
  "language_info": {
   "codemirror_mode": {
    "name": "ipython",
    "version": 3
   },
   "file_extension": ".py",
   "mimetype": "text/x-python",
   "name": "python",
   "nbconvert_exporter": "python",
   "pygments_lexer": "ipython3",
   "version": "3.7.4"
  },
  "toc": {
   "base_numbering": 1,
   "nav_menu": {},
   "number_sections": true,
   "sideBar": true,
   "skip_h1_title": true,
   "title_cell": "Table of Contents",
   "title_sidebar": "Contents",
   "toc_cell": false,
   "toc_position": {},
   "toc_section_display": true,
   "toc_window_display": false
  }
 },
 "nbformat": 4,
 "nbformat_minor": 2
}
